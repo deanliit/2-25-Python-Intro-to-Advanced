{
  "nbformat": 4,
  "nbformat_minor": 0,
  "metadata": {
    "colab": {
      "provenance": []
    },
    "kernelspec": {
      "name": "python3",
      "display_name": "Python 3"
    },
    "language_info": {
      "name": "python"
    }
  },
  "cells": [
    {
      "cell_type": "markdown",
      "source": [
        "#Python Course II - Weekly class demos and Exercises summary  \n",
        "- (Mon, Wed) - (8am-10:30am) - (2.5h class/demos/labs) / 30 min practice\n",
        "- Course II - 9 weeks\n",
        "- Weekly Assignments - 20 hours - due next week Monday\n",
        "- 3 Class Quizzes\n",
        "- 3 Data Analysis Quizzes - short data sql code example\n",
        "- Step-by-tep class topic demos\n",
        "\n",
        "#Github Course Notebook Refence\n",
        "\n",
        "https://github.com/deanliit/2-25-Python-Intro-to-Advanced\n",
        "\n",
        "## Python references\n",
        "- Course book\n"
      ],
      "metadata": {
        "id": "kkf01IuMAr4_"
      }
    },
    {
      "cell_type": "markdown",
      "source": [
        "## Python Course II Weekly Class Assignment #3\n",
        "<pre>\n",
        "<xmp>\n",
        "\n",
        "Reading Assignments:\n",
        "\n",
        "https://www.w3schools.com/python/pandas/pandas_csv.asp\n",
        "Read csv\n",
        "\n",
        "https://www.w3schools.com/python/pandas/pandas_json.asp\n",
        "Read Json\n",
        "\n",
        "https://www.w3schools.com/python/pandas/pandas_analyzing.asp\n",
        "Analyzing data\n",
        "\n",
        "Assignment Exercises:\n",
        "Complete all of the exercises, display output from each exercises\n",
        "Optional create exercises in Google Colabs notebooks\n",
        "\n",
        "Create a google collabs notebooks\n",
        "Create code in vs.code\n",
        "Complete all of the exercises, display output from each exercises\n",
        "Python tutorial examples\n",
        "\n",
        "https://www.w3schools.com/python/pandas/pandas_csv.asp\n",
        "Read csv\n",
        "\n",
        "https://www.w3schools.com/python/pandas/pandas_json.asp\n",
        "Read Json\n",
        "\n",
        "https://www.w3schools.com/python/pandas/pandas_analyzing.asp\n",
        "Analyzing data\n",
        "\n",
        "Python Course Book Chapter\n",
        "Intermediate Exercises\n",
        "\n",
        "</xmp>\n",
        "</pre>"
      ],
      "metadata": {
        "id": "Y6PvWvErkYoo"
      }
    },
    {
      "cell_type": "markdown",
      "source": [
        "Introduction to Python\n",
        "\n",
        "https://www.w3schools.com/python/python_intro.asp\n",
        "\n",
        "\n",
        "<pre>\n",
        "\n",
        "---------------------------------------------\n",
        "#Course II Module Summary\n",
        "-----------------------------------------------\n",
        "\n",
        "Module #1\n",
        "- Git, GitHub introduction\n",
        "- Creating python command line applications\n",
        "- Python main app  __name__\n",
        "- Parameter array: *args, **kvargs\n",
        "- Import Modules\n",
        "- Error handling\n",
        "- pip install python-library-name\n",
        "- Course I review\n",
        "- Other\n",
        "\n",
        "Moduls #2\n",
        "- Python Data Analysis, EDA, ETL\n",
        "- Pandas\n",
        "- Graphs\n",
        "- SQL\n",
        "- Other\n",
        "\n",
        "Module #3\n",
        "- Class, OOP\n",
        "- Lamda\n",
        "- Other\n",
        "\n",
        "Module #4\n",
        "- Html introduction\n",
        "- Beautiful soup screen scraping\n",
        "- Other\n",
        "\n",
        "Module 5\n",
        "- Python ai, ml, npl introduction\n",
        "- PCAP Exam prep\n",
        "- Other\n",
        "\n",
        "</pre>\n",
        "\n"
      ],
      "metadata": {
        "id": "lhHzTF-3wluD"
      }
    },
    {
      "cell_type": "code",
      "source": [
        "#-- weekly topic summary\n",
        "#\n",
        "#Data Analysis\n",
        "#Other\n",
        "\n",
        "#Numpy - array management and mani[pultaion ]\n",
        "#https://www.programiz.com/python-programming/numpy/array-creation\n",
        "\n",
        "#Pandas\n",
        "#https://www.programiz.com/python-programming/pandas/getting-started\n",
        "\n",
        "#Pandas sql comparison\n",
        "#https://pandas.pydata.org/docs/getting_started/comparison/comparison_with_sql.html\n"
      ],
      "metadata": {
        "id": "-Z87eNhJI8F7"
      },
      "execution_count": null,
      "outputs": []
    },
    {
      "cell_type": "markdown",
      "source": [
        "#Data Analysis - EDA, ETL, ELT, SQL\n",
        "- Pandas - unstructured data, text files, json and structured data ie: dataframe\n",
        "- Numpy - used to create and manage arrays\n",
        "- SQL - structured data , Structured Query Language\n",
        "\n",
        "<pre>\n",
        "<xmp>\n",
        "EDA, ETL, ELT, SQL AI/ML\n",
        "----------------------------------------------------------\n",
        "\n",
        "https://www.programiz.com/python-programming/pandas/dataframe-manipulation\n",
        "\n",
        "https://www.w3schools.com/python/pandas/pandas_intro.asp\n",
        "\n",
        "\n",
        "#Data analysis - (EDA)\n",
        "\n",
        "https://www.programiz.com/python-programming/pandas/getting-started\n",
        "\n",
        "\n",
        "  - business intelligence - ie: charts, graphs, visualize data, dashboard, manually make predictions, reccomendations\n",
        "  - EDA - Eploritory Data Analysis\n",
        "- manipulating - sql and text or no-sql data\n",
        "- create, update, delete - (CRUD)\n",
        "- filtering and selecting data\n",
        "- remove null or error data\n",
        "- grouping data\n",
        "- create graph and charts\n",
        "- Other\n",
        "\n",
        "#ETL - Extract Transform Load\n",
        "- extract importing data or read in data\n",
        "- Transofrom - converting data to a dataframe or new data view ie: SQL, pandas\n",
        "- Load - exporting data to a source\n",
        "- custom code - ELT or ELT tools -\n",
        "- Source - Trnsfoprm - Destination\n",
        "\n",
        "</xmp>\n",
        "</pre>"
      ],
      "metadata": {
        "id": "WoFhQ5Ba3CXW"
      }
    },
    {
      "cell_type": "code",
      "source": [
        "#https://www.programiz.com/python-programming/pandas/indexing-slicing\n",
        "\n",
        "import pandas as pd\n",
        "\n",
        "# create a DataFrame\n",
        "data = {\n",
        "    'Name': ['Alice', 'Bob', 'Charlie', 'David', 'Eve'],\n",
        "    'Age': [25, 32, 18, 47, 33],\n",
        "    'City': ['New York', 'Paris', 'London', 'Tokyo', 'Sydney']\n",
        "}\n",
        "\n",
        "df = pd.DataFrame(data)\n",
        "\n",
        "# access the Name column\n",
        "\n",
        "#ie: sql select name from table\n",
        "names = df['Name']\n",
        "\n",
        "#select name, city from table\n",
        "name_city = df[['Name','City']]\n",
        "\n",
        "print(names)\n",
        "print(name_city)\n"
      ],
      "metadata": {
        "id": "9kXEj11BzDw0",
        "colab": {
          "base_uri": "https://localhost:8080/"
        },
        "outputId": "b97b4b05-246a-4767-a26d-1cfc447cc1c7"
      },
      "execution_count": 2,
      "outputs": [
        {
          "output_type": "stream",
          "name": "stdout",
          "text": [
            "0      Alice\n",
            "1        Bob\n",
            "2    Charlie\n",
            "3      David\n",
            "4        Eve\n",
            "Name: Name, dtype: object\n",
            "      Name      City\n",
            "0    Alice  New York\n",
            "1      Bob     Paris\n",
            "2  Charlie    London\n",
            "3    David     Tokyo\n",
            "4      Eve    Sydney\n"
          ]
        }
      ]
    },
    {
      "cell_type": "code",
      "source": [
        "import pandas as pd\n",
        "\n",
        "# create a DataFrame\n",
        "data = {\n",
        "    'Name': ['Alice', 'Bob', 'Charlie', 'David', 'Eve'],\n",
        "    'Age': [25, 32, 18, 47, 33],\n",
        "    'City': ['New York', 'Paris', 'London', 'Tokyo', 'Sydney']\n",
        "}\n",
        "df = pd.DataFrame(data)\n",
        "\n",
        "# access a single row\n",
        "single_row = df.loc[2]\n",
        "\n",
        "print(\"Single row:\")\n",
        "print(single_row)\n",
        "print()\n",
        "\n",
        "# access rows 0, 3 and 4\n",
        "row_list = df.loc[[0, 3, 4]]\n",
        "\n",
        "print(\"List of Rows:\")\n",
        "print(row_list)\n",
        "print()\n",
        "\n",
        "# access a list of columns\n",
        "column_list = df.loc[:,['Name', 'Age']]\n",
        "\n",
        "print(\"List of Columns:\")\n",
        "print(column_list)\n",
        "print()\n",
        "\n",
        "# access second row of 'Name' column\n",
        "specific_value = df.loc[1, 'Name']\n",
        "\n",
        "print(\"Specific Value:\")\n",
        "print(specific_value)\n"
      ],
      "metadata": {
        "id": "hIifWYRFYX-m"
      },
      "execution_count": null,
      "outputs": []
    },
    {
      "cell_type": "code",
      "source": [
        "import pandas as pd\n",
        "\n",
        "# create a DataFrame\n",
        "data = {\n",
        "    'Name': ['Alice', 'Bob', 'Charlie', 'David', 'Eve'],\n",
        "    'Age': [25, 32, 18, 47, 33],\n",
        "    'City': ['New York', 'Paris', 'London', 'Tokyo', 'Sydney']\n",
        "}\n",
        "\n",
        "df = pd.DataFrame(data)\n",
        "\n",
        "# boolean indexing with .loc\n",
        "#boolean_index = df.loc[df['Age'] > 30]\n",
        "#boolean_index = df.iloc[df['Age'] > 30] #n/a\n",
        "#or\n",
        "#boolean_index = df.loc[[1,3,4]]\n",
        "boolean_index = df.iloc[[1,3,4]]\n",
        "\n",
        "print(\"Filtered DataFrame: \")\n",
        "print(boolean_index)"
      ],
      "metadata": {
        "colab": {
          "base_uri": "https://localhost:8080/"
        },
        "id": "CLQtyEbKZOCj",
        "outputId": "835b892b-22f7-4c86-b251-0240ccedc0e5"
      },
      "execution_count": 5,
      "outputs": [
        {
          "output_type": "stream",
          "name": "stdout",
          "text": [
            "Filtered DataFrame: \n",
            "    Name  Age    City\n",
            "1    Bob   32   Paris\n",
            "3  David   47   Tokyo\n",
            "4    Eve   33  Sydney\n"
          ]
        }
      ]
    },
    {
      "cell_type": "code",
      "source": [
        "import pandas as pd\n",
        "\n",
        "# create a DataFrame\n",
        "data = {\n",
        "    'Name': ['Alice', 'Bob', 'Charlie', 'David', 'Eve'],\n",
        "    'Age': [25, 30, 22, 27, 29],\n",
        "    'Salary': [50000, 60000, 45000, 55000, 52000]\n",
        "}\n",
        "\n",
        "df = pd.DataFrame(data)\n",
        "\n",
        "# selecting a single column\n",
        "name_column = df['Name']\n",
        "\n",
        "print(\"Selecting single column: Name\")\n",
        "print(name_column)\n",
        "print()\n",
        "\n",
        "# selecting multiple columns\n",
        "age_salary_columns = df[['Age', 'Salary']]\n",
        "\n",
        "print(\"Selecting multiple columns: Age and Salary\")\n",
        "print(age_salary_columns.to_string(index=False))\n",
        "print()\n",
        "\n",
        "# selecting rows using slicing\n",
        "selected_rows = df[1:4]\n",
        "\n",
        "print(\"Selecting rows 1 to 3\")\n",
        "print(selected_rows.to_string(index=False))\n",
        "print()"
      ],
      "metadata": {
        "id": "vf3G5RY0lFnV"
      },
      "execution_count": null,
      "outputs": []
    },
    {
      "cell_type": "code",
      "source": [
        "import pandas as pd\n",
        "\n",
        "data = {\n",
        "    'Name': ['Alice', 'Bob', 'Charlie', 'David', 'Eva'],\n",
        "    'Age': [25, 30, 22, 28, 35],\n",
        "    'Score': [85, 90, 75, 80, 95]\n",
        "}\n",
        "\n",
        "df = pd.DataFrame(data)\n",
        "\n",
        "# select the rows where the age is greater than 25\n",
        "selected_rows = df.query('Age > 25')\n",
        "\n",
        "print(selected_rows.to_string(index = False))"
      ],
      "metadata": {
        "id": "JUqWscxwlqZc"
      },
      "execution_count": null,
      "outputs": []
    },
    {
      "cell_type": "code",
      "source": [
        "import pandas as pd\n",
        "\n",
        "data = {\n",
        "    'Name': ['Alice', 'Bob', 'Charlie', 'David', 'Emily'],\n",
        "    'Age': [25, 30, 22, 28, 24]\n",
        "}\n",
        "\n",
        "df = pd.DataFrame(data)\n",
        "\n",
        "# create a list of names to select\n",
        "names_to_filter = ['Bob', 'David']\n",
        "\n",
        "# use isin() to select rows based on the 'Name' column\n",
        "selected_rows = df[df['Name'].isin(names_to_filter)]\n",
        "\n",
        "print(selected_rows.to_string(index = False))"
      ],
      "metadata": {
        "id": "Ee39G1AgmBpx"
      },
      "execution_count": null,
      "outputs": []
    },
    {
      "cell_type": "code",
      "source": [
        "import pandas as pd\n",
        "\n",
        "# create dataframe\n",
        "data = {\n",
        "    'Name': ['John', 'Anna', 'Johnny', 'Anna', 'John'],\n",
        "    'Age': [28, 24, 28, 24, 19],\n",
        "    'City': ['New York', 'Las Vegas', 'New York', 'Los Angeles', 'Chicago']\n",
        "}\n",
        "\n",
        "df = pd.DataFrame(data)\n",
        "\n",
        "# check for duplicate entries in columns Name and Age\n",
        "print(df.duplicated(subset=['Name', 'Age']))\n"
      ],
      "metadata": {
        "id": "QJmrIbB0qrBO"
      },
      "execution_count": null,
      "outputs": []
    },
    {
      "cell_type": "code",
      "source": [
        "import pandas as pd\n",
        "\n",
        "# create dataframe\n",
        "data = {\n",
        "    'Name': ['John', 'Anna', 'John', 'Anna', 'John'],\n",
        "    'Age': [28, 24, 28, 24, 19],\n",
        "    'City': ['New York', 'Los Angeles', 'New York', 'Los Angeles', 'Chicago']\n",
        "}\n",
        "df = pd.DataFrame(data)\n",
        "\n",
        "# remove duplicates\n",
        "df.drop_duplicates(inplace=True)\n",
        "\n",
        "print(df)\n"
      ],
      "metadata": {
        "id": "1mMeVurHq6BE"
      },
      "execution_count": null,
      "outputs": []
    },
    {
      "cell_type": "code",
      "source": [
        "#https://www.programiz.com/python-programming/pandas/data-cleaning\n",
        "\n",
        "#https://www.programiz.com/python-programming/pandas/datetime\n",
        "\n",
        "#https://www.programiz.com/python-programming/pandas/plot\n",
        "\n",
        "\n",
        "\n"
      ],
      "metadata": {
        "id": "hRnxFq4WriaE"
      },
      "execution_count": null,
      "outputs": []
    },
    {
      "cell_type": "code",
      "source": [],
      "metadata": {
        "id": "UMbrBemfqxCU"
      },
      "execution_count": null,
      "outputs": []
    },
    {
      "cell_type": "code",
      "source": [
        "import pandas as pd\n",
        "\n",
        "# create a DataFrame\n",
        "data = {\n",
        "    'Name': ['Alice', 'Bob', 'Charlie', 'David', 'Eve'],\n",
        "    'Age': [25, 32, 18, 47, 33],\n",
        "    'City': ['New York', 'Paris', 'London', 'Tokyo', 'Sydney']\n",
        "}\n",
        "df = pd.DataFrame(data)\n",
        "\n",
        "# access single row\n",
        "single_row = df.iloc[2]\n",
        "\n",
        "# access rows 0, 3 and 4\n",
        "row_list = df.iloc[[0, 3, 4]]\n",
        "\n",
        "# access columns 0 and 2\n",
        "column_list = df.iloc[:,[0,2]]\n",
        "\n",
        "# access a specific value\n",
        "specific_value = df.iloc[1, 0]\n",
        "\n",
        "# display result\n",
        "print(\"Single Row:\")\n",
        "print(single_row)\n",
        "print()\n",
        "print(\"List of Rows:\")\n",
        "print(row_list)\n",
        "print()\n",
        "print(\"List of Columns:\")\n",
        "print(column_list)\n",
        "print()\n",
        "print(\"Specific Value:\")\n",
        "print(specific_value)\n"
      ],
      "metadata": {
        "id": "pCa72kEqapE2"
      },
      "execution_count": null,
      "outputs": []
    },
    {
      "cell_type": "code",
      "source": [
        "import pandas as pd\n",
        "\n",
        "# create a sample DataFrame\n",
        "data = {\n",
        "    'Name': ['Alice', 'Bob', 'Charlie', 'David', 'Eve'],\n",
        "    'Age': [25, 32, 18, 47, 33],\n",
        "    'City': ['New York', 'Paris', 'London', 'Tokyo', 'Sydney']\n",
        "}\n",
        "df = pd.DataFrame(data)\n",
        "\n",
        "# slice rows from position 1 to 3\n",
        "slice_rows = df.iloc[1:4]\n",
        "\n",
        "# slice columns from position 0 to 1\n",
        "slice_columns = df.iloc[:, 0:2]\n",
        "\n",
        "# display results\n",
        "print(\"Sliced Rows:\")\n",
        "print(slice_rows)\n",
        "print()\n",
        "print(\"Sliced Columns:\")\n",
        "print(slice_columns)\n"
      ],
      "metadata": {
        "id": "YRy9zwCJaySA"
      },
      "execution_count": null,
      "outputs": []
    }
  ]
}