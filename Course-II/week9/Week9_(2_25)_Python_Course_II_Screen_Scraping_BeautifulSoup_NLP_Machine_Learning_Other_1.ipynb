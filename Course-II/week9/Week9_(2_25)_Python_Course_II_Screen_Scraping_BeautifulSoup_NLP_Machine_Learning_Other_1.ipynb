{
  "nbformat": 4,
  "nbformat_minor": 0,
  "metadata": {
    "colab": {
      "provenance": []
    },
    "kernelspec": {
      "name": "python3",
      "display_name": "Python 3"
    },
    "language_info": {
      "name": "python"
    }
  },
  "cells": [
    {
      "cell_type": "markdown",
      "source": [
        "#Python Course II - Weekly class demos and Exercises summary  \n",
        "- (Mon, Wed) - (8am-10:30am) - (2.5h class/demos/labs) / 30 min practice\n",
        "- Course II - 9 weeks\n",
        "- Weekly Assignments - 20 hours - due next week Monday\n",
        "- 3 Class Quizzes\n",
        "- 3 Data Analysis Quizzes - short data sql code example\n",
        "- Step-by-tep class topic demos\n",
        "\n",
        "#Github Course Notebook Refence\n",
        "\n",
        "https://github.com/deanliit/2-25-Python-Intro-to-Advanced\n",
        "\n",
        "## Python references\n",
        "- Course book\n"
      ],
      "metadata": {
        "id": "kkf01IuMAr4_"
      }
    },
    {
      "cell_type": "markdown",
      "source": [
        "## Python Course II Weekly Class Assignment #9\n",
        "<pre>\n",
        "<xmp>\n",
        "Reading Assignments:\n",
        "Python tutorial\n",
        "https://www.w3schools.com/python/python_ml_getting_started.asp\n",
        "\n",
        "Machine learning\n",
        "Machine Learning - Linear Regression\n",
        "Machine Learning - Decision Tree\n",
        "\n",
        "Assignment Exercises:\n",
        "Complete all of the exercises, display output from each exercises\n",
        "Optional create exercises in Google Colabs notebooks\n",
        "\n",
        "Create a google collabs notebooks\n",
        "Create code in vs.code\n",
        "Complete all of the exercises, display output from each exercises\n",
        "\n",
        "Python tutorial examples\n",
        "https://www.w3schools.com/python/python_ml_getting_started.asp\n",
        "\n",
        "Machine Learning - Linear Regression\n",
        "Machine Learning - Decision Tree\n",
        "Python Course Book Chapter\n",
        "Intermediate Exercises\n",
        "\n",
        "</xmp>\n",
        "</pre>"
      ],
      "metadata": {
        "id": "Y6PvWvErkYoo"
      }
    },
    {
      "cell_type": "markdown",
      "source": [
        "Introduction to Python\n",
        "\n",
        "https://www.w3schools.com/python/python_intro.asp\n",
        "\n",
        "\n",
        "<pre>\n",
        "\n",
        "---------------------------------------------\n",
        "#Course II Module Summary\n",
        "-----------------------------------------------\n",
        "\n",
        "Module #1\n",
        "- Git, GitHub introduction\n",
        "- Creating python command line applications\n",
        "- Python main app  __name__\n",
        "- Parameter array: *args, **kvargs\n",
        "- Import Modules\n",
        "- Error handling\n",
        "- pip install python-library-name\n",
        "- Course I review\n",
        "- Other\n",
        "\n",
        "Module #2\n",
        "- Python Data Analysis, EDA, ETL\n",
        "- Pandas\n",
        "- Graphs\n",
        "- SQL\n",
        "- Other\n",
        "\n",
        "Module #3\n",
        "- Object Oriented Programming, OOP, class\n",
        "- Lamda, functional programming\n",
        "- Other\n",
        "\n",
        "Module #4\n",
        "- Html introduction\n",
        "- Beautiful soup screen scraping\n",
        "- Other\n",
        "\n",
        "Module 5\n",
        "- Python ai, ml, npl introduction\n",
        "- PCAP Exam prep\n",
        "- Course review\n",
        "- job boards - roles, entry/mid level, keyword: python\n",
        "- Other\n",
        "\n",
        "</pre>\n",
        "\n"
      ],
      "metadata": {
        "id": "lhHzTF-3wluD"
      }
    },
    {
      "cell_type": "markdown",
      "source": [
        "# nlp - natural language processing, text searching chapter 9\n",
        "- ie: search engines, screen scraping, elastic search, chat bots, elixis\n",
        "\n",
        "https://realpython.com/nltk-nlp-python/\n",
        "\n",
        "https://realpython.com/natural-language-processing-spacy-python/\n",
        "\n",
        "\n",
        "### Applications of NLP\n",
        "- search engine\n",
        "- prompt engineering\n",
        "- other\n",
        "\n"
      ],
      "metadata": {
        "id": "6SBTp0PaIE9u"
      }
    },
    {
      "cell_type": "markdown",
      "source": [
        "# Python web screen scraping demo #1\n",
        "- extract data from a web page using Beattiful Soup python library\n",
        "\n",
        "<pre>\n",
        "<xmp>\n",
        "create a webpage/web document or html snipit/fragment\n",
        "formats tags around text/data or image/video/data or links\n",
        "begin/end, open/close tags/element\n",
        "html, head, body\n",
        "formatting : h1, b, i, other\n",
        "install beautiful soup library\n",
        "pip install beautifulsoup4\n",
        "or\n",
        "python -m pip install beautifulsoup4\n",
        "extra data from html page or fragment\n",
        "html, head, body, title, h1\n",
        "</xmp>\n",
        "</pre>"
      ],
      "metadata": {
        "id": "IUAgmt0uAfmp"
      }
    },
    {
      "cell_type": "code",
      "source": [
        "#Introduction to screen scvraping using Python library - beattifulsoup\n",
        "\n",
        "#extracting data from a webpage or xml document using python - beattifulsoup\n",
        "\n",
        "#https://stackabuse.com/guide-to-parsing-html-with-beautifulsoup-in-python/\n"
      ],
      "metadata": {
        "id": "xY3g5SsyA1Ej"
      },
      "execution_count": null,
      "outputs": []
    },
    {
      "cell_type": "markdown",
      "source": [
        "#web page demo\n",
        "- sourround data with begin/end tags ie: html ,head, body, p, h1, a, imag, other\n",
        "- using beautiful soup we can extract all html document informaiton\n",
        "- beautiful can extract web pages and text documents\n",
        "<pre>\n",
        "<xmp>\n",
        "<html>\n",
        "<head>\n",
        "  <title>Head's title</title>\n",
        "</head>\n",
        "<body>\n",
        "  <p class=\"title\"><b>Body's title</b></p>\n",
        "  <p class=\"story\">Line begins\n",
        "    <a href=\"http://example.com/element1\" class=\"element\" id=\"link1\">1</a>\n",
        "    <a href=\"http://example.com/element2\" class=\"element\" id=\"link2\">2</a>\n",
        "    <a href=\"http://example.com/avatar1\" class=\"avatar\" id=\"link3\">3</a>\n",
        "  <p> line ends</p>\n",
        "</body>\n",
        "</html>\n",
        "</xmp>\n",
        "</pre>\n"
      ],
      "metadata": {
        "id": "KvdOzq2OK-mj"
      }
    },
    {
      "cell_type": "markdown",
      "source": [
        "#Machine Learning fundamentals using python\n",
        "- https://www.w3schools.com/python/python_ml_getting_started.asp\n"
      ],
      "metadata": {
        "id": "5pVS9VXaMIKQ"
      }
    },
    {
      "cell_type": "code",
      "source": [],
      "metadata": {
        "id": "IPZHQ3B9QNtp"
      },
      "execution_count": null,
      "outputs": []
    },
    {
      "cell_type": "markdown",
      "source": [
        "#Python exam PCAP review\n",
        "\n",
        "#Course Summary Q/A\n"
      ],
      "metadata": {
        "id": "Vy0RhXWHQPS4"
      }
    },
    {
      "cell_type": "code",
      "source": [
        "#pcap - associate quiz - dec - 2023 - 162 question\n",
        "#---------------------------------------------------\n",
        "\n",
        "#question 3\n",
        "\n",
        "import random\n",
        "\n",
        "v1 = random.random()\n",
        "v2 = random.random()\n",
        "\n",
        "print(\"v1:\", v1)\n",
        "print(\"v2:\", v2)\n",
        "\n",
        "rsample = random.sample([1,2,3],2)\n",
        "l = len(random.sample([1,2,3],2))\n",
        "crandom = random.choice([1,2,3])\n",
        "\n",
        "print(\"rsample:\")\n",
        "print(rsample)\n",
        "print(\"crandom\")\n",
        "print(crandom)\n",
        "print(\"len(random[1,2,3],2): \",l)\n",
        "print(\"v1 == v2\",v1 == v2)\n",
        "\n"
      ],
      "metadata": {
        "colab": {
          "base_uri": "https://localhost:8080/"
        },
        "id": "04eA2_5u0SjY",
        "outputId": "6b981ba0-9575-4c94-a29f-4399bfd659b6"
      },
      "execution_count": 11,
      "outputs": [
        {
          "output_type": "stream",
          "name": "stdout",
          "text": [
            "v1: 0.9924205892820331\n",
            "v2: 0.9488142152386446\n",
            "rsample:\n",
            "[2, 1]\n",
            "crandom\n",
            "1\n",
            "len(random[1,2,3],2):  2\n",
            "v1 == v2 False\n"
          ]
        }
      ]
    },
    {
      "cell_type": "code",
      "source": [
        "#dir - directory list of all module functions/classes\n",
        "#mut import library\n",
        "import sys\n",
        "print(dir(sys))\n",
        "print(type(dir(sys)))\n"
      ],
      "metadata": {
        "colab": {
          "base_uri": "https://localhost:8080/"
        },
        "id": "vQadZJJl79bX",
        "outputId": "385c93ee-8633-44e5-e05c-43e3d19b164a"
      },
      "execution_count": 13,
      "outputs": [
        {
          "output_type": "stream",
          "name": "stdout",
          "text": [
            "['__breakpointhook__', '__displayhook__', '__doc__', '__excepthook__', '__interactivehook__', '__loader__', '__name__', '__package__', '__spec__', '__stderr__', '__stdin__', '__stdout__', '__unraisablehook__', '_base_executable', '_clear_type_cache', '_current_exceptions', '_current_frames', '_debugmallocstats', '_framework', '_getframe', '_getquickenedcount', '_git', '_home', '_stdlib_dir', '_xoptions', 'abiflags', 'addaudithook', 'api_version', 'argv', 'audit', 'base_exec_prefix', 'base_prefix', 'breakpointhook', 'builtin_module_names', 'byteorder', 'call_tracing', 'copyright', 'displayhook', 'dont_write_bytecode', 'exc_info', 'excepthook', 'exception', 'exec_prefix', 'executable', 'exit', 'flags', 'float_info', 'float_repr_style', 'get_asyncgen_hooks', 'get_coroutine_origin_tracking_depth', 'get_int_max_str_digits', 'getallocatedblocks', 'getdefaultencoding', 'getdlopenflags', 'getfilesystemencodeerrors', 'getfilesystemencoding', 'getprofile', 'getrecursionlimit', 'getrefcount', 'getsizeof', 'getswitchinterval', 'gettrace', 'hash_info', 'hexversion', 'implementation', 'int_info', 'intern', 'is_finalizing', 'last_traceback', 'last_type', 'last_value', 'maxsize', 'maxunicode', 'meta_path', 'modules', 'orig_argv', 'path', 'path_hooks', 'path_importer_cache', 'platform', 'platlibdir', 'prefix', 'ps1', 'ps2', 'ps3', 'pycache_prefix', 'set_asyncgen_hooks', 'set_coroutine_origin_tracking_depth', 'set_int_max_str_digits', 'setdlopenflags', 'setprofile', 'setrecursionlimit', 'setswitchinterval', 'settrace', 'stderr', 'stdin', 'stdlib_module_names', 'stdout', 'thread_info', 'unraisablehook', 'version', 'version_info', 'warnoptions']\n",
            "<class 'list'>\n"
          ]
        }
      ]
    }
  ]
}