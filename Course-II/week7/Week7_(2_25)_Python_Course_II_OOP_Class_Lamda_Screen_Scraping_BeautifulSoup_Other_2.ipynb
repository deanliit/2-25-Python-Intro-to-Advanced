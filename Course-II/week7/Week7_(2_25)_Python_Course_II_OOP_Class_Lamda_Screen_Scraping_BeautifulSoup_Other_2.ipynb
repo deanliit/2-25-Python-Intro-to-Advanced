{
  "nbformat": 4,
  "nbformat_minor": 0,
  "metadata": {
    "colab": {
      "provenance": []
    },
    "kernelspec": {
      "name": "python3",
      "display_name": "Python 3"
    },
    "language_info": {
      "name": "python"
    }
  },
  "cells": [
    {
      "cell_type": "markdown",
      "source": [
        "#Python Course II - Weekly class demos and Exercises summary  \n",
        "- (Mon, Wed) - (8am-10:30am) - (2.5h class/demos/labs) / 30 min practice\n",
        "- Course II - 9 weeks\n",
        "- Weekly Assignments - 20 hours - due next week Monday\n",
        "- 3 Class Quizzes\n",
        "- 3 Data Analysis Quizzes - short data sql code example\n",
        "- Step-by-tep class topic demos\n",
        "\n",
        "#Github Course Notebook Refence\n",
        "\n",
        "https://github.com/deanliit/2-25-Python-Intro-to-Advanced\n",
        "\n",
        "## Python references\n",
        "- Course book\n"
      ],
      "metadata": {
        "id": "kkf01IuMAr4_"
      }
    },
    {
      "cell_type": "markdown",
      "source": [
        "## Python Course II Weekly Class Assignment #7\n",
        "<pre>\n",
        "<xmp>\n",
        "Reading Assignments:\n",
        "\n",
        "https://www.w3schools.com/python/python_mysql_getstarted.asp#gsc.tab=0\n",
        "Insert data\n",
        "Update data\n",
        "Delete data  \n",
        "Select data\n",
        "Where , order by, other\n",
        "\n",
        "Assignment Exercises:\n",
        "Complete all of the exercises, display output from each exercises\n",
        "Optional create exercises in Google Colabs notebooks\n",
        "\n",
        "Create a google collabs notebooks\n",
        "Create code in vs.code\n",
        "Complete all of the exercises, display output from each exercises\n",
        "\n",
        "Python tutorial examples\n",
        "https://www.w3schools.com/python/python_mysql_getstarted.asp#gsc.tab=0\n",
        "\n",
        "Insert data\n",
        "Update data\n",
        "Delete data  \n",
        "Select data\n",
        "Where, order by, other\n",
        "\n",
        "Python Course Book Chapter\n",
        "Intermediate Exercises\n",
        "\n",
        "</xmp>\n",
        "</pre>"
      ],
      "metadata": {
        "id": "Y6PvWvErkYoo"
      }
    },
    {
      "cell_type": "markdown",
      "source": [
        "Introduction to Python\n",
        "\n",
        "https://www.w3schools.com/python/python_intro.asp\n",
        "\n",
        "\n",
        "<pre>\n",
        "\n",
        "---------------------------------------------\n",
        "#Course II Module Summary\n",
        "-----------------------------------------------\n",
        "\n",
        "Module #1\n",
        "- Git, GitHub introduction\n",
        "- Creating python command line applications\n",
        "- Python main app  __name__\n",
        "- Parameter array: *args, **kvargs\n",
        "- Import Modules\n",
        "- Error handling\n",
        "- pip install python-library-name\n",
        "- Course I review\n",
        "- Other\n",
        "\n",
        "Module #2\n",
        "- Python Data Analysis, EDA, ETL\n",
        "- Pandas\n",
        "- Graphs\n",
        "- SQL\n",
        "- Other\n",
        "\n",
        "Module #3\n",
        "- Object Oriented Programming, OOP, class\n",
        "- Lamda, functional programming\n",
        "- Other\n",
        "\n",
        "Module #4\n",
        "- Html introduction\n",
        "- Beautiful soup screen scraping\n",
        "- Other\n",
        "\n",
        "Module 5\n",
        "- Python ai, ml, npl introduction\n",
        "- PCAP Exam prep\n",
        "- Course review\n",
        "- job boards - roles, entry/mid level, keyword: python\n",
        "- Other\n",
        "\n",
        "</pre>\n",
        "\n"
      ],
      "metadata": {
        "id": "lhHzTF-3wluD"
      }
    },
    {
      "cell_type": "markdown",
      "source": [
        "# Object Oriented Programming Summary\n",
        "## OOP, Class Lamda\n",
        "\n",
        "<pre>\n",
        "<xmp>\n",
        "#https://www.w3schools.com/python/python_classes.asp\n",
        "\n",
        "#https://www.w3schools.com/python/python_lambda.asp\n",
        "\n",
        "#https://www.freecodecamp.org/news/python-lambda-functions/\n",
        "- re-use code in other projects\n",
        "- modify and extend code without changing previsous code\n",
        "- as project requirements increase, add oop to re-use code\n",
        "- OOP guidlines for OOP code re-use\n",
        "\n",
        "- How/When OOP is used\n",
        "-----------------------------\n",
        "- as project requirements increase, add oop to re-use code\n",
        "- instead of writing may functions as your application increase\n",
        "- group functions and data into an object called OOP\n",
        "- without OOP, code would have many functions and without any grouping\n",
        "- when create an object in code - object and data in in its own memory\n",
        "  called instance\n",
        "\n",
        "OOP guidlines / code re-use\n",
        "-----------------------------\n",
        "1. define class/object/template\n",
        "2. constructor - provide data when object is created in memory\n",
        "3. this/self - instance - keyword - refence to data when object is in memory\n",
        "4. inheritance - re-use code from a previous class/object/template\n",
        "5. polymophism - use same function of inherited code ie: inherited class.func1,\n",
        "   child/class or sub/class.func1\n",
        "\n",
        "#function does not remain in meory\n",
        "#functions run and exit from meory\n",
        "\n",
        "<pre>\n",
        "non-oop\n",
        "-------------\n",
        "func1(data1,date2,data3,...)\n",
        "func2(data1,date2,data3,...)\n",
        "func3(data1,date2,...)\n",
        "func4(data1,date2,...)\n",
        "func4(data1,date2,...)\n",
        "\n",
        "\n",
        "oop -- group of functions\n",
        "--------------------------\n",
        "\n",
        "class/object1\n",
        " data1,date2,data3,...\n",
        " func1()\n",
        " func2(data1,date2,data3,...)\n",
        "\n",
        "class/object2\n",
        " data1,date2,...\n",
        " func3(data1,date2,...)\n",
        " func4(data1,date2,...)\n",
        "\n",
        "class/object3\n",
        " data1,date2,...\n",
        " func4(data1,date2,...)\n",
        "\n",
        "class/object4 extend object1 - re-use code\n",
        " data...\n",
        " funca()\n",
        " fucca(data...)\n",
        "\n",
        "--- creating object and data  .........\n",
        "\n",
        "#object in own memory space\n",
        "var1 = object1(data1,data2,...)\n",
        "var1.func1\n",
        "\n",
        "#object in own memory space\n",
        "var2 = object1(data1,data2,...)\n",
        "var2.func1\n",
        "\n",
        "#object in own memory space\n",
        "var3 = object2(data1,data2,...)\n",
        "var3.func1\n",
        "\n",
        "#object in own memory space\n",
        "var3 = object4(data1,data2,...)\n",
        "var3.funca\n",
        "\n",
        "#function does not remain in meory\n",
        "#functions run and exit from meory\n",
        "\n",
        "</xmp>\n",
        "</pre>"
      ],
      "metadata": {
        "id": "WoFhQ5Ba3CXW"
      }
    },
    {
      "cell_type": "code",
      "source": [
        "#non object oriented code\n",
        "#add functions to libraries, import libraries\n",
        "#thousands of functions, error prone and more complex to manage, testing and modify code\n",
        "#or - best practices: logical lirary names, etc..\n",
        "\n",
        "def func1():\n",
        "  print(\"# funct 1\")\n",
        "\n",
        "def func2():\n",
        "  print(\"# funct 2\")\n",
        "\n"
      ],
      "metadata": {
        "id": "zE6NJcAAYCDH"
      },
      "execution_count": null,
      "outputs": []
    },
    {
      "cell_type": "code",
      "source": [
        "#object oriented programming code example\n",
        "#add functions to libraries, import libraries\n",
        "#thousands of functions, less error prone and more less complex to manage, more testing and modify code\n",
        "#or - best practices: logical lirary names, etc..\n",
        "\n",
        "#class or template = logical name of class and group functions by feature\n",
        "class MyClass1:\n",
        "  #functions and variables belong to this class\n",
        "  var1 = 1\n",
        "  def func1():\n",
        "    print(\"# funct 1\")\n",
        "\n",
        "  def func2():\n",
        "    print(\"# funct 2\", var1)\n",
        "\n",
        "#access code/methods, variable via class name\n",
        "c1 = MyClass1()\n",
        "c1.func1()\n",
        "c1.func2()\n"
      ],
      "metadata": {
        "id": "ca-cGEs9lO74"
      },
      "execution_count": null,
      "outputs": []
    },
    {
      "cell_type": "code",
      "source": [
        "#Object Oriented Programming - feature summary\n",
        "#build/maintain large amout of systems using large amount of code\n",
        "\n",
        "\"\"\"\n",
        "OOP - features\n",
        "- class template - define class and functions\n",
        "- code reuse\n",
        "  - re-use or modify existing class ode without changine previsous code\n",
        "  - (Inheritance) - inherit or use all code from previous class and add new code without modifying existing code\n",
        "- constructor/initializer - provide data to class wheen class is created\n",
        "- encapsolation - hide data in class - make data visible to other classes\n",
        "- polymorphism - ues same function in multiple classes\n",
        "\n",
        "\"\"\""
      ],
      "metadata": {
        "id": "EDbtN8s2mwaB"
      },
      "execution_count": null,
      "outputs": []
    },
    {
      "cell_type": "code",
      "source": [
        "#class definition/template\n",
        "class Person:\n",
        "  #initilization - initialize data when class is created\n",
        "  #self - reference used by python to initialize variable/data in class memory\n",
        "  #can be any name: self or any-name\n",
        "\n",
        "  #__init__ = reserved python method used to initialize class data\n",
        "  def __init__(self, name, age):\n",
        "    #self.namy-variable-name = paramater variable\n",
        "    #encapsolation - data hiding/showing - public/private data\n",
        "    self.name = name\n",
        "    self.age = age\n",
        "\n",
        "  \"\"\"\n",
        "  def __init__(this, name, age):\n",
        "      this.name = name\n",
        "      this.age = age\n",
        "  \"\"\"\n",
        "\n",
        "  def funca(self):\n",
        "    print(\"person1 funca\")\n",
        "\n",
        "p1 = Person(\"John\", 36)\n",
        "\n",
        "#encapsolation - data hiding/showing - public/private data\n",
        "print(p1.name)\n",
        "print(p1.age)\n",
        "\n",
        "p1.age = 37 #read/write class data\n",
        "print(p1.age)\n",
        "\n"
      ],
      "metadata": {
        "colab": {
          "base_uri": "https://localhost:8080/"
        },
        "id": "QjT9YQU2rWCG",
        "outputId": "bdd94574-0245-45db-f3f4-84e3a186524f"
      },
      "execution_count": null,
      "outputs": [
        {
          "output_type": "stream",
          "name": "stdout",
          "text": [
            "John\n",
            "36\n",
            "37\n"
          ]
        }
      ]
    },
    {
      "cell_type": "code",
      "source": [
        "#inheritance demo\n",
        "#reused class code, add/modify class code without modify previous code\n",
        "#combine code from Person and Person2 class\n",
        "\n",
        "class Person:\n",
        "  def __init__(self, name, age):\n",
        "    self.name = name\n",
        "    self.age = age\n",
        "\n",
        "  \"\"\"\n",
        "  def __init__(this, name, age):\n",
        "      this.name = name\n",
        "      this.age = age\n",
        "  \"\"\"\n",
        "\n",
        "  def funca(self):\n",
        "    print(\"person funca\")\n",
        "\n",
        "#------------------------------------------------------\n",
        "\n",
        "class Person2(Person):\n",
        "  #inherits all code from person\n",
        "\n",
        "  #add new method\n",
        "  def funcb(self):\n",
        "    print(\"person2 funcb\")\n",
        "\n",
        " #can also modify/update or add code to funca in Person2 - Person.funca will not be modified\n",
        "\n",
        "p2 = Person2(\"Ann\", 37)\n",
        "\n",
        "print(p2.name)\n",
        "print(p2.age)\n",
        "\n",
        "p2.funca()\n",
        "p2.funcb()\n"
      ],
      "metadata": {
        "colab": {
          "base_uri": "https://localhost:8080/"
        },
        "id": "Nxkefuw-zE_1",
        "outputId": "396e7db1-5bc0-4b1d-92a5-7b441370b4b6"
      },
      "execution_count": null,
      "outputs": [
        {
          "output_type": "stream",
          "name": "stdout",
          "text": [
            "Ann\n",
            "37\n",
            "person funca\n",
            "person2 funcb\n"
          ]
        }
      ]
    },
    {
      "cell_type": "markdown",
      "source": [
        "# Functional programming/lamda\n",
        "- semantic functions used in specific code features ie: add,subtract\n",
        "- self describing functions\n",
        "- ie: excel - functions - min, max, agv, etc..\n",
        "- functional programming features\n",
        "  - lmanda: minimal code, 1 line of code, code-reuse\n",
        "  - code is created where they are defined ie: in-line\n",
        "  - paramaters are not modifiable or read-only ie: avg([1,2,3])\n",
        "  - function chanining, combining multiple functions avg(sum([1,2,3]))\n",
        "  - can return a function from another function ie: sum1 = sum([1,2,3])\n",
        "  - memory efficient: function is removed from memory when not used\n",
        "  - standard functions can become functional programs\n",
        "  - other\n",
        "\n",
        "### can use oop and lamda/functional progamming is applications\n",
        "\n",
        "<pre>\n",
        "<xmp>\n",
        "  - -- functional programming / closure / lamda functions --\n",
        "- function does not modify the input parameter\n",
        "- can return a function or data/value\n",
        "- can have functions as parameters ie: func1(data,funca)\n",
        "- you can provide lamda function to a function that accepts function as parameter\n",
        "- enter code in place of function\n",
        "  map(function), filter(function)\n",
        "  map(myfunc)\n",
        "  -or-\n",
        "  map(lama: a * b)\n",
        "- can access data outside the function ie: closure\n",
        "- create other function within the functional program\n",
        "- call nested functions ie: recursion\n",
        "- output from 1 function can be accessed to another function\n",
        "  filter().map()\n",
        "- has some features from 'R' and 'MatLab' programming\n",
        "- ie: excel: sum(avg(min(max(\n",
        "- mathematical formula development\n",
        "\n",
        "https://www.w3schools.com/python/python_lambda.asp\n",
        "\n",
        "https://www.freecodecamp.org/news/python-lambda-functions/\n",
        "\n",
        "</xmp>\n",
        "</pre>"
      ],
      "metadata": {
        "id": "Cv-RF8sKrnK6"
      }
    },
    {
      "cell_type": "markdown",
      "source": [
        "#lamda functions - use case - why use lamda functions\n",
        "- lamda functions = functional programming\n",
        "\n",
        "<pre>\n",
        "<xmp>\n",
        "non-functionl programming\n",
        "---------------------------------\n",
        "func1(data1,date2,data3,...)\n",
        "func2(data1,date2,data3,...)\n",
        "func3(data1,date2,...)\n",
        "func4(data1,date2,...)\n",
        "func4(data1,date2,...)\n",
        "\n",
        "\n",
        "functional programming -- group of functions by name\n",
        "----------------------------------------------------\n",
        "function_group_name_func1(data1,date2,data3,...)\n",
        "function_group_name_func2(data1,date2,data3,...)\n",
        "function_group_name_func3(data1,date2,...)\n",
        "function_group_name_func4(data1,date2,...)\n",
        "function_group_name_func4(data1,date2,...)\n",
        "\n",
        "--- creating object and data  .........\n",
        "\n",
        "data1\n",
        "data2\n",
        "\n",
        "#object in own memory space\n",
        "function_group_name_func1(data1,data2,...)\n",
        "\n",
        "#object in own memory space\n",
        "-- can assign function to a variable\n",
        "var2 = function_group_name_func1(data1,data2,...)\n",
        "var2(data1,date2)\n",
        "\n",
        "//nest ot funtion chanining\n",
        "func_group_a(data1,...).func_group_b(data...)\n",
        "</xmp>\n",
        "</pre>"
      ],
      "metadata": {
        "id": "02K971KGsFeq"
      }
    },
    {
      "cell_type": "code",
      "source": [
        "#lamda/functional programmming demo\n",
        "\n",
        "#functional programming\n",
        "#key feature: psramater is readonly, can nest or call function within function ie: func1(funct2) or funct1().funct2()\n",
        "#also: return a function from a function, define a function within another function, funcation as a paramater\n",
        "\n",
        "#- lamda function defined on 1 line\n",
        "\n",
        "#https://www.w3schools.com/python/python_lambda.asp\n",
        "\n",
        "#https://www.freecodecamp.org/news/python-lambda-functions\n",
        "\n",
        "\"\"\"\n",
        "PRO\n",
        "--------\n",
        "\n",
        "lamda/functional programming\n",
        "- optimize and reduce code lines\n",
        "- unit testable\n",
        "- memory efficient\n",
        "- other\n",
        "\n",
        "\"\"\""
      ],
      "metadata": {
        "id": "QqfaaMxwveWq"
      },
      "execution_count": null,
      "outputs": []
    },
    {
      "cell_type": "code",
      "source": [
        "#lamda/functional programmming demo 1\n",
        "\n",
        "#https://www.w3schools.com/python/python_lambda.asp\n",
        "\n",
        "def add_ten(a):\n",
        " return a + 10\n",
        "\n",
        "#define lamda - 1 line paramaters/readonly\n",
        "#ie: function memory variable\n",
        "add_ten_funct_variable = lambda a: a + 10\n",
        "\n",
        "#function pointer reference\n",
        "print(add_ten_funct_variable)\n",
        "\n",
        "#call function\n",
        "print(add_ten(5))\n",
        "\n",
        "#call lamda\n",
        "print(add_ten_funct_variable(10))\n",
        "\n",
        "#lamda fuction is used then memery is returned\n",
        "\n",
        "#use lamda when you do not want to define function or only need to add code in 1 location\n",
        "#when not re-using function code multiple places\n",
        "\n",
        "#can nest lamda functions ie: lamda a: a + 10 lambda b: b + 20\n"
      ],
      "metadata": {
        "colab": {
          "base_uri": "https://localhost:8080/"
        },
        "id": "e906w4rMxYfz",
        "outputId": "80d263cb-635b-42ff-f99f-20b5d724f7ea"
      },
      "execution_count": null,
      "outputs": [
        {
          "output_type": "stream",
          "name": "stdout",
          "text": [
            "<function <lambda> at 0x7f032bff47c0>\n",
            "15\n",
            "20\n"
          ]
        }
      ]
    },
    {
      "cell_type": "code",
      "source": [
        "#https://www.w3schools.com/python/python_lambda.asp\n",
        "\n",
        "#lamda function demo 2 - retuen lamda function from another function\n",
        "#lamda function paramaters\n",
        "\n",
        "#python PCAP quiz question #50 - example lamda\n",
        "\n",
        "def func1(x):\n",
        "  return x * x\n",
        "\n",
        "def foo(x,y):\n",
        "  #call lamda functions - variable y\n",
        "  return y(x) + (x+1)\n",
        "\n",
        "#assign function as parameter 2\n",
        "print(foo(1,func1))\n",
        "print(foo(1,lambda x: x * x ))\n"
      ],
      "metadata": {
        "colab": {
          "base_uri": "https://localhost:8080/"
        },
        "id": "cmDN6hD76m6x",
        "outputId": "967e5252-c8e4-446e-dea7-78e173e8c646"
      },
      "execution_count": 4,
      "outputs": [
        {
          "output_type": "stream",
          "name": "stdout",
          "text": [
            "3\n",
            "3\n"
          ]
        }
      ]
    },
    {
      "cell_type": "code",
      "source": [
        "#https://www.w3schools.com/python/python_lambda.asp\n",
        "\n",
        "#return lamdbda from a fnction\n",
        "def funct2(x):\n",
        "  return lambda y: y + x\n",
        "\n",
        "#can nested lamda\n",
        "def funct3(a,b):\n",
        "  f1 = lambda x: x+1\n",
        "  f2 = lambda y: y*1\n",
        "  return f1(a) + f2(b)\n"
      ],
      "metadata": {
        "id": "Xn-qJMla0WS1"
      },
      "execution_count": null,
      "outputs": []
    },
    {
      "cell_type": "markdown",
      "source": [
        "# Python web screen scraping demo #1\n",
        "- extract data from a web page using Beattiful Soup python library\n",
        "\n",
        "<pre>\n",
        "<xmp>\n",
        "create a webpage/web document or html snipit/fragment\n",
        "formats tags around text/data or image/video/data or links\n",
        "begin/end, open/close tags/element\n",
        "html, head, body\n",
        "formatting : h1, b, i, other\n",
        "install beautiful soup library\n",
        "pip install beautifulsoup4\n",
        "or\n",
        "python -m pip install beautifulsoup4\n",
        "extra data from html page or fragment\n",
        "html, head, body, title, h1\n",
        "</xmp>\n",
        "</pre>"
      ],
      "metadata": {
        "id": "IUAgmt0uAfmp"
      }
    },
    {
      "cell_type": "code",
      "source": [
        "#Introduction to screen scvraping using Python library - beattifulsoup\n",
        "\n",
        "#extracting data from a webpage or xml document using python - beattifulsoup\n",
        "\n",
        "#https://stackabuse.com/guide-to-parsing-html-with-beautifulsoup-in-python/\n"
      ],
      "metadata": {
        "id": "xY3g5SsyA1Ej"
      },
      "execution_count": null,
      "outputs": []
    },
    {
      "cell_type": "markdown",
      "source": [
        "#web page demo\n",
        "- sourround data with begin/end tags ie: html ,head, body, p, h1, a, imag, other\n",
        "- using beautiful soup we can extract all html document informaiton\n",
        "- beautiful can extract web pages and text documents\n",
        "<pre>\n",
        "<xmp>\n",
        "<html>\n",
        "<head>\n",
        "  <title>Head's title</title>\n",
        "</head>\n",
        "<body>\n",
        "  <p class=\"title\"><b>Body's title</b></p>\n",
        "  <p class=\"story\">Line begins\n",
        "    <a href=\"http://example.com/element1\" class=\"element\" id=\"link1\">1</a>\n",
        "    <a href=\"http://example.com/element2\" class=\"element\" id=\"link2\">2</a>\n",
        "    <a href=\"http://example.com/avatar1\" class=\"avatar\" id=\"link3\">3</a>\n",
        "  <p> line ends</p>\n",
        "</body>\n",
        "</html>\n",
        "</xmp>\n",
        "</pre>\n"
      ],
      "metadata": {
        "id": "KvdOzq2OK-mj"
      }
    },
    {
      "cell_type": "code",
      "source": [
        "#beautiful soup demo #1\n",
        "\n",
        "#pip install beautifulsoup4\n",
        "\n",
        "from bs4 import BeautifulSoup\n",
        "\n",
        "\"\"\"\n",
        "with open(\"demo1.html\") as fp:\n",
        "    soup = BeautifulSoup(fp, \"html.parser\")\n",
        "\"\"\"\n",
        "\n",
        "_html1 = \"\"\"\n",
        "<html>\n",
        "<head>\n",
        "<title>Demo web page 1</title>\n",
        "</head>\n",
        "<body>\n",
        "<h1>Demo web page 1</h1>\n",
        "</body>\n",
        "</html>\n",
        "\"\"\"\n",
        "\n",
        "soup = BeautifulSoup(_html1,\"html.parser\")\n",
        "\n",
        "print(soup)\n",
        "\n",
        "\n"
      ],
      "metadata": {
        "colab": {
          "base_uri": "https://localhost:8080/"
        },
        "id": "mfi4VmTGMEfc",
        "outputId": "2a00d3bc-c739-41a4-803b-e8ad1f051fa3"
      },
      "execution_count": 5,
      "outputs": [
        {
          "output_type": "stream",
          "name": "stdout",
          "text": [
            "\n",
            "<html>\n",
            "<head>\n",
            "<title>Demo web page 1</title>\n",
            "</head>\n",
            "<body>\n",
            "<h1>Demo web page 1</h1>\n",
            "</body>\n",
            "</html>\n",
            "\n"
          ]
        }
      ]
    }
  ]
}