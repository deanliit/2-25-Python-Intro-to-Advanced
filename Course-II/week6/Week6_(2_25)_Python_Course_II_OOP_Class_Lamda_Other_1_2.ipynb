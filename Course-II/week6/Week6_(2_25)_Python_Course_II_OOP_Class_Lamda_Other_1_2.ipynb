{
  "nbformat": 4,
  "nbformat_minor": 0,
  "metadata": {
    "colab": {
      "provenance": []
    },
    "kernelspec": {
      "name": "python3",
      "display_name": "Python 3"
    },
    "language_info": {
      "name": "python"
    }
  },
  "cells": [
    {
      "cell_type": "markdown",
      "source": [
        "#Python Course II - Weekly class demos and Exercises summary  \n",
        "- (Mon, Wed) - (8am-10:30am) - (2.5h class/demos/labs) / 30 min practice\n",
        "- Course II - 9 weeks\n",
        "- Weekly Assignments - 20 hours - due next week Monday\n",
        "- 3 Class Quizzes\n",
        "- 3 Data Analysis Quizzes - short data sql code example\n",
        "- Step-by-tep class topic demos\n",
        "\n",
        "#Github Course Notebook Refence\n",
        "\n",
        "https://github.com/deanliit/2-25-Python-Intro-to-Advanced\n",
        "\n",
        "## Python references\n",
        "- Course book\n"
      ],
      "metadata": {
        "id": "kkf01IuMAr4_"
      }
    },
    {
      "cell_type": "markdown",
      "source": [
        "## Python Course II Weekly Class Assignment #6\n",
        "<pre>\n",
        "<xmp>\n",
        "Reading Assignments:\n",
        "\n",
        "https://www.w3schools.com/python/python_mysql_getstarted.asp#gsc.tab=0\n",
        "Insert data\n",
        "Update data\n",
        "Delete data  \n",
        "Select data\n",
        "Where , order by, other\n",
        "\n",
        "Assignment Exercises:\n",
        "Complete all of the exercises, display output from each exercises\n",
        "Optional create exercises in Google Colabs notebooks\n",
        "\n",
        "Create a google collabs notebooks\n",
        "Create code in vs.code\n",
        "Complete all of the exercises, display output from each exercises\n",
        "\n",
        "Python tutorial examples\n",
        "https://www.w3schools.com/python/python_mysql_getstarted.asp#gsc.tab=0\n",
        "\n",
        "Insert data\n",
        "Update data\n",
        "Delete data  \n",
        "Select data\n",
        "Where, order by, other\n",
        "\n",
        "Python Course Book Chapter\n",
        "Intermediate Exercises\n",
        "\n",
        "</xmp>\n",
        "</pre>"
      ],
      "metadata": {
        "id": "Y6PvWvErkYoo"
      }
    },
    {
      "cell_type": "markdown",
      "source": [
        "Introduction to Python\n",
        "\n",
        "https://www.w3schools.com/python/python_intro.asp\n",
        "\n",
        "\n",
        "<pre>\n",
        "\n",
        "---------------------------------------------\n",
        "#Course II Module Summary\n",
        "-----------------------------------------------\n",
        "\n",
        "Module #1\n",
        "- Git, GitHub introduction\n",
        "- Creating python command line applications\n",
        "- Python main app  __name__\n",
        "- Parameter array: *args, **kvargs\n",
        "- Import Modules\n",
        "- Error handling\n",
        "- pip install python-library-name\n",
        "- Course I review\n",
        "- Other\n",
        "\n",
        "Module #2\n",
        "- Python Data Analysis, EDA, ETL\n",
        "- Pandas\n",
        "- Graphs\n",
        "- SQL\n",
        "- Other\n",
        "\n",
        "Module #3\n",
        "- Class, OOP\n",
        "- Lamda\n",
        "- Other\n",
        "\n",
        "Module #4\n",
        "- Html introduction\n",
        "- Beautiful soup screen scraping\n",
        "- Other\n",
        "\n",
        "Module 5\n",
        "- Python ai, ml, npl introduction\n",
        "- PCAP Exam prep\n",
        "- Course review\n",
        "- Other\n",
        "\n",
        "</pre>\n",
        "\n"
      ],
      "metadata": {
        "id": "lhHzTF-3wluD"
      }
    },
    {
      "cell_type": "markdown",
      "source": [
        "# Object Oriented Programming Summary\n",
        "## OOP, Class Lamda\n",
        "\n",
        "<pre>\n",
        "<xmp>\n",
        "#https://www.w3schools.com/python/python_classes.asp\n",
        "\n",
        "#https://www.w3schools.com/python/python_lambda.asp\n",
        "\n",
        "#https://www.freecodecamp.org/news/python-lambda-functions/\n",
        "- re-use code in other projects\n",
        "- modify and extend code without changing previsous code\n",
        "- as project requirements increase, add oop to re-use code\n",
        "- OOP guidlines for OOP code re-use\n",
        "\n",
        "- How/When OOP is used\n",
        "-----------------------------\n",
        "- as project requirements increase, add oop to re-use code\n",
        "- instead of writing may functions as your application increase\n",
        "- group functions and data into an object called OOP\n",
        "- without OOP, code would have many functions and without any grouping\n",
        "- when create an object in code - object and data in in its own memory\n",
        "  called instance\n",
        "\n",
        "OOP guidlines / code re-use\n",
        "-----------------------------\n",
        "1. define class/object/template\n",
        "2. constructor - provide data when object is created in memory\n",
        "3. this/self - instance - keyword - refence to data when object is in memory\n",
        "4. inheritance - re-use code from a previous class/object/template\n",
        "5. polymophism - use same function of inherited code ie: inherited class.func1,\n",
        "   child/class or sub/class.func1\n",
        "\n",
        "#function does not remain in meory\n",
        "#functions run and exit from meory\n",
        "\n",
        "<pre>\n",
        "non-oop\n",
        "-------------\n",
        "func1(data1,date2,data3,...)\n",
        "func2(data1,date2,data3,...)\n",
        "func3(data1,date2,...)\n",
        "func4(data1,date2,...)\n",
        "func4(data1,date2,...)\n",
        "\n",
        "\n",
        "oop -- group of functions\n",
        "--------------------------\n",
        "\n",
        "class/object1\n",
        " data1,date2,data3,...\n",
        " func1()\n",
        " func2(data1,date2,data3,...)\n",
        "\n",
        "class/object2\n",
        " data1,date2,...\n",
        " func3(data1,date2,...)\n",
        " func4(data1,date2,...)\n",
        "\n",
        "class/object3\n",
        " data1,date2,...\n",
        " func4(data1,date2,...)\n",
        "\n",
        "class/object4 extend object1 - re-use code\n",
        " data...\n",
        " funca()\n",
        " fucca(data...)\n",
        "\n",
        "--- creating object and data  .........\n",
        "\n",
        "#object in own memory space\n",
        "var1 = object1(data1,data2,...)\n",
        "var1.func1\n",
        "\n",
        "#object in own memory space\n",
        "var2 = object1(data1,data2,...)\n",
        "var2.func1\n",
        "\n",
        "#object in own memory space\n",
        "var3 = object2(data1,data2,...)\n",
        "var3.func1\n",
        "\n",
        "#object in own memory space\n",
        "var3 = object4(data1,data2,...)\n",
        "var3.funca\n",
        "\n",
        "#function does not remain in meory\n",
        "#functions run and exit from meory\n",
        "\n",
        "</xmp>\n",
        "</pre>"
      ],
      "metadata": {
        "id": "WoFhQ5Ba3CXW"
      }
    },
    {
      "cell_type": "code",
      "source": [
        "#non object oriented code\n",
        "#add functions to libraries, import libraries\n",
        "#thousands of functions, error prone and more complex to manage, testing and modify code\n",
        "#or - best practices: logical lirary names, etc..\n",
        "\n",
        "def func1():\n",
        "  print(\"# funct 1\")\n",
        "\n",
        "def func2():\n",
        "  print(\"# funct 2\")\n",
        "\n",
        ""
      ],
      "metadata": {
        "id": "zE6NJcAAYCDH"
      },
      "execution_count": null,
      "outputs": []
    },
    {
      "cell_type": "code",
      "source": [
        "#object oriented programming code example\n",
        "#add functions to libraries, import libraries\n",
        "#thousands of functions, less error prone and more less complex to manage, more testing and modify code\n",
        "#or - best practices: logical lirary names, etc..\n",
        "\n",
        "#class or template = logical name of class and group functions by feature\n",
        "class MyClass1:\n",
        "  #functions and variables belong to this class\n",
        "  var1 = 1\n",
        "  def func1():\n",
        "    print(\"# funct 1\")\n",
        "\n",
        "  def func2():\n",
        "    print(\"# funct 2\", var1)\n",
        "\n",
        "#access code/methods, variable via class name\n",
        "c1 = MyClass1()\n",
        "c1.func1()\n",
        "c1.func2()\n"
      ],
      "metadata": {
        "id": "ca-cGEs9lO74"
      },
      "execution_count": null,
      "outputs": []
    },
    {
      "cell_type": "code",
      "source": [
        "#Object Oriented Programming - feature summary\n",
        "#build/maintain large amout of systems using large amount of code\n",
        "\n",
        "\"\"\"\n",
        "OOP - features\n",
        "- class template - define class and functions\n",
        "- code reuse\n",
        "  - re-use or modify existing class ode without changine previsous code\n",
        "  - (Inheritance) - inherit or use all code from previous class and add new code without modifying existing code\n",
        "- constructor/initializer - provide data to class wheen class is created\n",
        "- encapsolation - hide data in class - make data visible to other classes\n",
        "- polymorphism - ues same function in multiple classes\n",
        "\n",
        "\"\"\""
      ],
      "metadata": {
        "id": "EDbtN8s2mwaB"
      },
      "execution_count": null,
      "outputs": []
    },
    {
      "cell_type": "code",
      "source": [
        "#class definition/template\n",
        "class Person:\n",
        "  #initilization - initialize data when class is created\n",
        "  #self - reference used by python to initialize variable/data in class memory\n",
        "  #can be any name: self or any-name\n",
        "\n",
        "  #__init__ = reserved python method used to initialize class data\n",
        "  def __init__(self, name, age):\n",
        "    #self.namy-variable-name = paramater variable\n",
        "    #encapsolation - data hiding/showing - public/private data\n",
        "    self.name = name\n",
        "    self.age = age\n",
        "\n",
        "  \"\"\"\n",
        "  def __init__(this, name, age):\n",
        "      this.name = name\n",
        "      this.age = age\n",
        "  \"\"\"\n",
        "\n",
        "  def funca(self):\n",
        "    print(\"person1 funca\")\n",
        "\n",
        "p1 = Person(\"John\", 36)\n",
        "\n",
        "#encapsolation - data hiding/showing - public/private data\n",
        "print(p1.name)\n",
        "print(p1.age)\n",
        "\n",
        "p1.age = 37 #read/write class data\n",
        "print(p1.age)\n",
        "\n"
      ],
      "metadata": {
        "colab": {
          "base_uri": "https://localhost:8080/"
        },
        "id": "QjT9YQU2rWCG",
        "outputId": "bdd94574-0245-45db-f3f4-84e3a186524f"
      },
      "execution_count": 1,
      "outputs": [
        {
          "output_type": "stream",
          "name": "stdout",
          "text": [
            "John\n",
            "36\n",
            "37\n"
          ]
        }
      ]
    },
    {
      "cell_type": "code",
      "source": [
        "#inheritance demo\n",
        "#reused class code, add/modify class code without modify previous code\n",
        "#combine code from Person and Person2 class\n",
        "\n",
        "class Person2(Person):\n",
        "  #inherits all code from person\n",
        "\n",
        "  #add new method\n",
        "  def funcb(self):\n",
        "    print(\"person2 funcb\")\n",
        "\n",
        " #can also modify/update or add code to funca in Person2 - Person.funca will not be modified\n",
        "\n",
        "p2 = Person2(\"Ann\", 37)\n",
        "\n",
        "print(p2.name)\n",
        "print(p2.age)\n",
        "\n",
        "#p2.funca()\n",
        "p2.funcb()\n"
      ],
      "metadata": {
        "colab": {
          "base_uri": "https://localhost:8080/"
        },
        "id": "Nxkefuw-zE_1",
        "outputId": "ba43d7a8-769e-4c09-c8a9-dd573e2a6762"
      },
      "execution_count": 3,
      "outputs": [
        {
          "output_type": "stream",
          "name": "stdout",
          "text": [
            "Ann\n",
            "37\n",
            "person2 funca\n"
          ]
        }
      ]
    }
  ]
}