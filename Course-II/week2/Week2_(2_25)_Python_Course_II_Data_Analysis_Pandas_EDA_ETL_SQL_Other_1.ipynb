{
  "nbformat": 4,
  "nbformat_minor": 0,
  "metadata": {
    "colab": {
      "provenance": []
    },
    "kernelspec": {
      "name": "python3",
      "display_name": "Python 3"
    },
    "language_info": {
      "name": "python"
    }
  },
  "cells": [
    {
      "cell_type": "markdown",
      "source": [
        "#Python Course II - Weekly class demos and Exercises summary  \n",
        "- (Mon, Wed) - (8am-10:30am) - (2.5h class/demos/labs) / 30 min practice\n",
        "- Course II - 9 weeks\n",
        "- Weekly Assignments - 20 hours - due next week Monday\n",
        "- 3 Class Quizzes\n",
        "- 3 Data Analysis Quizzes - short data sql code example\n",
        "- Step-by-tep class topic demos\n",
        "\n",
        "#Github Course Notebook Refence\n",
        "\n",
        "https://github.com/deanliit/2-25-Python-Intro-to-Advanced\n",
        "\n",
        "## Python references\n",
        "- Course book\n"
      ],
      "metadata": {
        "id": "kkf01IuMAr4_"
      }
    },
    {
      "cell_type": "markdown",
      "source": [
        "## Python Course II Weekly Class Assignment #2\n",
        "<pre>\n",
        "<xmp>\n",
        "Reading Assignments:\n",
        "Python tutorial\n",
        "\n",
        "https://www.w3schools.com/python/default.asp\n",
        "Python Modules\n",
        "\n",
        "https://www.w3schools.com/python/pandas/default.asp\n",
        "Pandas\n",
        "\n",
        "https://www.w3schools.com/python/pandas/pandas_series.asp\n",
        "Series\n",
        "\n",
        "https://www.w3schools.com/python/pandas/pandas_dataframes.asp\n",
        "Dataframes\n",
        "\n",
        "Assignment Exercises:\n",
        "\n",
        "Complete all of the exercises, display output from each exercises\n",
        "Optional create exercises in Google Colabs notebooks\n",
        "\n",
        "\n",
        "Create a google collabs notebooks\n",
        "Create code in vs.code\n",
        "Complete all of the exercises, display output from each exercises\n",
        "\n",
        "Python tutorial examples\n",
        "https://www.w3schools.com/python/python_examples.asp\n",
        "Python Modules\n",
        "\n",
        "https://www.w3schools.com/python/pandas/default.asp\n",
        "https://www.w3schools.com/python/pandas/pandas_series.asp\n",
        "Series\n",
        "\n",
        "https://www.w3schools.com/python/pandas/pandas_dataframes.asp\n",
        "Dataframes\n",
        "\n",
        "Python Course Book Chapter\n",
        "Intermediate Exercises\n",
        "\n",
        "\n",
        "</xmp>\n",
        "</pre>"
      ],
      "metadata": {
        "id": "Y6PvWvErkYoo"
      }
    },
    {
      "cell_type": "markdown",
      "source": [
        "Introduction to Python\n",
        "\n",
        "https://www.w3schools.com/python/python_intro.asp\n",
        "\n",
        "\n",
        "<pre>\n",
        "\n",
        "---------------------------------------------\n",
        "#Course II Module Summary\n",
        "-----------------------------------------------\n",
        "\n",
        "Module #1\n",
        "- Git, GitHub introduction\n",
        "- Creating python command line applications\n",
        "- Python main app  __name__\n",
        "- Parameter array: *args, **kvargs\n",
        "- Import Modules\n",
        "- Error handling\n",
        "- pip install python-library-name\n",
        "- Course I review\n",
        "- Other\n",
        "\n",
        "Moduls #2\n",
        "- Python Data Analysis, EDA, ETL\n",
        "- Pandas\n",
        "- Graphs\n",
        "- SQL\n",
        "- Other\n",
        "\n",
        "Module #3\n",
        "- Class, OOP\n",
        "- Lamda\n",
        "- Other\n",
        "\n",
        "Module #4\n",
        "- Html introduction\n",
        "- Beautiful soup screen scraping\n",
        "- Other\n",
        "\n",
        "Module 5\n",
        "- Python ai, ml, npl introduction\n",
        "- PCAP Exam prep\n",
        "- Other\n",
        "\n",
        "</pre>\n",
        "\n"
      ],
      "metadata": {
        "id": "lhHzTF-3wluD"
      }
    },
    {
      "cell_type": "code",
      "source": [
        "#-- weekly topic summary\n",
        "#\n",
        "#Data Analysis\n",
        "#Other\n"
      ],
      "metadata": {
        "id": "-Z87eNhJI8F7"
      },
      "execution_count": null,
      "outputs": []
    },
    {
      "cell_type": "markdown",
      "source": [
        "#Data Analysis - EDA, ETL, ELT, SQL\n",
        "- Pandas - unstructured data, text files, json and structured data ie: dataframe\n",
        "- Numpy - used to create and manage arrays\n",
        "- SQL - structured data , Structured Query Language\n",
        "\n",
        "<pre>\n",
        "<xmp>\n",
        "EDA, ETL, ELT, SQL AI/ML\n",
        "----------------------------------------------------------\n",
        "\n",
        "https://www.programiz.com/python-programming/pandas/dataframe-manipulation\n",
        "\n",
        "https://www.w3schools.com/python/pandas/pandas_intro.asp\n",
        "\n",
        "\n",
        "#Data analysis - (EDA)\n",
        "\n",
        "https://www.programiz.com/python-programming/pandas/getting-started\n",
        "\n",
        "\n",
        "  - business intelligence - ie: charts, graphs, visualize data, dashboard, manually make predictions, reccomendations\n",
        "  - EDA - Eploritory Data Analysis\n",
        "- manipulating - sql and text or no-sql data\n",
        "- create, update, delete - (CRUD)\n",
        "- filtering and selecting data\n",
        "- remove null or error data\n",
        "- grouping data\n",
        "- create graph and charts\n",
        "- Other\n",
        "\n",
        "#ETL - Extract Transform Load\n",
        "- extract importing data or read in data\n",
        "- Transofrom - converting data to a dataframe or new data view ie: SQL, pandas\n",
        "- Load - exporting data to a source\n",
        "- custom code - ELT or ELT tools -\n",
        "- Source - Trnsfoprm - Destination\n",
        "\n",
        "</xmp>\n",
        "</pre>"
      ],
      "metadata": {
        "id": "WoFhQ5Ba3CXW"
      }
    },
    {
      "cell_type": "code",
      "source": [
        "#pandas demo #1 =- EDA, ETL, ELT\n",
        "#https://www.programiz.com/python-programming/pandas/series\n",
        "#\n",
        "#dataframe = in-memory table - rows, columns\n",
        "#ie: sql - filter, add, update, delete\n",
        "#pandas - many sql features, join, etc\n",
        "#\n",
        "#pandas / SQL comparison\n",
        "#pandas joins\n",
        "#-left, right, inner, full outer join\n",
        "#\n",
        "#https://pandas.pydata.org/docs/getting_started/comparison/comparison_with_sql.html\n",
        "#\n",
        "#rename columns, delete dataframe, other\n",
        "\n",
        "\"\"\"\n",
        "\n",
        "A\n",
        "---\n",
        "1\n",
        "2\n",
        "3\n",
        "\n",
        "\"\"\"\n",
        "\n",
        "import pandas as pd\n",
        "print(pd.DataFrame({\"A\":[1,2,3]}))\n",
        "\n",
        "print(\"index-1 = \", pd[1])\n"
      ],
      "metadata": {
        "id": "9kXEj11BzDw0",
        "colab": {
          "base_uri": "https://localhost:8080/"
        },
        "outputId": "f5d095f0-3cc8-49e0-8d3c-83a6e24f22e7"
      },
      "execution_count": 2,
      "outputs": [
        {
          "output_type": "stream",
          "name": "stdout",
          "text": [
            "   A\n",
            "0  1\n",
            "1  2\n",
            "2  3\n"
          ]
        }
      ]
    },
    {
      "cell_type": "code",
      "source": [
        "# Create a simple Pandas Series\n",
        "numbers = pd.Series([10, 20, 30, 40, 50])\n",
        "\n",
        "# Print the Series\n",
        "print(\"Pandas Series:\")\n",
        "print(numbers)\n",
        "\n",
        "print(\"index-1: \", numbers[1])\n"
      ],
      "metadata": {
        "colab": {
          "base_uri": "https://localhost:8080/"
        },
        "id": "8FhSeEvNeEp2",
        "outputId": "5e0fb9f5-5e09-4f8a-9f32-d6a3dcc6ddc3"
      },
      "execution_count": 4,
      "outputs": [
        {
          "output_type": "stream",
          "name": "stdout",
          "text": [
            "Pandas Series:\n",
            "0    10\n",
            "1    20\n",
            "2    30\n",
            "3    40\n",
            "4    50\n",
            "dtype: int64\n",
            "index-1:  20\n"
          ]
        }
      ]
    },
    {
      "cell_type": "code",
      "source": [
        "# create a list\n",
        "a = [1, 3, 5]\n",
        "\n",
        "# create a series and specify labels\n",
        "my_series = pd.Series(a, index = [\"x\", \"y\", \"z\"])\n",
        "\n",
        "print(my_series)\n",
        "print(\"\")\n",
        "\n",
        "# display the value with label y\n",
        "print(\"index-y\", my_series[\"y\"])\n"
      ],
      "metadata": {
        "colab": {
          "base_uri": "https://localhost:8080/"
        },
        "id": "UlRgIf6qfYEB",
        "outputId": "e86aa496-1bda-4823-e1a3-3e59d1d40177"
      },
      "execution_count": 6,
      "outputs": [
        {
          "output_type": "stream",
          "name": "stdout",
          "text": [
            "x    1\n",
            "y    3\n",
            "z    5\n",
            "dtype: int64\n",
            "\n",
            "index-y 3\n"
          ]
        }
      ]
    },
    {
      "cell_type": "code",
      "source": [
        "# create a dictionary\n",
        "grades = {\"Semester1\": 3.25, \"Semester2\": 3.28, \"Semester3\": 3.75}\n",
        "\n",
        "# select specific dictionary items using index argument\n",
        "my_series = pd.Series(grades, index = [\"Semester1\", \"Semester2\"])\n",
        "\n",
        "# display the series\n",
        "print(my_series)\n"
      ],
      "metadata": {
        "id": "wmi8F0nqghyW"
      },
      "execution_count": null,
      "outputs": []
    },
    {
      "cell_type": "code",
      "source": [
        "#pandas demo #2 =- EDA, ETL, ELT\n",
        "#https://www.programiz.com/python-programming/pandas/dataframe\n",
        "#\n",
        "#dataframe = in-memory table - rows, columns\n",
        "#ie: sql - filter, add, update, delete\n",
        "#pandas - many sql features, join, etc\n",
        "#\n",
        "#pandas / SQL comparison\n",
        "#pandas joins\n",
        "#-left, right, inner, full outer join\n",
        "#\n",
        "#https://pandas.pydata.org/docs/getting_started/comparison/comparison_with_sql.html\n",
        "#\n",
        "#rename columns, delete dataframe, other\n",
        "\n",
        "'''\n",
        "Name  Age City\n",
        "John  25  NY\n",
        "Alice 30  UK\n",
        "Bob   35  P\n",
        "'''\n",
        "\n",
        "# create a dictionary\n",
        "data = {'Name': ['John', 'Alice', 'Bob'],\n",
        "       'Age': [25, 30, 35],\n",
        "       'City': ['New York', 'London', 'Paris']}\n",
        "\n",
        "# create a dataframe from the dictionary\n",
        "df = pd.DataFrame(data)\n",
        "\n",
        "print(df.head(2))\n",
        "print(\"\")\n",
        "print(df.tail(2))\n"
      ],
      "metadata": {
        "colab": {
          "base_uri": "https://localhost:8080/"
        },
        "id": "Gn6x4zQonvLS",
        "outputId": "3aad37df-b64a-4bc4-a556-a76caa614951"
      },
      "execution_count": 12,
      "outputs": [
        {
          "output_type": "stream",
          "name": "stdout",
          "text": [
            "    Name  Age      City\n",
            "0   John   25  New York\n",
            "1  Alice   30    London\n",
            "\n",
            "    Name  Age    City\n",
            "1  Alice   30  London\n",
            "2    Bob   35   Paris\n"
          ]
        }
      ]
    }
  ]
}