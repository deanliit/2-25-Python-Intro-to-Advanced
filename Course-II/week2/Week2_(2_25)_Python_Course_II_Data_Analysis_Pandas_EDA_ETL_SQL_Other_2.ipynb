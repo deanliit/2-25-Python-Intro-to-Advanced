{
  "nbformat": 4,
  "nbformat_minor": 0,
  "metadata": {
    "colab": {
      "provenance": []
    },
    "kernelspec": {
      "name": "python3",
      "display_name": "Python 3"
    },
    "language_info": {
      "name": "python"
    }
  },
  "cells": [
    {
      "cell_type": "markdown",
      "source": [
        "#Python Course II - Weekly class demos and Exercises summary  \n",
        "- (Mon, Wed) - (8am-10:30am) - (2.5h class/demos/labs) / 30 min practice\n",
        "- Course II - 9 weeks\n",
        "- Weekly Assignments - 20 hours - due next week Monday\n",
        "- 3 Class Quizzes\n",
        "- 3 Data Analysis Quizzes - short data sql code example\n",
        "- Step-by-tep class topic demos\n",
        "\n",
        "#Github Course Notebook Refence\n",
        "\n",
        "https://github.com/deanliit/2-25-Python-Intro-to-Advanced\n",
        "\n",
        "## Python references\n",
        "- Course book\n"
      ],
      "metadata": {
        "id": "kkf01IuMAr4_"
      }
    },
    {
      "cell_type": "markdown",
      "source": [
        "## Python Course II Weekly Class Assignment #2\n",
        "<pre>\n",
        "<xmp>\n",
        "Reading Assignments:\n",
        "Python tutorial\n",
        "\n",
        "https://www.w3schools.com/python/default.asp\n",
        "Python Modules\n",
        "\n",
        "https://www.w3schools.com/python/pandas/default.asp\n",
        "Pandas\n",
        "\n",
        "https://www.w3schools.com/python/pandas/pandas_series.asp\n",
        "Series\n",
        "\n",
        "https://www.w3schools.com/python/pandas/pandas_dataframes.asp\n",
        "Dataframes\n",
        "\n",
        "Assignment Exercises:\n",
        "\n",
        "Complete all of the exercises, display output from each exercises\n",
        "Optional create exercises in Google Colabs notebooks\n",
        "\n",
        "\n",
        "Create a google collabs notebooks\n",
        "Create code in vs.code\n",
        "Complete all of the exercises, display output from each exercises\n",
        "\n",
        "Python tutorial examples\n",
        "https://www.w3schools.com/python/python_examples.asp\n",
        "Python Modules\n",
        "\n",
        "https://www.w3schools.com/python/pandas/default.asp\n",
        "https://www.w3schools.com/python/pandas/pandas_series.asp\n",
        "Series\n",
        "\n",
        "https://www.w3schools.com/python/pandas/pandas_dataframes.asp\n",
        "Dataframes\n",
        "\n",
        "Python Course Book Chapter\n",
        "Intermediate Exercises\n",
        "\n",
        "\n",
        "</xmp>\n",
        "</pre>"
      ],
      "metadata": {
        "id": "Y6PvWvErkYoo"
      }
    },
    {
      "cell_type": "markdown",
      "source": [
        "Introduction to Python\n",
        "\n",
        "https://www.w3schools.com/python/python_intro.asp\n",
        "\n",
        "\n",
        "<pre>\n",
        "\n",
        "---------------------------------------------\n",
        "#Course II Module Summary\n",
        "-----------------------------------------------\n",
        "\n",
        "Module #1\n",
        "- Git, GitHub introduction\n",
        "- Creating python command line applications\n",
        "- Python main app  __name__\n",
        "- Parameter array: *args, **kvargs\n",
        "- Import Modules\n",
        "- Error handling\n",
        "- pip install python-library-name\n",
        "- Course I review\n",
        "- Other\n",
        "\n",
        "Moduls #2\n",
        "- Python Data Analysis, EDA, ETL\n",
        "- Pandas\n",
        "- Graphs\n",
        "- SQL\n",
        "- Other\n",
        "\n",
        "Module #3\n",
        "- Class, OOP\n",
        "- Lamda\n",
        "- Other\n",
        "\n",
        "Module #4\n",
        "- Html introduction\n",
        "- Beautiful soup screen scraping\n",
        "- Other\n",
        "\n",
        "Module 5\n",
        "- Python ai, ml, npl introduction\n",
        "- PCAP Exam prep\n",
        "- Other\n",
        "\n",
        "</pre>\n",
        "\n"
      ],
      "metadata": {
        "id": "lhHzTF-3wluD"
      }
    },
    {
      "cell_type": "code",
      "source": [
        "#-- weekly topic summary\n",
        "#\n",
        "#Data Analysis\n",
        "#Other\n",
        "\n",
        "#Numpy - array management and mani[pultaion ]\n",
        "#https://www.programiz.com/python-programming/numpy/array-creation\n"
      ],
      "metadata": {
        "id": "-Z87eNhJI8F7"
      },
      "execution_count": null,
      "outputs": []
    },
    {
      "cell_type": "markdown",
      "source": [
        "#Data Analysis - EDA, ETL, ELT, SQL\n",
        "- Pandas - unstructured data, text files, json and structured data ie: dataframe\n",
        "- Numpy - used to create and manage arrays\n",
        "- SQL - structured data , Structured Query Language\n",
        "\n",
        "<pre>\n",
        "<xmp>\n",
        "EDA, ETL, ELT, SQL AI/ML\n",
        "----------------------------------------------------------\n",
        "\n",
        "https://www.programiz.com/python-programming/pandas/dataframe-manipulation\n",
        "\n",
        "https://www.w3schools.com/python/pandas/pandas_intro.asp\n",
        "\n",
        "\n",
        "#Data analysis - (EDA)\n",
        "\n",
        "https://www.programiz.com/python-programming/pandas/getting-started\n",
        "\n",
        "\n",
        "  - business intelligence - ie: charts, graphs, visualize data, dashboard, manually make predictions, reccomendations\n",
        "  - EDA - Eploritory Data Analysis\n",
        "- manipulating - sql and text or no-sql data\n",
        "- create, update, delete - (CRUD)\n",
        "- filtering and selecting data\n",
        "- remove null or error data\n",
        "- grouping data\n",
        "- create graph and charts\n",
        "- Other\n",
        "\n",
        "#ETL - Extract Transform Load\n",
        "- extract importing data or read in data\n",
        "- Transofrom - converting data to a dataframe or new data view ie: SQL, pandas\n",
        "- Load - exporting data to a source\n",
        "- custom code - ELT or ELT tools -\n",
        "- Source - Trnsfoprm - Destination\n",
        "\n",
        "</xmp>\n",
        "</pre>"
      ],
      "metadata": {
        "id": "WoFhQ5Ba3CXW"
      }
    },
    {
      "cell_type": "code",
      "source": [
        "#pandas demo #1 =- EDA, ETL, ELT\n",
        "#https://www.programiz.com/python-programming/pandas/series\n",
        "#\n",
        "#dataframe = in-memory table - rows, columns\n",
        "#ie: sql - filter, add, update, delete\n",
        "#pandas - many sql features, join, etc\n",
        "#\n",
        "#pandas / SQL comparison\n",
        "#pandas joins\n",
        "#-left, right, inner, full outer join\n",
        "#\n",
        "#https://pandas.pydata.org/docs/getting_started/comparison/comparison_with_sql.html\n",
        "#\n",
        "#rename columns, delete dataframe, other\n",
        "\n",
        "\"\"\"\n",
        "\n",
        "A\n",
        "---\n",
        "1\n",
        "2\n",
        "3\n",
        "\n",
        "\"\"\"\n",
        "\n",
        "import pandas as pd\n",
        "print(pd.DataFrame({\"A\":[1,2,3]}))\n",
        "\n"
      ],
      "metadata": {
        "id": "9kXEj11BzDw0",
        "colab": {
          "base_uri": "https://localhost:8080/"
        },
        "outputId": "66bddc2b-b70f-4de5-bf86-9357905e06eb"
      },
      "execution_count": 7,
      "outputs": [
        {
          "output_type": "stream",
          "name": "stdout",
          "text": [
            "   A\n",
            "0  1\n",
            "1  2\n",
            "2  3\n"
          ]
        }
      ]
    },
    {
      "cell_type": "code",
      "source": [
        "# Create a simple Pandas Series\n",
        "numbers = pd.Series([10, 20, 30, 40, 50])\n",
        "\n",
        "# Print the Series\n",
        "print(\"Pandas Series:\")\n",
        "print(numbers)\n",
        "\n",
        "print(\"index-1: \", numbers[1])\n"
      ],
      "metadata": {
        "colab": {
          "base_uri": "https://localhost:8080/"
        },
        "id": "8FhSeEvNeEp2",
        "outputId": "5e0fb9f5-5e09-4f8a-9f32-d6a3dcc6ddc3"
      },
      "execution_count": null,
      "outputs": [
        {
          "output_type": "stream",
          "name": "stdout",
          "text": [
            "Pandas Series:\n",
            "0    10\n",
            "1    20\n",
            "2    30\n",
            "3    40\n",
            "4    50\n",
            "dtype: int64\n",
            "index-1:  20\n"
          ]
        }
      ]
    },
    {
      "cell_type": "code",
      "source": [
        "# create a list\n",
        "a = [1, 3, 5]\n",
        "\n",
        "# create a series and specify labels\n",
        "my_series = pd.Series(a, index = [\"x\", \"y\", \"z\"])\n",
        "\n",
        "print(my_series)\n",
        "print(\"\")\n",
        "\n",
        "# display the value with label y\n",
        "print(\"index-y\", my_series[\"y\"])\n"
      ],
      "metadata": {
        "colab": {
          "base_uri": "https://localhost:8080/"
        },
        "id": "UlRgIf6qfYEB",
        "outputId": "e86aa496-1bda-4823-e1a3-3e59d1d40177"
      },
      "execution_count": null,
      "outputs": [
        {
          "output_type": "stream",
          "name": "stdout",
          "text": [
            "x    1\n",
            "y    3\n",
            "z    5\n",
            "dtype: int64\n",
            "\n",
            "index-y 3\n"
          ]
        }
      ]
    },
    {
      "cell_type": "code",
      "source": [
        "# create a dictionary\n",
        "grades = {\"Semester1\": 3.25, \"Semester2\": 3.28, \"Semester3\": 3.75}\n",
        "\n",
        "# select specific dictionary items using index argument\n",
        "my_series = pd.Series(grades, index = [\"Semester1\", \"Semester2\"])\n",
        "\n",
        "# display the series\n",
        "print(my_series)\n"
      ],
      "metadata": {
        "id": "wmi8F0nqghyW"
      },
      "execution_count": null,
      "outputs": []
    },
    {
      "cell_type": "code",
      "source": [
        "#pandas demo #2 =- EDA, ETL, ELT\n",
        "#https://www.programiz.com/python-programming/pandas/dataframe\n",
        "#\n",
        "#dataframe = in-memory table - rows, columns\n",
        "#ie: sql - filter, add, update, delete\n",
        "#pandas - many sql features, join, etc\n",
        "#\n",
        "#pandas / SQL comparison\n",
        "#pandas joins\n",
        "#-left, right, inner, full outer join\n",
        "#\n",
        "#https://pandas.pydata.org/docs/getting_started/comparison/comparison_with_sql.html\n",
        "#\n",
        "#rename columns, delete dataframe, other\n",
        "\n",
        "'''\n",
        "Name  Age City\n",
        "John  25  NY\n",
        "Alice 30  UK\n",
        "Bob   35  P\n",
        "'''\n",
        "\n",
        "# create a dictionary\n",
        "data = {'Name': ['John', 'Alice', 'Bob'],\n",
        "       'Age': [25, 30, 35],\n",
        "       'City': ['New York', 'London', 'Paris']}\n",
        "\n",
        "# create a dataframe from the dictionary\n",
        "df = pd.DataFrame(data)\n",
        "\n",
        "print(df.head(2))\n",
        "print(\"\")\n",
        "print(df.tail(2))\n"
      ],
      "metadata": {
        "colab": {
          "base_uri": "https://localhost:8080/"
        },
        "id": "Gn6x4zQonvLS",
        "outputId": "3aad37df-b64a-4bc4-a556-a76caa614951"
      },
      "execution_count": null,
      "outputs": [
        {
          "output_type": "stream",
          "name": "stdout",
          "text": [
            "    Name  Age      City\n",
            "0   John   25  New York\n",
            "1  Alice   30    London\n",
            "\n",
            "    Name  Age    City\n",
            "1  Alice   30  London\n",
            "2    Bob   35   Paris\n"
          ]
        }
      ]
    },
    {
      "cell_type": "code",
      "source": [
        "# create a two-dimensional list\n",
        "data = [['John', 25, 'New York'],\n",
        "       ['Alice', 30, 'London'],\n",
        "       ['Bob', 35, 'Paris']]\n",
        "\n",
        "# create a DataFrame from the list\n",
        "df = pd.DataFrame(data, columns=['Name', 'Age', 'City'])\n",
        "\n",
        "print(df.head(2))\n",
        "print(\"\")\n",
        "print(df.tail(2))\n"
      ],
      "metadata": {
        "colab": {
          "base_uri": "https://localhost:8080/"
        },
        "id": "LyGh6KYSjamJ",
        "outputId": "c658ce02-3ea9-456d-fa44-2cbcba37d056"
      },
      "execution_count": 8,
      "outputs": [
        {
          "output_type": "stream",
          "name": "stdout",
          "text": [
            "    Name  Age      City\n",
            "0   John   25  New York\n",
            "1  Alice   30    London\n",
            "\n",
            "    Name  Age    City\n",
            "1  Alice   30  London\n",
            "2    Bob   35   Paris\n"
          ]
        }
      ]
    },
    {
      "cell_type": "code",
      "source": [
        "\"\"\"\n",
        "JSON - read_json()\n",
        "Excel spreadsheet - read_excel()\n",
        "SQL - read_sql()\n",
        "\"\"\"\n",
        "\n",
        "# load data from a CSV file\n",
        "df = pd.read_csv('sample_data/products.txt')\n",
        "\n",
        "print(df.head(2))\n",
        "print(\"\")\n",
        "print(df.tail(2))\n",
        "\n"
      ],
      "metadata": {
        "colab": {
          "base_uri": "https://localhost:8080/"
        },
        "id": "h7dPuv4Jj0VX",
        "outputId": "a5fd4437-1ddf-44a8-e687-c5051a2c25e5"
      },
      "execution_count": 10,
      "outputs": [
        {
          "output_type": "stream",
          "name": "stdout",
          "text": [
            "  name           email          phone\n",
            "0  ann   ann@gmail.com   238-732-2334\n",
            "1  sam     sam@msn.com            NaN\n",
            "\n",
            "  name           email          phone\n",
            "2  jan   ann@yahoo.com   732-873-0884\n",
            "3  jim   jim@gmail.com   902-637-3478\n"
          ]
        }
      ]
    },
    {
      "cell_type": "code",
      "source": [
        "# create dataframe\n",
        "data = {'Name': ['John', 'Alice', 'Bob'],\n",
        "        'Age': [25, 28, 32],\n",
        "        'City': ['New York', 'London', 'Paris']}\n",
        "\n",
        "df = pd.DataFrame(data)\n",
        "\n",
        "# set the 'Name' column as index\n",
        "df.set_index('Name', inplace=True)\n",
        "\n",
        "print(df)"
      ],
      "metadata": {
        "id": "zmGg6tabmNl3"
      },
      "execution_count": null,
      "outputs": []
    },
    {
      "cell_type": "code",
      "source": [
        "data = {'Name': ['John', 'Alice', 'Bob'],\n",
        "        'Age': [25, 28, 32],\n",
        "        'City': ['New York', 'London', 'Paris']}\n",
        "\n",
        "df = pd.DataFrame(data)\n",
        "\n",
        "#i = index location =- iloc\n",
        "second_row = df.iloc[1]\n",
        "\n",
        "print(second_row)"
      ],
      "metadata": {
        "colab": {
          "base_uri": "https://localhost:8080/"
        },
        "id": "Stnc2evJmrGG",
        "outputId": "f3b75a38-a841-4e83-fdfa-fb5447322954"
      },
      "execution_count": 11,
      "outputs": [
        {
          "output_type": "stream",
          "name": "stdout",
          "text": [
            "Name     Alice\n",
            "Age         28\n",
            "City    London\n",
            "Name: 1, dtype: object\n"
          ]
        }
      ]
    },
    {
      "cell_type": "code",
      "source": [
        "#Numpy - array management and mani[pultaion ]\n",
        "#https://www.programiz.com/python-programming/numpy/array-creation\n",
        "\n",
        "import numpy as np\n",
        "\n",
        "# create a list named list1\n",
        "list1 = [2, 4, 6, 8]\n",
        "\n",
        "# create numpy array using list1\n",
        "array1 = np.array(list1)\n",
        "\n",
        "print(array1)\n"
      ],
      "metadata": {
        "id": "EM-ALWNbnPVP"
      },
      "execution_count": null,
      "outputs": []
    },
    {
      "cell_type": "code",
      "source": [
        "# generate an array of 5 random numbers\n",
        "array1 = np.random.rand(5)\n",
        "\n",
        "print(array1)"
      ],
      "metadata": {
        "id": "LY97rFfvwoVc"
      },
      "execution_count": null,
      "outputs": []
    },
    {
      "cell_type": "code",
      "source": [
        "#https://www.programiz.com/python-programming/pandas/dataframe-analysis\n",
        "#https://www.programiz.com/python-programming/pandas/dataframe-manipulation\n",
        "\n",
        "# define a dictionary containing student data\n",
        "data = {'Name': ['John', 'Emma', 'Michael', 'Sophia'],\n",
        "        'Height': [5.5, 6.0, 5.8, 5.3],\n",
        "        'Qualification': ['BSc', 'BBA', 'MBA', 'BSc']}\n",
        "\n",
        "# convert the dictionary into a DataFrame\n",
        "df = pd.DataFrame(data)\n",
        "\n",
        "# declare a new list\n",
        "address = ['New York', 'London', 'Sydney', 'Toronto']\n",
        "\n",
        "#dynamically add columns\n",
        "# assign the list as a column\n",
        "df['Address'] = address\n",
        "\n",
        "print(df)\n",
        "\n"
      ],
      "metadata": {
        "colab": {
          "base_uri": "https://localhost:8080/"
        },
        "id": "77nMlbP-xW0e",
        "outputId": "c449b997-cc08-4ab5-9290-7589e4681ecf"
      },
      "execution_count": 12,
      "outputs": [
        {
          "output_type": "stream",
          "name": "stdout",
          "text": [
            "      Name  Height Qualification   Address\n",
            "0     John     5.5           BSc  New York\n",
            "1     Emma     6.0           BBA    London\n",
            "2  Michael     5.8           MBA    Sydney\n",
            "3   Sophia     5.3           BSc   Toronto\n"
          ]
        }
      ]
    },
    {
      "cell_type": "code",
      "source": [
        "# add a new row\n",
        "df.loc[len(df.index)] = ['Amy', 5.2, 'BIT',\"NY\"]\n",
        "\n",
        "print(df)\n",
        "\n"
      ],
      "metadata": {
        "colab": {
          "base_uri": "https://localhost:8080/"
        },
        "id": "sON7Iwu2ynt3",
        "outputId": "1680abca-dc53-4ce1-d585-a54dfb22f6b4"
      },
      "execution_count": 15,
      "outputs": [
        {
          "output_type": "stream",
          "name": "stdout",
          "text": [
            "      Name  Height Qualification   Address\n",
            "0     John     5.5           BSc  New York\n",
            "1     Emma     6.0           BBA    London\n",
            "2  Michael     5.8           MBA    Sydney\n",
            "3   Sophia     5.3           BSc   Toronto\n",
            "4      Amy     5.2           BIT        NY\n"
          ]
        }
      ]
    },
    {
      "cell_type": "code",
      "source": [
        "# delete row with index 4\n",
        "df.drop(4, axis=0, inplace=True)\n",
        "\n",
        "# delete row with index 5\n",
        "df.drop(index=5, inplace=True)\n",
        "\n",
        "# delete rows with index 1 and 3\n",
        "df.drop([1, 3], axis=0, inplace=True)\n",
        "\n",
        "# display the modified DataFrame after deleting rows\n",
        "print(\"Modified DataFrame:\")\n",
        "print(df)\n"
      ],
      "metadata": {
        "id": "RuvyAceiz2wD"
      },
      "execution_count": null,
      "outputs": []
    },
    {
      "cell_type": "code",
      "source": [
        "# delete age column\n",
        "df.drop('Age', axis=1, inplace=True)\n",
        "\n",
        "# delete marital status column\n",
        "df.drop(columns='Marital Status', inplace=True)\n",
        "\n",
        "# delete height and profession columns\n",
        "df.drop(['Height', 'Profession'], axis=1, inplace=True)\n",
        "\n",
        "# display the modified DataFrame after deleting rows\n",
        "print(\"Modified DataFrame:\")\n",
        "print(df)\n"
      ],
      "metadata": {
        "id": "K6BC-YAR1VAw"
      },
      "execution_count": null,
      "outputs": []
    },
    {
      "cell_type": "code",
      "source": [
        "# rename column 'Name' to 'First_Name'\n",
        "df.rename(columns= {'Name': 'First_Name'}, inplace=True)\n",
        "\n",
        "# rename columns 'Age' and 'City'\n",
        "df.rename(mapper= {'Age': 'Number', 'City':'Address'}, axis=1, inplace=True)\n",
        "\n",
        "# display the DataFrame after renaming column\n",
        "print(\"Modified DataFrame:\")\n",
        "print(df)"
      ],
      "metadata": {
        "id": "1zgZZKuY1bSN"
      },
      "execution_count": null,
      "outputs": []
    },
    {
      "cell_type": "code",
      "source": [
        "# rename column one index label\n",
        "df.rename(index={0: 7}, inplace=True)\n",
        "\n",
        "# rename columns multiple index labels\n",
        "df.rename(mapper={1: 10, 2: 100}, axis=0, inplace=True)\n"
      ],
      "metadata": {
        "id": "gSLMq33I1s9d"
      },
      "execution_count": null,
      "outputs": []
    }
  ]
}