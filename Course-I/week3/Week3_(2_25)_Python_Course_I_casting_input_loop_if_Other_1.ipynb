{
  "nbformat": 4,
  "nbformat_minor": 0,
  "metadata": {
    "colab": {
      "provenance": []
    },
    "kernelspec": {
      "name": "python3",
      "display_name": "Python 3"
    },
    "language_info": {
      "name": "python"
    }
  },
  "cells": [
    {
      "cell_type": "markdown",
      "source": [
        "#Python Course I - Weekly class demos and Exercises summary  \n",
        "- (Mon, Wed) - (8am-10:30am) - (2.5h class/demos/labs) / 30 min practice\n",
        "- Course I - 7 weeks\n",
        "- Weekly Assignments - 20 hours - due next week Monday\n",
        "- 3 Class Quizzes\n",
        "- Step-by-tep class topic demos\n",
        "\n",
        "#Github Course Notebook Refence\n",
        "\n",
        "https://github.com/deanliit/2-25-Python-Intro-to-Advanced\n",
        "\n",
        "#Weekly Homework , Class Assignment, Class Project\n",
        "\n",
        "### Class Quiz - Email link to google forms\n",
        "### Weekly 20 hour Course Labs and Assignments email\n",
        "\n",
        "- practice examples from w3schools\n",
        "- examples from course book\n",
        "\n",
        "## Python references\n",
        "- Course book\n"
      ],
      "metadata": {
        "id": "kkf01IuMAr4_"
      }
    },
    {
      "cell_type": "markdown",
      "source": [
        "## Python class - weekly assignment #3 - due next week Monday\n",
        "<pre>\n",
        "\n",
        "Reading Assignments:\n",
        "\n",
        "google CoLabs Introduction\n",
        "https://colab.research.google.com/\n",
        "\n",
        "Google colabs introduction\n",
        "https://www.marqo.ai/blog/getting-started-with-google-colab-a-beginners-guide\n",
        "\n",
        "Python tutorial\n",
        "https://www.w3schools.com/python/default.asp\n",
        "\n",
        "Python Arrays\n",
        "Python While Loop\n",
        "Python For Loop\n",
        "\n",
        "Assignment exercises\n",
        "\n",
        "Complete all of the exercises, display output from each exercises\n",
        "Optional create exercises in Google Colabs notebooks\n",
        "\n",
        "https://www.w3schools.com/python/python_examples.asp\n",
        "\n",
        "Create a google collabs notebooks\n",
        "Create code in vs.code\n",
        "Complete all of the exercises, display output from each exercises\n",
        "\n",
        "Python Arrays\n",
        "Python While Loop\n",
        "Python For Loop\n",
        "\n",
        "\n",
        "</pre>"
      ],
      "metadata": {
        "id": "Y6PvWvErkYoo"
      }
    },
    {
      "cell_type": "markdown",
      "source": [
        "Introduction to Python\n",
        "\n",
        "https://www.w3schools.com/python/python_intro.asp\n",
        "\n",
        "\n",
        "<pre>\n",
        "\n",
        "---------------------------------------------\n",
        "#Course I Module Summary\n",
        "-----------------------------------------------\n",
        "\n",
        "# Module 1\n",
        "---------------------------\n",
        "Python fundamentals\n",
        "Data type\n",
        "Variables\n",
        "Input\n",
        "for, while loop\n",
        "Other\n",
        "\n",
        "# Module 2\n",
        "----------------------------\n",
        "Array index\n",
        "Slicers, list comprehension  \n",
        "Functions\n",
        "File input\n",
        "Other\n",
        "\n",
        "# Module 3\n",
        "--------------------------------\n",
        "Data structures\n",
        "Array, set, list, tuple, map\n",
        "Classes\n",
        "Lamda\n",
        "Other\n",
        "\n",
        "#optional - Module 4\n",
        "---------------------------------\n",
        "Intro to data analyst using python\n",
        "Pandas, numpy\n",
        "SQL\n",
        "Other\n",
        "\n",
        "</pre>\n",
        "\n"
      ],
      "metadata": {
        "id": "lhHzTF-3wluD"
      }
    },
    {
      "cell_type": "markdown",
      "source": [
        "# demo invoice/inventory program\n",
        "# python console program , other python programs\n",
        "\n",
        "#Intro to Python\n",
        "- https://www.w3schools.com/python/python_intro.asp\n",
        "- input, casting, loop, if, other\n",
        "- other\n",
        "\n",
        "#Review course quiz ie:\n",
        "- 3 quizzes for course 1, approx. every 2 weeks\n",
        "- 1 week to complete quiz\n",
        "- quiz review before and after a quiz\n",
        "- 6 multiple choice and 1 fill-in coding\n",
        "\n"
      ],
      "metadata": {
        "id": "aMfQfHswKEq7"
      }
    },
    {
      "cell_type": "code",
      "source": [
        "#week2-demo-4.py\n",
        "#python variables - in memory data that you will use later in your code\n",
        "\n",
        "#variables / data types\n",
        "title1 = \"intro to python's\"  #string\n",
        "title2 = 'intro to python\"s'  #string\n",
        "num1 = \"3.0\"    #string\n",
        "num2 = 3    #number - integer number\n",
        "num3 = 3.1    #number - floating point number including decimal\n",
        "var2 = True  #Boolean , true, false\n",
        "\n",
        "#print variables\n",
        "print(title1, num1, num2)\n",
        "\n",
        "#concatination or combining string output\n",
        "print(title2 + num1)\n",
        "\n",
        "#seperator\n",
        "print(title1,num1,num2,sep=\",\")\n",
        "\n",
        "#print f\n",
        "_str_title = title1 + num1\n",
        "\n",
        "print(f\"{title1},{num1},{num2}, {num3}\")\n",
        "print(f\"{title1 + num1},{num1},{num2}, {num3}\")\n",
        "print(f\"{_str_title},{num1},{num2}, {num3}\")\n",
        "\n",
        "#number , decimal formating\n",
        "print(\"%s, %s\" % (\"title1: \",title1))\n",
        "print(f\"%s, {num3:.2f}\" % title1)\n",
        "\n",
        "print(\"{}\".format(title1))\n",
        "print(\"{} {}\".format(title1, num1))\n",
        "\n",
        "#vs.code install and intro\n",
        "\n",
        "#casting\n",
        "#error when concatinating string and number\n",
        "\n",
        "#sameple python invoice, inventory program vers1..2..3\n"
      ],
      "metadata": {
        "colab": {
          "base_uri": "https://localhost:8080/"
        },
        "id": "s7p2opBeTmue",
        "outputId": "d0a969b4-0e33-4e9d-d333-ea4d1a28aa93"
      },
      "execution_count": null,
      "outputs": [
        {
          "output_type": "stream",
          "name": "stdout",
          "text": [
            "intro to python's 3.0 3\n",
            "intro to python\"s3.0\n",
            "intro to python's,3.0,3\n",
            "intro to python's,3.0,3, 3.1\n",
            "intro to python's3.0,3.0,3, 3.1\n",
            "intro to python's3.0,3.0,3, 3.1\n",
            "title1: , intro to python's\n",
            "intro to python's, 3.10\n",
            "intro to python's\n",
            "intro to python's 3.0\n"
          ]
        }
      ]
    },
    {
      "cell_type": "markdown",
      "source": [
        "# Software development best practice summary\n",
        "\n",
        "<pre>\n",
        "<xmp>\n",
        "more efficient way of writing program\n",
        "optimizing program, or refactoring program:\n",
        "  --------------------------------------------\n",
        "Development Best practice steps for many programs\n",
        "--------------------------------------------\n",
        "#1. import libraries\n",
        "#2. get user input, files, database, web, other\n",
        "#3. string data type\n",
        "#4. cast string to other data type int, float, bool, other\n",
        "#5. retrive system data and time\n",
        "#6. retrieve day, month, year\n",
        "#7. calculating total for 3 input items\n",
        "#8. calculation or numerical expression\n",
        "#9. rounding\n",
        "#10. cast data from 1 type to another\n",
        "#11. loop through a list of items\n",
        "#12. varify if data is true/false ie: making a decision true/false\n",
        "#13. output data - screen, file, database, web, other\n",
        "# other\n",
        "\n",
        "</xmp>\n",
        "</pre>"
      ],
      "metadata": {
        "id": "2H-EIil_E7yY"
      }
    },
    {
      "cell_type": "code",
      "source": [
        "#week2-demo-app-1.py\n",
        "#- input, casting, loop, if, other\n",
        "\n",
        "\"\"\"\n",
        "Write a program to compute total of two invoice/inventory items.\n",
        "note: can use integer or float numbers\n",
        "\n",
        "example:\n",
        "item1 -- 1\n",
        "item2 -- ?\n",
        "\n",
        "total ???\n",
        "\n",
        "#print(\"total: \", total)\n",
        "\n",
        "\"\"\"\n",
        "\n",
        "#solution 1\n",
        "\n",
        "item1 = 5     #int\n",
        "item2 = 10.5  #float\n",
        "\n",
        "#calculation - python expresions\n",
        "total = (item1 + item2)\n",
        "\n",
        "print(\"total: \", total)\n",
        "\n",
        "#other print examples\n",
        "#print(f\"\")\n",
        "#print(sep=)\n",
        "#print(\"\",end=)\n",
        "#print(\"{}\".format())\n",
        "#print(\" %s \" % ())\n"
      ],
      "metadata": {
        "colab": {
          "base_uri": "https://localhost:8080/"
        },
        "id": "tM3usYWuEmvV",
        "outputId": "e79a111d-d030-45dd-b00b-21588343d219"
      },
      "execution_count": null,
      "outputs": [
        {
          "output_type": "stream",
          "name": "stdout",
          "text": [
            "total:  15.5\n"
          ]
        }
      ]
    },
    {
      "cell_type": "code",
      "source": [
        "#week3-demo-app-1.py\n",
        "#- input, casting, loop, if, other\n",
        "\n",
        "\"\"\"\n",
        "Write a program to compute total of three invoice/inventory items.\n",
        "note: can use integer or float numbers\n",
        "note: can prompt for input\n",
        "\n",
        "example:\n",
        "item1 -- 1\n",
        "item2 -- ?\n",
        "item1 -- 1\n",
        "\n",
        "total ???\n",
        "\n",
        "#print(\"total: \", total)\n",
        "\"\"\"\n",
        "\n",
        "#solution 1\n",
        "\n",
        "item1 = 5     #int\n",
        "item2 = 10.5  #float\n",
        "item3 = 15    #int\n",
        "\n",
        "#calculation - python expresions\n",
        "total = (item1 + item2 + item3)\n",
        "\n",
        "print(\"total: \", total)\n",
        "\n",
        "#cast number to string also: int, str, float, boolean, other\n",
        "#TypeError: can only concatenate str (not \"float\") to str\n",
        "print(\"total: \" + str(total))\n",
        "\n",
        "print(f\"total: {total}\")\n",
        "\n",
        "#other print examples\n",
        "#print(f\"\")\n",
        "#print(sep=)\n",
        "#print(\"\",end=)\n",
        "#print(\"{}\".format())\n",
        "#print(\" %s \" % ())\n"
      ],
      "metadata": {
        "id": "3FZ6X3fMFfP7",
        "colab": {
          "base_uri": "https://localhost:8080/"
        },
        "outputId": "c8da3bf4-25bb-446d-a4fe-19d6387c1670"
      },
      "execution_count": 2,
      "outputs": [
        {
          "output_type": "stream",
          "name": "stdout",
          "text": [
            "total:  30.5\n",
            "total: 30.5\n",
            "total: 30.5\n"
          ]
        }
      ]
    },
    {
      "cell_type": "code",
      "source": [
        "#week3-demo-app-2.py\n",
        "#- input, casting, loop, if, other\n",
        "\n",
        "\"\"\"\n",
        "Write a program to compute total of three invoice/inventory items.\n",
        "note: can use integer or float numbers\n",
        "note: can prompt for input\n",
        "\n",
        "example:\n",
        "item1 -- 1\n",
        "item2 -- ?\n",
        "item1 -- 1\n",
        "\n",
        "total ???\n",
        "\n",
        "#print(\"total: \", total)\n",
        "\"\"\"\n",
        "\n",
        "#solution 1\n",
        "\n",
        "item1 = 5     #int\n",
        "item2 = 10.5  #float\n",
        "#item3 = \"15.1\"    #string, if cast to int python generate an error, because data type is float string\n",
        "item3 = \"15\"    #string, no error if convert int to float, because float is a larger data type\n",
        "\n",
        "#casting\n",
        "\n",
        "#calculation - python expresions\n",
        "#cast number to string also: int, str, float, boolean, other\n",
        "#TypeError: unsupported operand type(s) for +: 'float' and 'str'\n",
        "\n",
        "#total = (item1 + item2 + float(item3)) #float is larger than int `\n",
        "total = (item1 + item2 + int(item3))\n",
        "\n",
        "#cast number to string also: int, str, float, boolean, other\n",
        "#TypeError: can only concatenate str (not \"float\") to str\n",
        "print(\"total: \" + str(total))\n",
        "print(f\"total: {total}\")\n",
        "\n",
        "#other print examples\n",
        "#print(f\"\")\n",
        "#print(sep=)\n",
        "#print(\"\",end=)\n",
        "#print(\"{}\".format())\n",
        "#print(\" %s \" % ())\n"
      ],
      "metadata": {
        "colab": {
          "base_uri": "https://localhost:8080/"
        },
        "id": "fB0dJtktUvwt",
        "outputId": "67327fb6-d8cf-4efc-ecae-e317885aedbe"
      },
      "execution_count": 4,
      "outputs": [
        {
          "output_type": "stream",
          "name": "stdout",
          "text": [
            "total: 30.5\n",
            "total: 30.5\n"
          ]
        }
      ]
    },
    {
      "cell_type": "code",
      "source": [
        "#week3-demo-app-2-1.py\n",
        "#- input, casting, loop, if, other\n",
        "\n",
        "\"\"\"\n",
        "Write a program to compute total of three invoice/inventory items.\n",
        "note: can use integer or float numbers\n",
        "note: can prompt for input\n",
        "\n",
        "example:\n",
        "item1 -- 1\n",
        "item2 -- ?\n",
        "item1 -- 1\n",
        "\n",
        "total ???\n",
        "\n",
        "#print(\"total: \", total)\n",
        "\"\"\"\n",
        "\n",
        "#solution 1\n",
        "\n",
        "item1 = 5     #int\n",
        "item2 = 10.5  #float\n",
        "#item3 = \"15.1\"    #string, if cast to int python generate an error, because data type is float string\n",
        "item3 = \"15\"    #string, no error if convert int to float, because float is a larger data type\n",
        "\n",
        "#casting\n",
        "\n",
        "#calculation - python expresions\n",
        "#cast number to string also: int, str, float, boolean, other\n",
        "#TypeError: unsupported operand type(s) for +: 'float' and 'str'\n",
        "\n",
        "#total = (item1 + item2 + float(item3)) #float is larger than int `\n",
        "total = (item1 + item2 + int(item3))\n",
        "\n",
        "#cast number to string also: int, str, float, boolean, other\n",
        "#TypeError: can only concatenate str (not \"float\") to str\n",
        "print(\"total: \" + str(total))\n",
        "print(f\"total: {total}\")\n",
        "print(\"total: {}\".format(total))\n",
        "\n",
        "#other print examples\n",
        "#print(f\"\")\n",
        "#print(sep=)\n",
        "#print(\"\",end=)\n",
        "#print(\"{}\".format())\n",
        "#print(\" %s \" % ())\n"
      ],
      "metadata": {
        "colab": {
          "base_uri": "https://localhost:8080/"
        },
        "id": "fjJhlo4piiAS",
        "outputId": "acaa196b-1c73-482f-8234-cb5dfc13e0a7"
      },
      "execution_count": 10,
      "outputs": [
        {
          "output_type": "stream",
          "name": "stdout",
          "text": [
            "total: 30.5\n",
            "total: 30.5\n",
            "total: 30.5\n"
          ]
        }
      ]
    },
    {
      "cell_type": "code",
      "source": [
        "#week3-demo-app-3.py\n",
        "#- input, casting, loop, if, other\n",
        "\n",
        "\"\"\"\n",
        "Write a program to compute total of three invoice/inventory items.\n",
        "note: can use integer or float numbers\n",
        "note: can prompt for input\n",
        "\n",
        "example:\n",
        "item1 -- 1\n",
        "item2 -- ?\n",
        "item1 -- 1\n",
        "\n",
        "total ???\n",
        "\n",
        "#print(\"total: \", total)\n",
        "\"\"\"\n",
        "\n",
        "#solution 1\n",
        "\n",
        "#prompting at keyboard for user input\n",
        "\n",
        "item1 = input(\"item1: \") #string, user can enter int or float, other data\n",
        "item2 = input(\"item2: \") #string, user can enter int or float, other data\n",
        "item3 = input(\"item3: \") #string, user can enter int or float, other data\n",
        "\n",
        "#calculation - python expresions\n",
        "#reccomended: cast smaller type to larger type ie: int to float\n",
        "\n",
        "#logical error - unexpected result - not a code syntax error\n",
        "#total = (item1 + item2 + item3)\n",
        "\n",
        "#float to int cast err - casting a larger type float to a smmer type integer\n",
        "#ValueError: invalid literal for int() with base 10: '10.5'\n",
        "#total = (int(item1) + int(item2) + int(item3))\n",
        "total = (float(item1) + float(item2) + float(item3))\n",
        "\n",
        "print(\"total: \" + str(total))\n",
        "print(f\"total: {total}\")\n",
        "\n",
        "#other print examples\n",
        "#print(f\"\")\n",
        "#print(sep=)\n",
        "#print(\"\",end=)\n",
        "#print(\"{}\".format())\n",
        "#print(\" %s \" % ())\n"
      ],
      "metadata": {
        "colab": {
          "base_uri": "https://localhost:8080/"
        },
        "id": "rkU22Eq4dbG0",
        "outputId": "a97de801-a76c-4bd3-f7cf-3272d0d9ba8f"
      },
      "execution_count": 7,
      "outputs": [
        {
          "output_type": "stream",
          "name": "stdout",
          "text": [
            "item1: 5\n",
            "item2: 10.5\n",
            "item3: 15\n",
            "total: 30.5\n",
            "total: 30.5\n"
          ]
        }
      ]
    },
    {
      "cell_type": "code",
      "source": [
        "#week3-demo-app-4.py\n",
        "#- Intro to Python\n",
        "#- input, casting, loop, if, other\n",
        "\n",
        "\"\"\"\n",
        "Write a program to compute total of ten invoice/inventory items.\n",
        "note: can use integer or float numbers\n",
        "note: can prompt for input\n",
        "note: round to 2 decimal places\n",
        "\n",
        "round_total = round(total,2)\n",
        "\n",
        "example\n",
        "example:\n",
        "item1 -- 1\n",
        "item2 -- ?\n",
        "item1 -- 1\n",
        "item2 -- ?\n",
        "item1 -- 1\n",
        "item2 -- ?\n",
        "item1 -- 1\n",
        "item2 -- ?\n",
        "\n",
        "total ???\n",
        "\n",
        "#print(\"total: \", total)\n",
        "\"\"\"\n"
      ],
      "metadata": {
        "id": "7I2EZoxVFLhn"
      },
      "execution_count": null,
      "outputs": []
    },
    {
      "cell_type": "code",
      "source": [],
      "metadata": {
        "id": "sVB4qqWmmpJY"
      },
      "execution_count": null,
      "outputs": []
    }
  ]
}