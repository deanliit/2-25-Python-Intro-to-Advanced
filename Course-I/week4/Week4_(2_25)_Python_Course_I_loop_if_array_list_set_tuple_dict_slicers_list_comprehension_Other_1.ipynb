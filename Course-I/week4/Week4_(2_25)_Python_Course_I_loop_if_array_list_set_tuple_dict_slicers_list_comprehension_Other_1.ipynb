{
  "nbformat": 4,
  "nbformat_minor": 0,
  "metadata": {
    "colab": {
      "provenance": []
    },
    "kernelspec": {
      "name": "python3",
      "display_name": "Python 3"
    },
    "language_info": {
      "name": "python"
    }
  },
  "cells": [
    {
      "cell_type": "markdown",
      "source": [
        "#Python Course I - Weekly class demos and Exercises summary  \n",
        "- (Mon, Wed) - (8am-10:30am) - (2.5h class/demos/labs) / 30 min practice\n",
        "- Course I - 7 weeks\n",
        "- Weekly Assignments - 20 hours - due next week Monday\n",
        "- 3 Class Quizzes\n",
        "- Step-by-tep class topic demos\n",
        "\n",
        "#Github Course Notebook Refence\n",
        "\n",
        "https://github.com/deanliit/2-25-Python-Intro-to-Advanced\n",
        "\n",
        "#Weekly Homework , Class Assignment, Class Project\n",
        "\n",
        "### Class Quiz - Email link to google forms\n",
        "### Weekly 20 hour Course Labs and Assignments email\n",
        "\n",
        "- practice examples from w3schools\n",
        "- examples from course book\n",
        "\n",
        "## Python references\n",
        "- Course book\n"
      ],
      "metadata": {
        "id": "kkf01IuMAr4_"
      }
    },
    {
      "cell_type": "markdown",
      "source": [
        "## Python class - weekly assignment #4 - due next week Monday\n",
        "<pre>\n",
        "\n",
        "Reading Assignments:\n",
        "\n",
        "Python tutorial\n",
        "https://www.w3schools.com/python/default.asp\n",
        "\n",
        "-Python Lists\n",
        "-Python Tuples\n",
        "-Python Set\n",
        "\n",
        "Assignment exercises\n",
        "Complete all of the exercises, display output from each exercises\n",
        "Optional create exercises in Google Colabs notebooks\n",
        "https://www.w3schools.com/python/python_examples.asp\n",
        "\n",
        "Create a google collabs notebooks\n",
        "Create code in vs.code\n",
        "Complete all of the exercises, display output from each exercises\n",
        "\n",
        "-Python Lists\n",
        "-Python Tuples\n",
        "-Python Set\n",
        "\n",
        "</pre>"
      ],
      "metadata": {
        "id": "Y6PvWvErkYoo"
      }
    },
    {
      "cell_type": "markdown",
      "source": [
        "Introduction to Python\n",
        "\n",
        "https://www.w3schools.com/python/python_intro.asp\n",
        "\n",
        "\n",
        "<pre>\n",
        "\n",
        "---------------------------------------------\n",
        "#Course I Module Summary\n",
        "-----------------------------------------------\n",
        "\n",
        "# Module 1\n",
        "---------------------------\n",
        "Python fundamentals\n",
        "Data type\n",
        "Variables\n",
        "Input\n",
        "if, for, while loop\n",
        "Other\n",
        "\n",
        "# Module 2\n",
        "----------------------------\n",
        "Array index\n",
        "Slicers, list comprehension  \n",
        "Functions\n",
        "File input\n",
        "Other\n",
        "\n",
        "# Module 3\n",
        "--------------------------------\n",
        "Data structures\n",
        "Array, set, list, tuple, map\n",
        "Classes\n",
        "Lamda\n",
        "Other\n",
        "\n",
        "#optional - Module 4\n",
        "---------------------------------\n",
        "Intro to data analyst using python\n",
        "Pandas, numpy\n",
        "SQL\n",
        "Other\n",
        "\n",
        "</pre>\n",
        "\n"
      ],
      "metadata": {
        "id": "lhHzTF-3wluD"
      }
    },
    {
      "cell_type": "markdown",
      "source": [
        "# demo invoice/inventory program\n",
        "# python console program , other python programs\n",
        "\n",
        "#Intro to Python\n",
        "- https://www.w3schools.com/python/python_intro.asp\n",
        "- input, casting, loop, if, other\n",
        "- other\n",
        "\n",
        "#Review course quiz ie:\n",
        "- 3 quizzes for course 1, approx. every 2 weeks\n",
        "- 1 week to complete quiz\n",
        "- quiz review before and after a quiz\n",
        "- 6 multiple choice and 1 fill-in coding\n",
        "\n"
      ],
      "metadata": {
        "id": "aMfQfHswKEq7"
      }
    },
    {
      "cell_type": "code",
      "source": [
        "#week2-demo-4.py\n",
        "#python variables - in memory data that you will use later in your code\n",
        "\n",
        "#variables / data types\n",
        "title1 = \"intro to python's\"  #string\n",
        "title2 = 'intro to python\"s'  #string\n",
        "num1 = \"3.0\"    #string\n",
        "num2 = 3    #number - integer number\n",
        "num3 = 3.1    #number - floating point number including decimal\n",
        "var2 = True  #Boolean , true, false\n",
        "\n",
        "#print variables\n",
        "print(title1, num1, num2)\n",
        "\n",
        "#concatination or combining string output\n",
        "print(title2 + num1)\n",
        "\n",
        "#seperator\n",
        "print(title1,num1,num2,sep=\",\")\n",
        "\n",
        "#print f\n",
        "_str_title = title1 + num1\n",
        "\n",
        "print(f\"{title1},{num1},{num2}, {num3}\")\n",
        "print(f\"{title1 + num1},{num1},{num2}, {num3}\")\n",
        "print(f\"{_str_title},{num1},{num2}, {num3}\")\n",
        "\n",
        "#number , decimal formating\n",
        "print(\"%s, %s\" % (\"title1: \",title1))\n",
        "print(f\"%s, {num3:.2f}\" % title1)\n",
        "\n",
        "print(\"{}\".format(title1))\n",
        "print(\"{} {}\".format(title1, num1))\n",
        "\n",
        "#vs.code install and intro\n",
        "\n",
        "#casting\n",
        "#error when concatinating string and number\n",
        "\n",
        "#sameple python invoice, inventory program vers1..2..3\n"
      ],
      "metadata": {
        "colab": {
          "base_uri": "https://localhost:8080/"
        },
        "id": "s7p2opBeTmue",
        "outputId": "d0a969b4-0e33-4e9d-d333-ea4d1a28aa93"
      },
      "execution_count": null,
      "outputs": [
        {
          "output_type": "stream",
          "name": "stdout",
          "text": [
            "intro to python's 3.0 3\n",
            "intro to python\"s3.0\n",
            "intro to python's,3.0,3\n",
            "intro to python's,3.0,3, 3.1\n",
            "intro to python's3.0,3.0,3, 3.1\n",
            "intro to python's3.0,3.0,3, 3.1\n",
            "title1: , intro to python's\n",
            "intro to python's, 3.10\n",
            "intro to python's\n",
            "intro to python's 3.0\n"
          ]
        }
      ]
    },
    {
      "cell_type": "markdown",
      "source": [
        "# Software development best practice summary\n",
        "\n",
        "<pre>\n",
        "<xmp>\n",
        "more efficient way of writing program\n",
        "optimizing program, or refactoring program:\n",
        "  --------------------------------------------\n",
        "Development Best practice steps for many programs\n",
        "--------------------------------------------\n",
        "#1. import libraries\n",
        "#2. get user input, files, database, web, other\n",
        "#3. string data type\n",
        "#4. cast string to other data type int, float, bool, other\n",
        "#5. retrive system data and time\n",
        "#6. retrieve day, month, year\n",
        "#7. calculating total for 3 input items\n",
        "#8. calculation or numerical expression\n",
        "#9. rounding\n",
        "#10. cast data from 1 type to another\n",
        "#11. loop through a list of items\n",
        "#12. varify if data is true/false ie: making a decision true/false\n",
        "#13. output data - screen, file, database, web, other\n",
        "# other\n",
        "\n",
        "</xmp>\n",
        "</pre>"
      ],
      "metadata": {
        "id": "2H-EIil_E7yY"
      }
    },
    {
      "cell_type": "code",
      "source": [
        "#week2-demo-app-1.py\n",
        "#- input, casting, loop, if, other\n",
        "\n",
        "\"\"\"\n",
        "Write a program to compute total of two invoice/inventory items.\n",
        "note: can use integer or float numbers\n",
        "\n",
        "example:\n",
        "item1 -- 1\n",
        "item2 -- ?\n",
        "\n",
        "total ???\n",
        "\n",
        "#print(\"total: \", total)\n",
        "\n",
        "\"\"\"\n",
        "\n",
        "#solution 1\n",
        "\n",
        "item1 = 5     #int\n",
        "item2 = 10.5  #float\n",
        "\n",
        "#calculation - python expresions\n",
        "total = (item1 + item2)\n",
        "\n",
        "print(\"total: \", total)\n",
        "\n",
        "#other print examples\n",
        "#print(f\"\")\n",
        "#print(sep=)\n",
        "#print(\"\",end=)\n",
        "#print(\"{}\".format())\n",
        "#print(\" %s \" % ())\n"
      ],
      "metadata": {
        "colab": {
          "base_uri": "https://localhost:8080/"
        },
        "id": "tM3usYWuEmvV",
        "outputId": "e79a111d-d030-45dd-b00b-21588343d219"
      },
      "execution_count": null,
      "outputs": [
        {
          "output_type": "stream",
          "name": "stdout",
          "text": [
            "total:  15.5\n"
          ]
        }
      ]
    },
    {
      "cell_type": "code",
      "source": [
        "#week3-demo-app-1.py\n",
        "#- input, casting, loop, if, other\n",
        "\n",
        "\"\"\"\n",
        "Write a program to compute total of three invoice/inventory items.\n",
        "note: can use integer or float numbers\n",
        "note: can prompt for input\n",
        "\n",
        "example:\n",
        "item1 -- 1\n",
        "item2 -- ?\n",
        "item3 -- 1\n",
        "\n",
        "total ???\n",
        "\n",
        "#print(\"total: \", total)\n",
        "\"\"\"\n",
        "\n",
        "#solution 1\n",
        "\n",
        "item1 = 5     #int\n",
        "item2 = 10.5  #float\n",
        "item3 = 15    #int\n",
        "\n",
        "#calculation - python expresions\n",
        "total = (item1 + item2 + item3)\n",
        "\n",
        "print(\"total: \", total)\n",
        "\n",
        "#cast number to string also: int, str, float, boolean, other\n",
        "#TypeError: can only concatenate str (not \"float\") to str\n",
        "print(\"total: \" + str(total))\n",
        "\n",
        "print(f\"total: {total}\")\n",
        "\n",
        "#other print examples\n",
        "#print(f\"\")\n",
        "#print(sep=)\n",
        "#print(\"\",end=)\n",
        "#print(\"{}\".format())\n",
        "#print(\" %s \" % ())\n"
      ],
      "metadata": {
        "id": "3FZ6X3fMFfP7",
        "colab": {
          "base_uri": "https://localhost:8080/"
        },
        "outputId": "c8da3bf4-25bb-446d-a4fe-19d6387c1670"
      },
      "execution_count": null,
      "outputs": [
        {
          "output_type": "stream",
          "name": "stdout",
          "text": [
            "total:  30.5\n",
            "total: 30.5\n",
            "total: 30.5\n"
          ]
        }
      ]
    },
    {
      "cell_type": "code",
      "source": [
        "#week3-demo-app-2.py\n",
        "#- input, casting, loop, if, other\n",
        "\n",
        "\"\"\"\n",
        "Write a program to compute total of three invoice/inventory items.\n",
        "note: can use integer or float numbers\n",
        "note: can prompt for input\n",
        "\n",
        "example:\n",
        "item1 -- 1\n",
        "item2 -- ?\n",
        "item1 -- 1\n",
        "\n",
        "total ???\n",
        "\n",
        "#print(\"total: \", total)\n",
        "\"\"\"\n",
        "\n",
        "#solution 1\n",
        "\n",
        "item1 = 5     #int\n",
        "item2 = 10.5  #float\n",
        "#item3 = \"15.1\"    #string, if cast to int python generate an error, because data type is float string\n",
        "item3 = \"15\"    #string, no error if convert int to float, because float is a larger data type\n",
        "\n",
        "#casting\n",
        "\n",
        "#calculation - python expresions\n",
        "#cast number to string also: int, str, float, boolean, other\n",
        "#TypeError: unsupported operand type(s) for +: 'float' and 'str'\n",
        "\n",
        "#total = (item1 + item2 + float(item3)) #float is larger than int `\n",
        "total = (item1 + item2 + int(item3))\n",
        "\n",
        "#cast number to string also: int, str, float, boolean, other\n",
        "#TypeError: can only concatenate str (not \"float\") to str\n",
        "print(\"total: \" + str(total))\n",
        "print(f\"total: {total}\")\n",
        "\n",
        "#other print examples\n",
        "#print(f\"\")\n",
        "#print(sep=)\n",
        "#print(\"\",end=)\n",
        "#print(\"{}\".format())\n",
        "#print(\" %s \" % ())\n"
      ],
      "metadata": {
        "colab": {
          "base_uri": "https://localhost:8080/"
        },
        "id": "fB0dJtktUvwt",
        "outputId": "67327fb6-d8cf-4efc-ecae-e317885aedbe"
      },
      "execution_count": null,
      "outputs": [
        {
          "output_type": "stream",
          "name": "stdout",
          "text": [
            "total: 30.5\n",
            "total: 30.5\n"
          ]
        }
      ]
    },
    {
      "cell_type": "code",
      "source": [
        "#week3-demo-app-2-1.py\n",
        "#- input, casting, loop, if, other\n",
        "\n",
        "\"\"\"\n",
        "Write a program to compute total of three invoice/inventory items.\n",
        "note: can use integer or float numbers\n",
        "note: can prompt for input\n",
        "\n",
        "example:\n",
        "item1 -- 1\n",
        "item2 -- ?\n",
        "item1 -- 1\n",
        "\n",
        "total ???\n",
        "\n",
        "#print(\"total: \", total)\n",
        "\"\"\"\n",
        "\n",
        "#solution 1\n",
        "\n",
        "item1 = 5     #int\n",
        "item2 = 10.5  #float\n",
        "#item3 = \"15.1\"    #string, if cast to int python generate an error, because data type is float string\n",
        "item3 = \"15\"    #string, no error if convert int to float, because float is a larger data type\n",
        "\n",
        "#casting\n",
        "\n",
        "#calculation - python expresions\n",
        "#cast number to string also: int, str, float, boolean, other\n",
        "#TypeError: unsupported operand type(s) for +: 'float' and 'str'\n",
        "\n",
        "#total = (item1 + item2 + float(item3)) #float is larger than int `\n",
        "total = (item1 + item2 + int(item3))\n",
        "\n",
        "#cast number to string also: int, str, float, boolean, other\n",
        "#TypeError: can only concatenate str (not \"float\") to str\n",
        "print(\"total: \" + str(total))\n",
        "print(f\"total: {total}\")\n",
        "print(\"total: {}\".format(total))\n",
        "\n",
        "#other print examples\n",
        "#print(f\"\")\n",
        "#print(sep=)\n",
        "#print(\"\",end=)\n",
        "#print(\"{}\".format())\n",
        "#print(\" %s \" % ())\n"
      ],
      "metadata": {
        "colab": {
          "base_uri": "https://localhost:8080/"
        },
        "id": "fjJhlo4piiAS",
        "outputId": "acaa196b-1c73-482f-8234-cb5dfc13e0a7"
      },
      "execution_count": null,
      "outputs": [
        {
          "output_type": "stream",
          "name": "stdout",
          "text": [
            "total: 30.5\n",
            "total: 30.5\n",
            "total: 30.5\n"
          ]
        }
      ]
    },
    {
      "cell_type": "code",
      "source": [
        "#week3-demo-app-3.py\n",
        "#- input, casting, loop, if, other\n",
        "\n",
        "\"\"\"\n",
        "Write a program to compute total of three invoice/inventory items.\n",
        "note: can use integer or float numbers\n",
        "note: can prompt for input\n",
        "\n",
        "example:\n",
        "item1 -- 1\n",
        "item2 -- ?\n",
        "item1 -- 1\n",
        "\n",
        "total ???\n",
        "\n",
        "#print(\"total: \", total)\n",
        "\"\"\"\n",
        "\n",
        "#solution 1\n",
        "\n",
        "#prompting at keyboard for user input\n",
        "\n",
        "item1 = input(\"item1: \") #string, user can enter int or float, other data\n",
        "item2 = input(\"item2: \") #string, user can enter int or float, other data\n",
        "item3 = input(\"item3: \") #string, user can enter int or float, other data\n",
        "\n",
        "#calculation - python expresions\n",
        "#reccomended: cast smaller type to larger type ie: int to float\n",
        "\n",
        "#logical error - unexpected result - not a code syntax error\n",
        "#total = (item1 + item2 + item3)\n",
        "\n",
        "#float to int cast err - casting a larger type float to a smmer type integer\n",
        "#ValueError: invalid literal for int() with base 10: '10.5'\n",
        "#total = (int(item1) + int(item2) + int(item3))\n",
        "total = (float(item1) + float(item2) + float(item3))\n",
        "\n",
        "print(\"total: \" + str(total))\n",
        "print(f\"total: {total}\")\n",
        "\n",
        "#other print examples\n",
        "#print(f\"\")\n",
        "#print(sep=)\n",
        "#print(\"\",end=)\n",
        "#print(\"{}\".format())\n",
        "#print(\" %s \" % ())\n"
      ],
      "metadata": {
        "colab": {
          "base_uri": "https://localhost:8080/"
        },
        "id": "rkU22Eq4dbG0",
        "outputId": "a97de801-a76c-4bd3-f7cf-3272d0d9ba8f"
      },
      "execution_count": null,
      "outputs": [
        {
          "output_type": "stream",
          "name": "stdout",
          "text": [
            "item1: 5\n",
            "item2: 10.5\n",
            "item3: 15\n",
            "total: 30.5\n",
            "total: 30.5\n"
          ]
        }
      ]
    },
    {
      "cell_type": "code",
      "source": [
        "#week3-demo-app-4.py\n",
        "\"\"\"\n",
        "Write a program to compute total of ten invoice/inventory items.\n",
        "note: can use integer or float numbers\n",
        "note: can prompt for input\n",
        "note: round to 2 decimal places\n",
        "\n",
        "input example:\n",
        "item1 -- 1\n",
        "item2 -- ?\n",
        "item3 -- 1\n",
        ".....\n",
        "\n",
        "output:\n",
        "total ???\n",
        "\n",
        "#print(\"total: \", total)\n",
        "#note: display other print formatting statements\n",
        "\n",
        "\"\"\"\n",
        "\n",
        "item1 = 5 #float(input(\"item1: \"))\n",
        "item2 = 15.3 #float(input(\"item2: \"))\n",
        "item3 = 20 #float(input(\"item3: \"))\n",
        "item4 = 5 #float(input(\"item4: \"))\n",
        "item5 = 10 #float(input(\"item5: \"))\n",
        "item6 = 30 #float(input(\"item6: \"))\n",
        "item7 = 35 #float(input(\"item7: \"))\n",
        "item8 = 212.5 #float(input(\"item8: \"))\n",
        "item9 = 11.5 #float(input(\"item9: \"))\n",
        "item10 = 20.4 #float(input(\"item10: \"))\n",
        "\n",
        "#logical errors - unxpected resut\n",
        "#syntax errors - code error\n",
        "total = (item1 + item2 + item3 + item4 + item5 + item6 + item7 + item8 + item9 + item10)\n",
        "round_total = round(total,2)\n",
        "\n",
        "print(\"total: \", total)\n",
        "print(\"total: \" + str(total))\n",
        "#other print: sep, f\"\", \"s%\" % (var)\n",
        "\n"
      ],
      "metadata": {
        "id": "7I2EZoxVFLhn",
        "colab": {
          "base_uri": "https://localhost:8080/"
        },
        "outputId": "61fd0908-3abf-4620-dae8-ae9a4aca048f"
      },
      "execution_count": null,
      "outputs": [
        {
          "output_type": "stream",
          "name": "stdout",
          "text": [
            "total:  364.7\n",
            "total: 364.7\n"
          ]
        }
      ]
    },
    {
      "cell_type": "code",
      "source": [
        "#other examples; input name, string length, uppercase, loop intro , array , if statement demo, other\n",
        "#loop , range demo, array demo\n",
        "\n",
        "#week3-input-if-demo-1.py\n",
        "name = input(\"name: \")\n",
        "email = input(\"email: \")\n",
        "\n",
        "print(\"name:\",name.upper(),\"email:\",email.upper(),sep=\",\")\n",
        "print(\"length name\", len(name))\n",
        "print(f\"name: {name.upper()}, email: {email.upper()} \")\n"
      ],
      "metadata": {
        "colab": {
          "base_uri": "https://localhost:8080/"
        },
        "id": "6NmQfmDSAZHt",
        "outputId": "a45b103a-1db3-4db4-b134-345d56d45170"
      },
      "execution_count": null,
      "outputs": [
        {
          "output_type": "stream",
          "name": "stdout",
          "text": [
            "name: ann\n",
            "email: ann@gmail.com\n",
            "name:,ANN,email:,ANN@GMAIL.COM\n",
            "length name 3\n",
            "name: ANN, email: ANN@GMAIL.COM \n"
          ]
        }
      ]
    },
    {
      "cell_type": "code",
      "source": [
        "#other examples; input name, string length, uppercase, loop intro , array , if statement demo, other\n",
        "#loop , range demo, array demo\n",
        "#loops, for, while\n",
        "\n",
        "#week3-loop-demo-1.py\n",
        "\n",
        "#indented code syntas\n",
        "#: end of an expression\n",
        "for i in range(10):\n",
        "  #inside loop - any valid python code\n",
        "  print(\"item: \", i)\n",
        "\n"
      ],
      "metadata": {
        "colab": {
          "base_uri": "https://localhost:8080/"
        },
        "id": "Iirbk4YTB4ar",
        "outputId": "e1225561-1594-4cd0-b2f4-62c496ea906f"
      },
      "execution_count": null,
      "outputs": [
        {
          "output_type": "stream",
          "name": "stdout",
          "text": [
            "item:  0\n",
            "item:  1\n",
            "item:  2\n",
            "item:  3\n",
            "item:  4\n",
            "item:  5\n",
            "item:  6\n",
            "item:  7\n",
            "item:  8\n",
            "item:  9\n"
          ]
        }
      ]
    },
    {
      "cell_type": "code",
      "source": [
        "#other examples; input name, string length, uppercase, loop intro , array , if statement demo, other\n",
        "#loop , range demo, array demo\n",
        "#loops, for, while\n",
        "\n",
        "#week3-loop-demo-2.py\n",
        "\n",
        "#indented code syntas\n",
        "#: end of an expression\n",
        "for i in range(1,10):\n",
        "  #inside loop - any valid python code\n",
        "  print(\"item: \", i)\n"
      ],
      "metadata": {
        "colab": {
          "base_uri": "https://localhost:8080/"
        },
        "id": "rOlQ1FUWjVcX",
        "outputId": "490a6216-5abd-4288-ef6a-d27f2f8e3bcc"
      },
      "execution_count": null,
      "outputs": [
        {
          "output_type": "stream",
          "name": "stdout",
          "text": [
            "item:  1\n",
            "item:  2\n",
            "item:  3\n",
            "item:  4\n",
            "item:  5\n",
            "item:  6\n",
            "item:  7\n",
            "item:  8\n",
            "item:  9\n"
          ]
        }
      ]
    },
    {
      "cell_type": "code",
      "source": [
        "#other examples; input name, string length, uppercase, loop intro , array , if statement demo, other\n",
        "#loop , range demo, array demo\n",
        "#loops, for, while, nested loops\n",
        "\n",
        "#week3-loop-demo-2.py\n",
        "\n",
        "#indented code syntas - space or tabs\n",
        "#: end of an expression\n",
        "for i in range(1,10):\n",
        " #inside loop - any valid python code\n",
        " print(\"item: \", i)\n",
        " #tab, space alignment error\n",
        " #all code must be with the same indented mar\n",
        " # print(\"\")\n",
        " for z in range(5):\n",
        "    print(\"z: \", z)\n"
      ],
      "metadata": {
        "colab": {
          "base_uri": "https://localhost:8080/"
        },
        "id": "nKTsRuzZj_-w",
        "outputId": "d6df06c4-b617-475a-8eec-d720751d96b0"
      },
      "execution_count": null,
      "outputs": [
        {
          "output_type": "stream",
          "name": "stdout",
          "text": [
            "item:  1\n",
            "z:  0\n",
            "z:  1\n",
            "z:  2\n",
            "z:  3\n",
            "z:  4\n",
            "item:  2\n",
            "z:  0\n",
            "z:  1\n",
            "z:  2\n",
            "z:  3\n",
            "z:  4\n",
            "item:  3\n",
            "z:  0\n",
            "z:  1\n",
            "z:  2\n",
            "z:  3\n",
            "z:  4\n",
            "item:  4\n",
            "z:  0\n",
            "z:  1\n",
            "z:  2\n",
            "z:  3\n",
            "z:  4\n",
            "item:  5\n",
            "z:  0\n",
            "z:  1\n",
            "z:  2\n",
            "z:  3\n",
            "z:  4\n",
            "item:  6\n",
            "z:  0\n",
            "z:  1\n",
            "z:  2\n",
            "z:  3\n",
            "z:  4\n",
            "item:  7\n",
            "z:  0\n",
            "z:  1\n",
            "z:  2\n",
            "z:  3\n",
            "z:  4\n",
            "item:  8\n",
            "z:  0\n",
            "z:  1\n",
            "z:  2\n",
            "z:  3\n",
            "z:  4\n",
            "item:  9\n",
            "z:  0\n",
            "z:  1\n",
            "z:  2\n",
            "z:  3\n",
            "z:  4\n"
          ]
        }
      ]
    },
    {
      "cell_type": "code",
      "source": [
        "#other examples; input name, string length, uppercase, loop intro , array , if statement demo, other\n",
        "#loop , range demo, array demo\n",
        "#loops, for, while, nested loops\n",
        "\n",
        "#week3-loop-demo-3.py\n",
        "\n",
        "#while (logical expression - true/false) exit loop\n",
        "#logical error\n",
        "# can have an endless loop if i is not incremented\n",
        "#python used variable from cell above\n",
        "\n",
        "i = 0\n",
        "#or while(var1 not equal value1)\n",
        "while i < 10:\n",
        " #true condition\n",
        " print(\"item: \", i)\n",
        " i = i + 1\n",
        "else:\n",
        "  #flase condiftion after loop completes\n",
        "  print(\"loop complete\")\n",
        "\n",
        "if i == 10:\n",
        "    print(\"loop completed=\")\n"
      ],
      "metadata": {
        "colab": {
          "base_uri": "https://localhost:8080/"
        },
        "id": "x3fBQ-csnKur",
        "outputId": "042d6d28-4860-4c3c-b1f0-72c2cae825c9"
      },
      "execution_count": null,
      "outputs": [
        {
          "output_type": "stream",
          "name": "stdout",
          "text": [
            "item:  0\n",
            "item:  1\n",
            "item:  2\n",
            "item:  3\n",
            "item:  4\n",
            "item:  5\n",
            "item:  6\n",
            "item:  7\n",
            "item:  8\n",
            "item:  9\n",
            "loop complete\n"
          ]
        }
      ]
    },
    {
      "cell_type": "code",
      "source": [
        "#other examples; input name, string length, uppercase, loop intro , array , if statement demo, other\n",
        "#loop , range demo, array demo\n",
        "\n",
        "#week3-array-demo-1.py\n",
        "\n",
        "\"\"\"\n",
        "#can contain duplicates, can contain unique values, can be read only\n",
        "#length of array, access index of an array\n",
        "#loop through array, access index, insert, update, delete, search\n",
        "\"\"\"\n",
        "arr1 = [1,6,34.7,36,346,37.18,6]\n",
        "arr2 = [\"item1\",\"item2\", 3, 5, 3]\n",
        "\n",
        "print(\"arr1 length: \", len(arr1))\n",
        "print(\"arr2 length: \", len(arr2))\n"
      ],
      "metadata": {
        "colab": {
          "base_uri": "https://localhost:8080/"
        },
        "id": "VJW66jhzB-gW",
        "outputId": "6c7e2df9-c55f-4c7e-ef62-aac8cdf6d0c5"
      },
      "execution_count": null,
      "outputs": [
        {
          "output_type": "stream",
          "name": "stdout",
          "text": [
            "arr1 length:  7\n",
            "arr2 length:  5\n"
          ]
        }
      ]
    },
    {
      "cell_type": "code",
      "source": [
        "#other examples; input name, string length, uppercase, loop intro , array , if statement demo, other\n",
        "#loop , range demo, array demo\n",
        "\n",
        "#week3-array-demo-2.py\n",
        "\n",
        "\"\"\"\n",
        "#can contain duplicates, can contain unique values, can be read only\n",
        "#length of array, access index of an array\n",
        "#loop through array, access index, insert, update, delete, search\n",
        "\"\"\"\n",
        "arr1 = [1,6,34.7,36,346,37.18,6]\n",
        "arr2 = [\"item1\",\"item2\", 3, 5, 3]\n",
        "\n",
        "print(\"\")\n",
        "print(arr1)\n",
        "print(\"\")\n",
        "\n",
        "\n",
        "print(\"arr1 length: \", len(arr1))\n",
        "print(\"arr2 length: \", len(arr2))\n",
        "\n",
        "print(\"\")\n",
        "\n",
        "for i in arr1:\n",
        "  print(\"item: \", i)\n",
        "\n",
        "\n"
      ],
      "metadata": {
        "colab": {
          "base_uri": "https://localhost:8080/"
        },
        "id": "wWO6XcserKmP",
        "outputId": "301c3855-af40-430a-dd3e-d3697670bb2c"
      },
      "execution_count": null,
      "outputs": [
        {
          "output_type": "stream",
          "name": "stdout",
          "text": [
            "\n",
            "[1, 6, 34.7, 36, 346, 37.18, 6]\n",
            "\n",
            "arr1 length:  7\n",
            "arr2 length:  5\n",
            "\n",
            "item:  1\n",
            "item:  6\n",
            "item:  34.7\n",
            "item:  36\n",
            "item:  346\n",
            "item:  37.18\n",
            "item:  6\n"
          ]
        }
      ]
    },
    {
      "cell_type": "code",
      "source": [
        "#other examples; input name, string length, uppercase, loop intro , array , if statement demo, other\n",
        "#loop , range demo, array demo\n",
        "\n",
        "#week3-array-demo-3.py\n",
        "\n",
        "\"\"\"\n",
        "#can contain duplicates, can contain unique values, can be read only\n",
        "#length of array, access index of an array\n",
        "#loop through array, access index, insert, update, delete, search\n",
        "\"\"\"\n",
        "arr1 = [1,6,34.7,36,346,37.18,6]\n",
        "arr2 = [\"item1\",\"item2\", 3, 5, 3]\n",
        "\n",
        "print(\"\")\n",
        "print(arr1)\n",
        "print(\"\")\n",
        "\n",
        "\n",
        "print(\"arr1 length: \", len(arr1))\n",
        "print(\"arr2 length: \", len(arr2))\n",
        "\n",
        "print(\"\")\n",
        "\n",
        "for i in arr1:\n",
        "  print(\"item: \", i)\n",
        "\n",
        "#access array index\n",
        "#index out of bound\n",
        "print(\"\\n-- array index -- \\n\")\n",
        "print(\"index-0 arr1: \", arr1[0])\n",
        "print(\"index-1 arr1: \", arr1[1])\n",
        "print(\"index-3 arr1: \", arr1[3])\n",
        "#index out of bound\n",
        "#print(\"index-10 arr1: \", arr1[10])\n",
        "\n"
      ],
      "metadata": {
        "colab": {
          "base_uri": "https://localhost:8080/"
        },
        "id": "QaKgMr4urrOu",
        "outputId": "07202e20-47b0-400f-bfc1-4682df795fbf"
      },
      "execution_count": null,
      "outputs": [
        {
          "output_type": "stream",
          "name": "stdout",
          "text": [
            "\n",
            "[1, 6, 34.7, 36, 346, 37.18, 6]\n",
            "\n",
            "arr1 length:  7\n",
            "arr2 length:  5\n",
            "\n",
            "item:  1\n",
            "item:  6\n",
            "item:  34.7\n",
            "item:  36\n",
            "item:  346\n",
            "item:  37.18\n",
            "item:  6\n",
            "\n",
            "-- array index -- \n",
            "\n",
            "index-0 arr1:  1\n",
            "index-1 arr1:  6\n",
            "index-3 arr1:  36\n"
          ]
        }
      ]
    },
    {
      "cell_type": "code",
      "source": [
        "#week3-demo-inv-app-2.py\n",
        "\n",
        "\"\"\"\n",
        "\n",
        "Write a program to compute total of twenty invoice/inventory items.\n",
        "note: can use integer or float numbers\n",
        "note: enter items into an array\n",
        "note: prmopt for user email , convert email to uppercase\n",
        "note: round to 2 decimal places\n",
        "\n",
        "input example:\n",
        "item1 -- 1\n",
        "item2 -- ?\n",
        ".....\n",
        "\n",
        "output:\n",
        "\n",
        "USER@EMAIL.COM\n",
        "discount:\n",
        "total :\n",
        "\n",
        "#print(\"total: \", total)\n",
        "#note: display other print formatting statements\n",
        "\n",
        "\"\"\"\n",
        "\n",
        "#array/list - store sequence/collection of data in memory referenced by a variable name\n",
        "#examepl: arr1 = [1,6,34.7,36,346,37.18]\n",
        "#can contain duplicates, can contain unique values, can be read only\n",
        "#length of array, access index of an array\n",
        "#loop through array, access index, insert, update, delete, search, if exists\n",
        "\n",
        "items = [1,6,34.7,36,346,37.18,6,20,19,17,12.2,7,126.2,72,31.7,18.22,31,44,53,112.34]\n",
        "\n",
        "print(items)\n",
        "print(\"\\nitems length:\", len(items))\n",
        "\n",
        "#total = (items[0] + items[1] + items[2] + items[3]) #...item[4]....\n",
        "total = 0\n",
        "for i in items:\n",
        "  total = total + i\n",
        "\n",
        "email = input(\"email: \").upper()\n",
        "\n",
        "rtotal = round(total,2)\n",
        "\n",
        "print(\"\\n email: \", email)\n",
        "print(\"\\n total: \", total)\n",
        "print(\"\\n round total: \", rtotal)\n",
        "\n",
        "#input email\n",
        "#round\n",
        "\n"
      ],
      "metadata": {
        "id": "sVB4qqWmmpJY",
        "colab": {
          "base_uri": "https://localhost:8080/"
        },
        "outputId": "699aedce-ff87-4efb-d9d0-aeba497934f0"
      },
      "execution_count": null,
      "outputs": [
        {
          "output_type": "stream",
          "name": "stdout",
          "text": [
            "[1, 6, 34.7, 36, 346, 37.18, 6, 20, 19, 17, 12.2, 7, 126.2, 72, 31.7, 18.22, 31, 44, 53, 112.34]\n",
            "\n",
            "items length: 20\n",
            "email: ann@gmail.com\n",
            "\n",
            " email:  ANN@GMAIL.COM\n",
            "\n",
            " total:  1030.5400000000002\n",
            "\n",
            " round total:  1030.54\n"
          ]
        }
      ]
    },
    {
      "cell_type": "code",
      "source": [
        "#compute percent\n",
        "\n",
        "amount = 1000\n",
        "percent = (10/100)\n",
        "# module - % - remainder division\n",
        "\n",
        "discount = (amount * percent)\n",
        "total_discount = (amount - discount)\n",
        "total_bonus = (amount + discount)\n",
        "\n",
        "print(\"amount: \", amount)\n",
        "print(\"percent: \", percent, \" = \", (percent*100))\n",
        "print(\"percent total: \", total_discount)\n",
        "print(\"bonus total: \", total_bonus)\n"
      ],
      "metadata": {
        "colab": {
          "base_uri": "https://localhost:8080/"
        },
        "id": "7bv-9XBvrmE2",
        "outputId": "2666b02b-09e3-40cc-8c97-ed8ef003ac0b"
      },
      "execution_count": 18,
      "outputs": [
        {
          "output_type": "stream",
          "name": "stdout",
          "text": [
            "amount:  1000\n",
            "percent:  0.1  =  10.0\n",
            "percent total:  900.0\n",
            "bonus total:  1100.0\n"
          ]
        }
      ]
    },
    {
      "cell_type": "code",
      "source": [
        "\"\"\"\n",
        "\n",
        "Write a program to compute total of twenty invoice/inventory items.\n",
        "note: can use integer or float numbers\n",
        "note: enter items into an array\n",
        "note: prmopt for user email , convert email to uppercase\n",
        "note: round to 2 decimal places\n",
        "note: if total is > 100 then apply 10% discount\n",
        "\n",
        "input example:\n",
        "item1 -- 1\n",
        "item2 -- ?\n",
        ".....\n",
        "\n",
        "output:\n",
        "\n",
        "USER@EMAIL.COM\n",
        "discount:\n",
        "total :\n",
        "\n",
        "#print(\"total: \", total)\n",
        "#note: display other print formatting statements\n",
        "\n",
        "\"\"\""
      ],
      "metadata": {
        "id": "xdbMlXYCCLD8"
      },
      "execution_count": null,
      "outputs": []
    },
    {
      "cell_type": "markdown",
      "source": [
        "#Data Structure introduction (array, list, set tuple,, dict)\n",
        "- google classroom summay\n",
        "\n",
        "<pre>\n",
        "array = sequence/collection of [same data types], ie: same int, same float, etc.. ie:  [1,2,3,3,4,5]\n",
        "list = sequence/collection of can heva mixed or different data type , int and string, or int and boolean, other\n",
        "       can have duplicate values. ie: [1,2,3,3,4,5]\n",
        "tuple = read-only [list] , non updatable when created, also called, ie: (1,2,3,3,4,5)\n",
        "set = unique [list] of data, non duplicate list, 1,2,3,3,4,5 -- set generated by python =  {1,2,3,4,5}\n",
        "dict = key/value pair , key are unique, non duplicate: {key1:1,key2:5,item3:10}\n",
        "\n",
        "------------\n",
        "#can contain duplicates, can contain unique values, can be read only\n",
        "#length of array, access index of an array\n",
        "#loop through array, access index, insert, update, delete, search, if exists\n",
        "\n",
        "-----------\n",
        "\n",
        "array/list = [1,2,3,3] #can contain duplicate\n",
        "tuple = (1,2,3,3) #read-only\n",
        "set = {1,2,3} # non  duplicate\n",
        "dict = {k1:1,k2:2,item3:3} #key , non duplicate\n",
        "\n",
        "</pre>"
      ],
      "metadata": {
        "id": "U-49S5FqzHy0"
      }
    },
    {
      "cell_type": "code",
      "source": [
        "#Data Structure introduction (array, list, set tuple,, dict)\n",
        "\n",
        "\"\"\"\n",
        "#can contain duplicates, can contain unique values, can be read only\n",
        "#length of array, access index of an array\n",
        "#loop through array, access index, insert, update, delete, search, if exists\n",
        "\"\"\"\n",
        "\n",
        "str_array_list = \"intro to python\" #string is array/list - sequence of characters\n",
        "items = [1,6,34.7,36,346,37.18,6,20,19,17,12.2,7,126.2,72,31.7,18.22,31,44,53,112.34]\n",
        "\n",
        "#-- collection fundamentals - array/list,tuple,set,map\n",
        "\n",
        "#length\n",
        "\n",
        "#index or slicers/slicing - n/a - set, dict\n",
        "\n",
        "#loop - for, while, list comprehension\n",
        "\n",
        "#crud - create/insert, update, delete\n",
        "\n",
        "#if item exist in collection - list/array,set,tuple,dict\n",
        "\n",
        "#list comprehension - optimized way of looping on one line\n",
        "#------------------------------------------------------------------\n",
        "#- for i in items\n",
        "#- [for i in items] - write loop in 1 line\n",
        "#use list comprehension instead of nested for loops\n",
        "\n",
        "#slicers - extract a range of elements - optimized/optional/short hand way of\n",
        "#- ie: range(1,10,2) - range(start,stop,skip)\n",
        "#- ie: items[1:10:2] - start:stop:skip\n",
        "#use slicers for nested lookup\n",
        "#ie: extraing large number of sequence of itemsor nesting\n",
        "#instead of using multiplie for loops use slicers\n",
        "#example - used often in mathimatical, calculations , formulas, ai/ml\n",
        "\n",
        "\n",
        "\n"
      ],
      "metadata": {
        "id": "05FG_X7SzGO1"
      },
      "execution_count": null,
      "outputs": []
    },
    {
      "cell_type": "code",
      "source": [
        "#Data Structure introduction (array, list, set tuple,, dict)\n",
        "#list-demo-1.py\n",
        "\n",
        "\"\"\"\n",
        "#can contain duplicates, can contain unique values, can be read only\n",
        "#length of array, access index of an array\n",
        "#loop through array, access index, insert, update, delete, search, if exists\n",
        "\"\"\"\n",
        "\n",
        "title = \"intro to python\" #string is array/list - sequence of characters\n",
        "items = [1,6,34.7,36,346,37.18,6,20,19,17,12.2,7,126.2,72,31.7,18.22,31,44,53,112.34]\n",
        "\n",
        "#-- collection fundamentals - array/list,tuple,set,map\n",
        "\n",
        "print(\"\")\n",
        "print(\"title:\",title)\n",
        "print(\"items: \\n\", items)\n",
        "print(\"\")\n",
        "\n",
        "#length\n",
        "print(\"title length: \", len(title))\n",
        "print(\"items length: \", len(items))\n",
        "print(\"\")\n",
        "\n",
        "#index or slicers/slicing - n/a - set, dict\n",
        "\n",
        "print(\"title index=x\", title[1])\n",
        "print(\"title index=x\", title[4])\n",
        "print(\"items index=x\", items[2])\n",
        "print(\"items index=x\", items[5])\n",
        "print(\"\")\n",
        "\n",
        "#loop - for, while, list comprehension\n",
        "\n",
        "#crud - create/insert, update, delete\n",
        "\n",
        "#if item exist in collection - list/array,set,tuple,dict\n",
        "\n",
        "#list comprehension - optimized way of looping on one line\n",
        "#------------------------------------------------------------------\n",
        "#- for i in items\n",
        "#- [for i in items] - write loop in 1 line\n",
        "#use list comprehension instead of nested for loops\n",
        "\n",
        "#slicers - extract a range of elements - optimized/optional/short hand way of\n",
        "#- ie: range(1,10,2) - range(start,stop,skip)\n",
        "#- ie: items[1:10:2] - start:stop:skip\n",
        "#use slicers for nested lookup\n",
        "#ie: extraing large number of sequence of itemsor nesting\n",
        "#instead of using multiplie for loops use slicers\n",
        "#example - used often in mathimatical, calculations , formulas, ai/ml\n",
        "\n",
        "\n",
        "\n"
      ],
      "metadata": {
        "colab": {
          "base_uri": "https://localhost:8080/"
        },
        "id": "liE84BhkTa1d",
        "outputId": "86bdaaf0-85dc-4555-b161-85930449b7a9"
      },
      "execution_count": 2,
      "outputs": [
        {
          "output_type": "stream",
          "name": "stdout",
          "text": [
            "\n",
            "title: intro to python\n",
            "items: \n",
            " [1, 6, 34.7, 36, 346, 37.18, 6, 20, 19, 17, 12.2, 7, 126.2, 72, 31.7, 18.22, 31, 44, 53, 112.34]\n",
            "\n",
            "title length:  15\n",
            "items length:  20\n",
            "\n",
            "title index=x n\n",
            "title index=x o\n",
            "items index=x 34.7\n",
            "items index=x 37.18\n",
            "\n"
          ]
        }
      ]
    },
    {
      "cell_type": "code",
      "source": [
        "#Data Structure introduction (array, list, set tuple,, dict)\n",
        "#list-demo-1.py\n",
        "\n",
        "\"\"\"\n",
        "#can contain duplicates, can contain unique values, can be read only\n",
        "#length of array, access index of an array\n",
        "#loop through array, access index, insert, update, delete, search, if exists\n",
        "\"\"\"\n",
        "\n",
        "title = \"intro to python\" #string is array/list - sequence of characters\n",
        "items = [1,6,34.7,36,346,37.18,6,20,19,17,12.2,7,126.2,72,31.7,18.22,31,44,53,112.34]\n",
        "\n",
        "#-- collection fundamentals - array/list,tuple,set,map\n",
        "\n",
        "print(\"\")\n",
        "print(\"title:\",title)\n",
        "print(\"items: \\n\", items)\n",
        "print(\"\")\n",
        "\n",
        "#length\n",
        "print(\"title length: \", len(title))\n",
        "print(\"items length: \", len(items))\n",
        "print(\"\")\n",
        "\n",
        "#index or slicers/slicing - n/a - set, dict\n",
        "#https://www.w3schools.com/python/python_strings_slicing.asp\n",
        "\n",
        "print(\"title index=1: \", title[1]) #slicers=[1:]\n",
        "print(\"title index=4: \", title[4]) #slicers=[4:]\n",
        "print(\"items index=2: \", items[2]) #slicers=[2:]\n",
        "print(\"items index=5: \", items[5]) #slicers=[1:]\n",
        "print(\"\")\n",
        "\n",
        "#index or slicers/slicing - n/a - set, dict\n",
        "#negative indexing\n",
        "\n",
        "print(\"\")\n",
        "print(\"---negative index--\")\n",
        "print(\"\")\n",
        "print(\"title index=-1: \", title[-1]) #slicers=[-1:]\n",
        "print(\"title index=-4: \", title[-4]) #slicers=[-4:]\n",
        "print(\"items index=-2: \", items[-2]) #slicers=[-2:]\n",
        "print(\"items index=-5: \", items[-5]) #slicers=[-5:]\n",
        "print(\"\")\n",
        "\n",
        "#loop - for, while, list comprehension\n",
        "#https://www.w3schools.com/python/python_lists_comprehension.asp\n",
        "\n",
        "#crud - create/insert, update, delete\n",
        "\n",
        "#if item exist in collection - list/array,set,tuple,dict\n",
        "\n",
        "#list comprehension - optimized way of looping on one line\n",
        "#------------------------------------------------------------------\n",
        "#- for i in items\n",
        "#- [for i in items] - write loop in 1 line\n",
        "#use list comprehension instead of nested for loops\n",
        "\n",
        "#slicers - extract a range of elements - optimized/optional/short hand way of\n",
        "#- ie: range(1,10,2) - range(start,stop,skip)\n",
        "#- ie: items[1:10:2] - start:stop:skip\n",
        "#use slicers for nested lookup\n",
        "#ie: extraing large number of sequence of itemsor nesting\n",
        "#instead of using multiplie for loops use slicers\n",
        "#example - used often in mathimatical, calculations , formulas, ai/ml\n",
        "\n",
        "\n",
        "\n"
      ],
      "metadata": {
        "colab": {
          "base_uri": "https://localhost:8080/"
        },
        "id": "RYcx1KcYV7PK",
        "outputId": "e1aecb0e-e331-4362-fc6c-54ade7767207"
      },
      "execution_count": 3,
      "outputs": [
        {
          "output_type": "stream",
          "name": "stdout",
          "text": [
            "\n",
            "title: intro to python\n",
            "items: \n",
            " [1, 6, 34.7, 36, 346, 37.18, 6, 20, 19, 17, 12.2, 7, 126.2, 72, 31.7, 18.22, 31, 44, 53, 112.34]\n",
            "\n",
            "title length:  15\n",
            "items length:  20\n",
            "\n",
            "title index=1:  n\n",
            "title index=4:  o\n",
            "items index=2:  34.7\n",
            "items index=5:  37.18\n",
            "\n",
            "\n",
            "---negative index--\n",
            "\n",
            "title index=-1:  n\n",
            "title index=-4:  t\n",
            "items index=-2:  53\n",
            "items index=-5:  18.22\n",
            "\n"
          ]
        }
      ]
    }
  ]
}