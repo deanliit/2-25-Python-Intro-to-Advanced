{
  "nbformat": 4,
  "nbformat_minor": 0,
  "metadata": {
    "colab": {
      "provenance": []
    },
    "kernelspec": {
      "name": "python3",
      "display_name": "Python 3"
    },
    "language_info": {
      "name": "python"
    }
  },
  "cells": [
    {
      "cell_type": "markdown",
      "source": [
        "#Python Course I - Weekly class demos and Exercises summary  \n",
        "- (Mon, Wed) - (8am-10:30am) - (2.5h class/demos/labs) / 30 min practice\n",
        "- Course I - 7 weeks\n",
        "- Weekly Assignments - 20 hours - due next week Monday\n",
        "- 3 Class Quizzes\n",
        "- Step-by-tep class topic demos\n",
        "\n",
        "#Github Course Notebook Refence\n",
        "\n",
        "https://github.com/deanliit/2-25-Python-Intro-to-Advanced\n",
        "\n",
        "## Python references\n",
        "- Course book\n"
      ],
      "metadata": {
        "id": "kkf01IuMAr4_"
      }
    },
    {
      "cell_type": "markdown",
      "source": [
        "## Python class - weekly assignment #6 - due next week Monday\n",
        "<pre>\n",
        "\n",
        "Reading Assignments:\n",
        "\n",
        "Python tutorial\n",
        "https://www.w3schools.com/python/default.asp\n",
        "\n",
        "-Python Try Except\n",
        "-Python File Handling\n",
        "-Python Modules\n",
        "-Python Main method\n",
        "Create a program using python main startup method\n",
        "\n",
        "Assignment exercises\n",
        "\n",
        "Complete all of the exercises, display output from each exercises\n",
        "Optional create exercises in Google Colabs notebooks\n",
        "\n",
        "https://www.w3schools.com/python/python_examples.asp\n",
        "\n",
        "Create a google collabs notebooks\n",
        "Create code in vs.code\n",
        "Complete all of the exercises, display output from each exercises\n",
        "\n",
        "-Python Try Except\n",
        "-Python File Handling\n",
        "-Python Modules\n",
        "-Python Main method\n",
        "\n",
        "Create a program using python main startup method\n",
        "\n",
        "\n",
        "</pre>"
      ],
      "metadata": {
        "id": "Y6PvWvErkYoo"
      }
    },
    {
      "cell_type": "markdown",
      "source": [
        "Introduction to Python\n",
        "\n",
        "https://www.w3schools.com/python/python_intro.asp\n",
        "\n",
        "\n",
        "<pre>\n",
        "\n",
        "---------------------------------------------\n",
        "#Course I Module Summary\n",
        "-----------------------------------------------\n",
        "\n",
        "# Module 1\n",
        "---------------------------\n",
        "Python fundamentals\n",
        "Data type\n",
        "Variables\n",
        "Input\n",
        "if, for, while loop\n",
        "Other\n",
        "\n",
        "# Module 2\n",
        "----------------------------\n",
        "Array index\n",
        "Slicers, list comprehension  \n",
        "Functions\n",
        "File input\n",
        "Other\n",
        "\n",
        "# Module 3\n",
        "--------------------------------\n",
        "Data structures\n",
        "Array, set, list, tuple, map\n",
        "Classes\n",
        "Lamda\n",
        "Other\n",
        "\n",
        "#optional - Module 4\n",
        "---------------------------------\n",
        "Intro to data analyst using python\n",
        "Pandas, numpy\n",
        "SQL\n",
        "Other\n",
        "\n",
        "</pre>\n",
        "\n"
      ],
      "metadata": {
        "id": "lhHzTF-3wluD"
      }
    },
    {
      "cell_type": "code",
      "source": [
        "#-- weekly topic summary\n",
        "#\n",
        "#import-datetime-\n",
        "#min-max-sum-map-\n",
        "#radnom-\n",
        "#functions-\n",
        "#file-IO-\n",
        "#modules-libraries-\n",
        "#main-entry-point-\n",
        "#try-except\n",
        "#Other\n"
      ],
      "metadata": {
        "id": "-Z87eNhJI8F7"
      },
      "execution_count": null,
      "outputs": []
    },
    {
      "cell_type": "code",
      "source": [
        "#datetime-demo-1.py\n",
        "\n",
        "#https://www.w3schools.com/python/python_intro.asp\n",
        "\n",
        "#import libraries to add functionalty to python program\n",
        "#libraires can be written by external companies or python\n",
        "#some external libraries we install using python installer pip\n",
        "\n",
        "#program to retrieve datetime from system\n",
        "\n",
        "import datetime #include date and time, we can extract date and or time\n",
        "#, import all class/funtcions from library\n",
        "\n",
        "now = datetime.datetime.now() #date/time\n",
        "today_date = datetime.date.today()\n",
        "\n",
        "print(\"now: \", now)\n",
        "print(\"today_date: \", today_date)\n",
        "\n",
        "#extract date, time\n",
        "print(\"\\n\\n --- date----\")\n",
        "print(\"month: \",now.month)\n",
        "print(\"day: \",now.day)\n",
        "print(\"year: \",now.year)\n",
        "\n",
        "print(\"\\n\\n--- time -- \")\n",
        "print(\"hour: \",now.hour)\n",
        "print(\"minutes: \",now.minute)\n",
        "\n",
        "#format date, time\n",
        "print(now.strftime(\"\\n\\n formatted date time: %m %d %y - %I : %M\"))\n"
      ],
      "metadata": {
        "colab": {
          "base_uri": "https://localhost:8080/"
        },
        "id": "2VQHaV67nMXf",
        "outputId": "b7acb1d9-9ec5-4353-c138-0c722588962f"
      },
      "execution_count": null,
      "outputs": [
        {
          "output_type": "stream",
          "name": "stdout",
          "text": [
            "now:  2025-03-24 12:42:20.000299\n",
            "today_date:  2025-03-24\n",
            "\n",
            "\n",
            " --- date----\n",
            "month:  3\n",
            "day:  24\n",
            "year:  2025\n",
            "\n",
            "\n",
            "--- time -- \n",
            "hour:  12\n",
            "minutes:  42\n",
            "\n",
            "\n",
            " formatted date time: 03 24 25 - 12 : 42\n"
          ]
        }
      ]
    },
    {
      "cell_type": "code",
      "source": [
        "#random-demo-1.py\n",
        "\n",
        "#program to generate random number\n",
        "\n",
        "#https://www.w3schools.com/python/python_intro.asp\n",
        "#import random #pyton random library import, import all class/funtcions from library\n",
        "import random as rnd #alias or rename pyton random library import,  , import all class/funtcions from library\n",
        "\n",
        "#as to alias or rename import\n",
        "from numpy import random as nump #alias, random generator from the numpy library\n",
        "\n",
        "#print(\"python random: \", random.randint(0,9)) #python random library\n",
        "print(\"python random: \", rnd.randint(0,9)) #python random library\n",
        "\n",
        "#print(\"numpy.random: \", random.rand(5)) #library conflict\n",
        "print(\"numpy.random: \", nump.rand(5)) #alias, no library conflict\n"
      ],
      "metadata": {
        "colab": {
          "base_uri": "https://localhost:8080/"
        },
        "id": "9OInxLYvsI1M",
        "outputId": "89ff2428-c051-4578-8226-edcd291344cf"
      },
      "execution_count": null,
      "outputs": [
        {
          "output_type": "stream",
          "name": "stdout",
          "text": [
            "python random:  2\n",
            "numpy.random:  [0.48961729 0.39663219 0.43750319 0.74921407 0.62069265]\n"
          ]
        }
      ]
    },
    {
      "cell_type": "code",
      "source": [
        "#min-max-sum-demo-1.py\n",
        "#functional programming ie: excel\n",
        "\n",
        "#min, max, sum, map\n",
        "\n",
        "list1 = [1,23,-4,7]\n",
        "list2 = [2,5,-5,3,]\n",
        "\n",
        "print(list1)\n",
        "print(list2)\n",
        "print(\"\\n-- min(list1) --\",min(list1))\n",
        "print(\"\\n-- max(list2) --\",max(list2))\n",
        "print(\"\\n-- sum(list1) + sum(list2) = \",(sum(list1) + sum(list2)))\n"
      ],
      "metadata": {
        "id": "S3G6oEEwt_WZ",
        "colab": {
          "base_uri": "https://localhost:8080/"
        },
        "outputId": "aad4b061-5619-453c-d183-5cc587748502"
      },
      "execution_count": null,
      "outputs": [
        {
          "output_type": "stream",
          "name": "stdout",
          "text": [
            "[1, 23, -4, 7]\n",
            "[2, 5, -5, 3]\n",
            "\n",
            "-- min(list1) -- -4\n",
            "\n",
            "-- max(list2) -- 5\n",
            "\n",
            "-- sum(list1) + sum(list2) =  32\n"
          ]
        }
      ]
    },
    {
      "cell_type": "code",
      "source": [
        "#map-demo-1.py\n",
        "\n",
        "list1 = [1,23,-4,7]\n",
        "list2 = [2,5,-5,3,]\n",
        "\n",
        "def square(number):\n",
        "  return number * number\n",
        "\n",
        "#map - return a tiple (x,y) from an array\n",
        "x,y = map(float,\"8 2\".split())\n",
        "listb = map(square,list1) #return a nre list from an array , map - calls the first funtion each time through the list\n",
        "\n",
        "#list comprehension - product (a*b) - return a tuple at ear row\n",
        "#nested list comprehensiion\n",
        "listc = [(a, b) for a in list1 for b in list2]\n",
        "\n",
        "print(\"\\n-- x,y --\\n\",x,y)\n",
        "print(\"\\n-- map --\\n\",list(listb))\n",
        "print(\"\\n-- list-comprehension-product --\\n\",listc)\n"
      ],
      "metadata": {
        "colab": {
          "base_uri": "https://localhost:8080/"
        },
        "id": "iZIzT1300tLw",
        "outputId": "b8ea456f-5321-421d-f8ad-d5fe6f080e79"
      },
      "execution_count": null,
      "outputs": [
        {
          "output_type": "stream",
          "name": "stdout",
          "text": [
            "\n",
            "-- x,y --\n",
            " 8.0 2.0\n",
            "\n",
            "-- map --\n",
            " [1, 529, 16, 49]\n",
            "\n",
            "-- list-comprehension-product --\n",
            " [(1, 2), (1, 5), (1, -5), (1, 3), (23, 2), (23, 5), (23, -5), (23, 3), (-4, 2), (-4, 5), (-4, -5), (-4, 3), (7, 2), (7, 5), (7, -5), (7, 3)]\n"
          ]
        }
      ]
    },
    {
      "cell_type": "code",
      "source": [
        "#functions-demo-1.py\n",
        "#https://www.w3schools.com/python/python_functions.asp\n",
        "\n",
        "#ambiguity - logical error - python keyword , also: min, max, etc\n",
        "#not reccomended\n",
        "#solution: ctraete function in class or custom library\n",
        "#myclass.print, mylib.sum\n",
        "\"\"\"\n",
        "def print():`\n",
        "  return f\"my print: \"\n",
        "\"\"\"\n",
        "\n",
        "#define function - function parameters\n",
        "def square(number):\n",
        "  return number * number\n",
        "\n",
        "def func1():\n",
        "  print(\"# funct1\")\n",
        "\n",
        "def func2(item):\n",
        "  print(\"# funct2, \", item)\n",
        "\n",
        "#return value , default paramater\n",
        "def func3(item = \"a\"):\n",
        "  return f\"# funct3:  {item}\"\n",
        "\n",
        "#call function\n",
        "\n",
        "print(\"square: \", square(10))\n",
        "func1()\n",
        "func2(\"itema\")\n",
        "print(\"func3: \", func3())\n",
        "print(\"func3: \", func3(\"itemb\"))\n",
        "\n",
        "\n",
        "\n"
      ],
      "metadata": {
        "colab": {
          "base_uri": "https://localhost:8080/"
        },
        "id": "QtlVoNlpSv4q",
        "outputId": "de113b53-7572-4768-fb0b-4a0f53f3acc7"
      },
      "execution_count": null,
      "outputs": [
        {
          "output_type": "stream",
          "name": "stdout",
          "text": [
            "square:  100\n",
            "# funct1\n",
            "# funct2,  itema\n",
            "func3:  # funct3:  a\n",
            "func3:  # funct3:  itemb\n"
          ]
        }
      ]
    },
    {
      "cell_type": "code",
      "source": [
        "#functions-demo-2.py\n",
        "#https://www.w3schools.com/python/python_functions.asp\n",
        "\n",
        "#all parameters are requred\n",
        "def func1(a,b,c):\n",
        "  print(\"funct1: a: \",a,\",b: \",b,\", c:\",c)\n",
        "\n",
        "#========================\n",
        "#optional/required rule\n",
        "#========================\n",
        "#a,b = requred, c = optional - default value will be used\n",
        "#last paramater can be optional when previous praramers are requred\n",
        "def func2(a,b,c=3):\n",
        "  print(\"func2: a: \",a,\",b: \",b,\", c:\",c)\n",
        "\n",
        "#a=optopnal,b,c = required\n",
        "#error = last paramater must be required if previous paramater are optional or includes default parametrs\n",
        "#error = last paramater can not be optinal  if previous paramater are optional or includes default parametrs\n",
        "#def func3(a=1,b,c): #error\n",
        "#def func3(a=1,b=2,c): #error\n",
        "#def func3(a=1,b,c=3): #error\n",
        "def func3(a=1,b=2,c=3): #no error\n",
        "  print(\"func2: a: \",a,\",b: \",b,\", c:\",c)\n",
        "\n",
        "#all parameters are required\n",
        "#func1()\n",
        "func1(\"a1\",\"b1\",\"c1\")\n",
        "\n",
        "#a,b = required, c=optional\n",
        "func1(\"a1\",\"b1\")\n",
        "\n",
        "func3()\n",
        "\n"
      ],
      "metadata": {
        "id": "qoE7oKTlfAju"
      },
      "execution_count": null,
      "outputs": []
    },
    {
      "cell_type": "code",
      "source": [
        "#input, output\n",
        "#binary or text mode\n",
        "#w3schools file management\n",
        "\n",
        "#write - append, create new\n",
        "#- each byte/character, each line, all\n",
        "\n",
        "#read - each byte/character, each line, all\n"
      ],
      "metadata": {
        "id": "4JIAG8L3UDLW"
      },
      "execution_count": null,
      "outputs": []
    },
    {
      "cell_type": "code",
      "source": [
        "#file-io.demo-1.py\n",
        "#w3schools file management\n",
        "\n",
        "\"\"\"\n",
        "function\n",
        "try/except\n",
        "\n",
        "--------------\n",
        "read and parse invoice data file\n",
        "\n",
        "invoice-1.txt\n",
        "-------------------\n",
        "12.8\n",
        "32.7\n",
        "89.45\n",
        "45.8\n",
        "23.67\n",
        "\n",
        "invoice-2.csv\n",
        "-------------------\n",
        "name, price\n",
        "itema, 12.8\n",
        "itemb, 32.7\n",
        "itemc, 89.45\n",
        "itemd, 45.8\n",
        "iteme, 23.67\n",
        "\n",
        "\"\"\"\n",
        "\n",
        "#write - append, create new\n",
        "#- each byte/character, each line, all\n",
        "\n",
        "f = open(\"file1.txt\", \"a\") #a = append, text mode or w - create new file\n",
        "f.write(\"demo file 1 - ilne one  \") #add new line \\n\n",
        "f.write(\"line two\") #add new line \\n\n",
        "f.close()\n",
        "\n",
        "print(\"\\n--- file1.txt created -- \")\n",
        "\n",
        "f = open(\"file2.txt\", \"w\") #write new file - a = append,\n",
        "f.write(\"demo file 2 - ilne one \\n\")\n",
        "f.write(\"line two \\n\")\n",
        "f.close()\n",
        "\n",
        "print(\"\\n--- file2.txt created -- \")\n",
        "\n",
        "\n"
      ],
      "metadata": {
        "colab": {
          "base_uri": "https://localhost:8080/"
        },
        "id": "gv-i07kii6l0",
        "outputId": "01984153-0e5e-4d72-b03e-894f54921365"
      },
      "execution_count": 2,
      "outputs": [
        {
          "output_type": "stream",
          "name": "stdout",
          "text": [
            "\n",
            "--- file1.txt created -- \n",
            "\n",
            "--- file2.txt created -- \n"
          ]
        }
      ]
    },
    {
      "cell_type": "code",
      "source": [
        "#file-io.demo-2.py\n",
        "#w3schools file management\n",
        "\n",
        "\n",
        "\"\"\"\n",
        "function\n",
        "try/except\n",
        "\n",
        "--------------\n",
        "read and parse invoice data file\n",
        "\n",
        "invoice-1.txt\n",
        "-------------------\n",
        "12.8\n",
        "32.7\n",
        "89.45\n",
        "45.8\n",
        "23.67\n",
        "\n",
        "invoice-2.csv\n",
        "-------------------\n",
        "name, price\n",
        "itema, 12.8\n",
        "itemb, 32.7\n",
        "itemc, 89.45\n",
        "itemd, 45.8\n",
        "iteme, 23.67\n",
        "\n",
        "\n",
        "\"\"\"\n",
        "\n",
        "print(\"\\n-- read file1.txt \\n\")\n",
        "#read - each byte/character, each line, all\n",
        "f = open(\"file1.txt\", \"r\") #text mode\n",
        "print(f.read())\n",
        "f.close()\n",
        "\n",
        "print(\"\\n-- read file2.txt \\n\")\n",
        "f = open(\"file2.txt\", \"r\") #text mode\n",
        "print(f.read())\n",
        "f.close()\n"
      ],
      "metadata": {
        "colab": {
          "base_uri": "https://localhost:8080/"
        },
        "id": "MZq-SqSujCWf",
        "outputId": "f86f9101-fc38-40fa-8cc1-5a95ad803e50"
      },
      "execution_count": 4,
      "outputs": [
        {
          "output_type": "stream",
          "name": "stdout",
          "text": [
            "\n",
            "-- read file1.txt \n",
            "\n",
            "demo file 1 - ilne one  line twodemo file 1 - ilne one  line two\n",
            "\n",
            "-- read file2.txt \n",
            "\n",
            "demo file 2 - ilne one \n",
            "line two \n",
            "\n"
          ]
        }
      ]
    },
    {
      "cell_type": "code",
      "source": [
        "#read-invoice-1.py\n",
        "\n",
        "\"\"\"\n",
        "function\n",
        "try/except\n",
        "\"\"\"\n",
        "\n",
        "\"\"\"\n",
        "create a function to read file and compute total\n",
        "\"\"\"\n",
        "print(\"\\n-- read invoice-1.txt \\n\")\n",
        "f = open(\"invoice-1.txt\", \"r\") #text mode\n",
        "print(f.read())\n",
        "f.close()\n",
        "\n",
        "\n"
      ],
      "metadata": {
        "colab": {
          "base_uri": "https://localhost:8080/"
        },
        "id": "cigyqGDRoA_t",
        "outputId": "c09fc7fe-794d-4f16-8d9d-15c25ba7e58e"
      },
      "execution_count": 6,
      "outputs": [
        {
          "output_type": "stream",
          "name": "stdout",
          "text": [
            "\n",
            "-- read invoice-1.txt \n",
            "\n",
            "12.8\n",
            "32.7\n",
            "89.45\n",
            "45.8\n",
            "23.6\n"
          ]
        }
      ]
    },
    {
      "cell_type": "code",
      "source": [
        "#read-invoice-1-1.py\n",
        "\n",
        "\"\"\"\n",
        "function\n",
        "try/except\n",
        "\"\"\"\n",
        "\n",
        "\"\"\"\n",
        "create a function to read file and compute total\n",
        "\"\"\"\n",
        "print(\"\\n-- read invoice-1.txt \\n\")\n",
        "f = open(\"invoice-1.txt\", \"r\") #text mode\n",
        "\n",
        "#read each line\n",
        "#compute total\n",
        "\n",
        "total = 0.0\n",
        "line = f.readline()\n",
        "\n",
        "while line:\n",
        "  print(line.strip())\n",
        "  line = f.readline()\n",
        "\n",
        "f.close()\n",
        "\n",
        "\n"
      ],
      "metadata": {
        "colab": {
          "base_uri": "https://localhost:8080/"
        },
        "id": "gW3_gAZRqU7g",
        "outputId": "6bdfb0e7-fdc8-4cd9-a02b-07780d754e27"
      },
      "execution_count": 10,
      "outputs": [
        {
          "output_type": "stream",
          "name": "stdout",
          "text": [
            "\n",
            "-- read invoice-1.txt \n",
            "\n",
            "12.8\n",
            "32.7\n",
            "89.45\n",
            "45.8\n",
            "23.6\n"
          ]
        }
      ]
    },
    {
      "cell_type": "code",
      "source": [
        "#read-invoice-1-2.py\n",
        "\n",
        "\"\"\"\n",
        "function\n",
        "try/except - previent program exit\n",
        "\"\"\"\n",
        "\n",
        "\"\"\"\n",
        "create a function to read file and compute total\n",
        "\"\"\"\n",
        "\n",
        "total = 0.0\n",
        "\n",
        "print(\"\\n-- read invoice-1.txt \\n\")\n",
        "\n",
        "#with closes file when complete\n",
        "\n",
        "with open(\"invoice-1.txt\", \"r\") as f:\n",
        "  line = f.readline()\n",
        "  while line:\n",
        "    total += float(line.strip())\n",
        "    print(line.strip())\n",
        "    line = f.readline()\n",
        "\n",
        "print(\"\\n -- total --: \", total)\n",
        "\n"
      ],
      "metadata": {
        "colab": {
          "base_uri": "https://localhost:8080/"
        },
        "id": "TdUlijeuxoP8",
        "outputId": "6557290d-74f8-48dd-93cd-9e2b0d20ecf6"
      },
      "execution_count": 13,
      "outputs": [
        {
          "output_type": "stream",
          "name": "stdout",
          "text": [
            "\n",
            "-- read invoice-1.txt \n",
            "\n",
            "12.8\n",
            "32.7\n",
            "89.45\n",
            "45.8\n",
            "23.6\n",
            "\n",
            " -- total --:  204.35\n"
          ]
        }
      ]
    },
    {
      "cell_type": "code",
      "source": [
        "#read-invoice-2.py\n",
        "\n",
        "\"\"\"\n",
        "function\n",
        "try/except - previent program exit\n",
        "\"\"\"\n",
        "\n",
        "\"\"\"\n",
        "create a function to read file and compute total\n",
        "\"\"\"\n",
        "print(\"\\n-- read invoice-2.csv.txt \\n\")\n",
        "f = open(\"invoice-2.csv.txt\", \"r\") #text mode\n",
        "print(f.read())\n",
        "f.close()\n",
        "\n",
        "\n"
      ],
      "metadata": {
        "colab": {
          "base_uri": "https://localhost:8080/"
        },
        "id": "RqD-ZO8Ep5BF",
        "outputId": "ca75274e-9a7c-4be6-c370-5bff869a2242"
      },
      "execution_count": 7,
      "outputs": [
        {
          "output_type": "stream",
          "name": "stdout",
          "text": [
            "\n",
            "-- read invoice-2.csv.txt \n",
            "\n",
            "name, price\n",
            "itema, 12.8\n",
            "itemb, 32.7\n",
            "itemc, 89.45\n",
            "itemd, 45.8\n",
            "iteme, 23.67\n"
          ]
        }
      ]
    },
    {
      "cell_type": "code",
      "source": [
        "#python modules/libraries - export/import own python libraries\n",
        "#python main entry point\n",
        "#conole program args/parameters ie: program1.py name email other\n",
        "\n"
      ],
      "metadata": {
        "id": "9kXEj11BzDw0"
      },
      "execution_count": null,
      "outputs": []
    }
  ]
}