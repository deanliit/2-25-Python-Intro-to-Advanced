{
  "nbformat": 4,
  "nbformat_minor": 0,
  "metadata": {
    "colab": {
      "provenance": []
    },
    "kernelspec": {
      "name": "python3",
      "display_name": "Python 3"
    },
    "language_info": {
      "name": "python"
    }
  },
  "cells": [
    {
      "cell_type": "markdown",
      "source": [
        "#Python Course I - Weekly class demos and Exercises summary  \n",
        "- (Mon, Wed) - (8am-10:30am) - (2.5h class/demos/labs) / 30 min practice\n",
        "- Course I - 7 weeks\n",
        "- Weekly Assignments - 20 hours - due next week Monday\n",
        "- 3 Class Quizzes\n",
        "- Step-by-tep class topic demos\n",
        "\n",
        "#Github Course Notebook Refence\n",
        "\n",
        "https://github.com/deanliit/2-25-Python-Intro-to-Advanced\n",
        "\n",
        "## Python references\n",
        "- Course book\n"
      ],
      "metadata": {
        "id": "kkf01IuMAr4_"
      }
    },
    {
      "cell_type": "markdown",
      "source": [
        "## Python Course I Weekly Class Assignment #7\n",
        "<pre>\n",
        "\n",
        "Reading Assignments:\n",
        "\n",
        "Python tutorial\n",
        "https://www.w3schools.com/python/default.asp\n",
        "\n",
        "Python PIP install\n",
        "import\n",
        "list, set, tuple, dictionary\n",
        "list comprehension\n",
        "String, slicers\n",
        "file input, output\n",
        "\n",
        "Assignment Exercises:\n",
        "\n",
        "Complete all of the exercises, display output from each exercises\n",
        "Optional create exercises in Google Colabs notebooks\n",
        "\n",
        "https://www.w3schools.com/python/python_examples.asp\n",
        "\n",
        "Create a google collabs notebooks\n",
        "Create code in vs.code\n",
        "Complete all of the exercises, display output from each exercises\n",
        "\n",
        "\n",
        "Python Course Book Chapter\n",
        "Beginner Exercises\n",
        "\n",
        "#2 - string, dictionary, loops\n",
        "#3 - functions, conditional statements, input\n",
        "#5 - file i/o, exception handling, string, input\n",
        "#7 - arithmetic, conditional statements, string manipulation\n",
        "#9 - loops, lists, functions\n",
        "#12 - string, loops, dictionary\n",
        "#14 - loops, arithmetic, string\n",
        "#16 - string, loops, slicing\n",
        "#17 - string, loops, dictionary\n",
        "#22 - lists, loops, sets\n",
        "#23 - lists, loops, min, max\n",
        "#24 - lists, sets, list comprehensions\n",
        "#26 - lists, loops, list comprehensions\n",
        "#28 - variables, tuples\n",
        "\n",
        "</pre>"
      ],
      "metadata": {
        "id": "Y6PvWvErkYoo"
      }
    },
    {
      "cell_type": "markdown",
      "source": [
        "Introduction to Python\n",
        "\n",
        "https://www.w3schools.com/python/python_intro.asp\n",
        "\n",
        "\n",
        "<pre>\n",
        "\n",
        "---------------------------------------------\n",
        "#Course I Module Summary\n",
        "-----------------------------------------------\n",
        "\n",
        "# Module 1\n",
        "---------------------------\n",
        "Python fundamentals\n",
        "Data type\n",
        "Variables\n",
        "Input\n",
        "if, for, while loop\n",
        "Other\n",
        "\n",
        "# Module 2\n",
        "----------------------------\n",
        "Array index\n",
        "Slicers, list comprehension  \n",
        "Functions\n",
        "File input\n",
        "Other\n",
        "\n",
        "# Module 3\n",
        "--------------------------------\n",
        "Data structures\n",
        "Array, set, list, tuple, map\n",
        "Classes\n",
        "Lamda\n",
        "Other\n",
        "\n",
        "#optional - Module 4\n",
        "---------------------------------\n",
        "Intro to data analyst using python\n",
        "Pandas, numpy\n",
        "SQL\n",
        "Other\n",
        "\n",
        "</pre>\n",
        "\n"
      ],
      "metadata": {
        "id": "lhHzTF-3wluD"
      }
    },
    {
      "cell_type": "code",
      "source": [
        "#-- weekly topic summary\n",
        "#\n",
        "#import-datetime-\n",
        "#min-max-sum-map-\n",
        "#radnom-\n",
        "#functions-\n",
        "#file-IO-\n",
        "#modules-libraries-\n",
        "#main-entry-point-\n",
        "#try-except\n",
        "#Other\n"
      ],
      "metadata": {
        "id": "-Z87eNhJI8F7"
      },
      "execution_count": null,
      "outputs": []
    },
    {
      "cell_type": "code",
      "source": [
        "#functions-demo-1.py\n",
        "#https://www.w3schools.com/python/python_functions.asp\n",
        "\n",
        "#ambiguity - logical error - python keyword , also: min, max, etc\n",
        "#not reccomended\n",
        "#solution: ctraete function in class or custom library\n",
        "#myclass.print, mylib.sum\n",
        "\"\"\"\n",
        "def print():`\n",
        "  return f\"my print: \"\n",
        "\"\"\"\n",
        "\n",
        "#define function - function parameters\n",
        "def square(number):\n",
        "  return number * number\n",
        "\n",
        "def func1():\n",
        "  print(\"# funct1\")\n",
        "\n",
        "def func2(item):\n",
        "  print(\"# funct2, \", item)\n",
        "\n",
        "#return value , default paramater\n",
        "def func3(item = \"a\"):\n",
        "  return f\"# funct3:  {item}\"\n",
        "\n",
        "#call function\n",
        "\n",
        "print(\"square: \", square(10))\n",
        "func1()\n",
        "func2(\"itema\")\n",
        "print(\"func3: \", func3())\n",
        "print(\"func3: \", func3(\"itemb\"))\n",
        "\n",
        "\n",
        "\n"
      ],
      "metadata": {
        "colab": {
          "base_uri": "https://localhost:8080/"
        },
        "id": "QtlVoNlpSv4q",
        "outputId": "de113b53-7572-4768-fb0b-4a0f53f3acc7"
      },
      "execution_count": null,
      "outputs": [
        {
          "output_type": "stream",
          "name": "stdout",
          "text": [
            "square:  100\n",
            "# funct1\n",
            "# funct2,  itema\n",
            "func3:  # funct3:  a\n",
            "func3:  # funct3:  itemb\n"
          ]
        }
      ]
    },
    {
      "cell_type": "code",
      "source": [
        "#functions-demo-2.py\n",
        "#https://www.w3schools.com/python/python_functions.asp\n",
        "\n",
        "#all parameters are requred\n",
        "def func1(a,b,c):\n",
        "  print(\"funct1: a: \",a,\",b: \",b,\", c:\",c)\n",
        "\n",
        "#========================\n",
        "#optional/required rule\n",
        "#========================\n",
        "#a,b = requred, c = optional - default value will be used\n",
        "#last paramater can be optional when previous praramers are requred\n",
        "def func2(a,b,c=3):\n",
        "  print(\"func2: a: \",a,\",b: \",b,\", c:\",c)\n",
        "\n",
        "#a=optopnal,b,c = required\n",
        "#error = last paramater must be required if previous paramater are optional or includes default parametrs\n",
        "#error = last paramater can not be optinal  if previous paramater are optional or includes default parametrs\n",
        "#def func3(a=1,b,c): #error\n",
        "#def func3(a=1,b=2,c): #error\n",
        "#def func3(a=1,b,c=3): #error\n",
        "def func3(a=1,b=2,c=3): #no error\n",
        "  print(\"func2: a: \",a,\",b: \",b,\", c:\",c)\n",
        "\n",
        "#all parameters are required\n",
        "#func1()\n",
        "func1(\"a1\",\"b1\",\"c1\")\n",
        "\n",
        "#a,b = required, c=optional\n",
        "func1(\"a1\",\"b1\")\n",
        "\n",
        "func3()\n",
        "\n"
      ],
      "metadata": {
        "id": "qoE7oKTlfAju"
      },
      "execution_count": null,
      "outputs": []
    },
    {
      "cell_type": "code",
      "source": [
        "#input, output\n",
        "#binary or text mode\n",
        "#w3schools file management\n",
        "\n",
        "#write - append, create new\n",
        "#- each byte/character, each line, all\n",
        "\n",
        "#read - each byte/character, each line, all\n"
      ],
      "metadata": {
        "id": "4JIAG8L3UDLW"
      },
      "execution_count": null,
      "outputs": []
    },
    {
      "cell_type": "code",
      "source": [
        "#file-io.demo-1.py\n",
        "#w3schools file management\n",
        "\n",
        "\"\"\"\n",
        "function\n",
        "try/except\n",
        "\n",
        "--------------\n",
        "read and parse invoice data file\n",
        "\n",
        "invoice-1.txt\n",
        "-------------------\n",
        "12.8\n",
        "32.7\n",
        "89.45\n",
        "45.8\n",
        "23.67\n",
        "\n",
        "invoice-2.csv.txt\n",
        "-------------------\n",
        "name, price\n",
        "itema, 12.8\n",
        "itemb, 32.7\n",
        "itemc, 89.45\n",
        "itemd, 45.8\n",
        "iteme, 23.67\n",
        "\n",
        "\"\"\"\n",
        "\n",
        "#write - append, create new\n",
        "#- each byte/character, each line, all\n",
        "\n",
        "f = open(\"file1.txt\", \"a\") #a = append, text mode or w - create new file\n",
        "f.write(\"demo file 1 - ilne one  \") #add new line \\n\n",
        "f.write(\"line two\") #add new line \\n\n",
        "f.close()\n",
        "\n",
        "print(\"\\n--- file1.txt created -- \")\n",
        "\n",
        "f = open(\"file2.txt\", \"w\") #write new file - a = append,\n",
        "f.write(\"demo file 2 - ilne one \\n\")\n",
        "f.write(\"line two \\n\")\n",
        "f.close()\n",
        "\n",
        "print(\"\\n--- file2.txt created -- \")\n",
        "\n",
        "\n"
      ],
      "metadata": {
        "colab": {
          "base_uri": "https://localhost:8080/"
        },
        "id": "gv-i07kii6l0",
        "outputId": "01984153-0e5e-4d72-b03e-894f54921365"
      },
      "execution_count": null,
      "outputs": [
        {
          "output_type": "stream",
          "name": "stdout",
          "text": [
            "\n",
            "--- file1.txt created -- \n",
            "\n",
            "--- file2.txt created -- \n"
          ]
        }
      ]
    },
    {
      "cell_type": "code",
      "source": [
        "#file-io.demo-2.py\n",
        "#w3schools file management\n",
        "\n",
        "\n",
        "\"\"\"\n",
        "function\n",
        "try/except\n",
        "\n",
        "--------------\n",
        "read and parse invoice data file\n",
        "\n",
        "invoice-1.txt\n",
        "-------------------\n",
        "12.8\n",
        "32.7\n",
        "89.45\n",
        "45.8\n",
        "23.67\n",
        "\n",
        "invoice-2.csv.txt\n",
        "-------------------\n",
        "name, price\n",
        "itema, 12.8\n",
        "itemb, 32.7\n",
        "itemc, 89.45\n",
        "itemd, 45.8\n",
        "iteme, 23.67\n",
        "\n",
        "\n",
        "\"\"\"\n",
        "\n",
        "print(\"\\n-- read file1.txt \\n\")\n",
        "#read - each byte/character, each line, all\n",
        "f = open(\"file1.txt\", \"r\") #text mode\n",
        "print(f.read())\n",
        "f.close()\n",
        "\n",
        "print(\"\\n-- read file2.txt \\n\")\n",
        "f = open(\"file2.txt\", \"r\") #text mode\n",
        "print(f.read())\n",
        "f.close()\n"
      ],
      "metadata": {
        "colab": {
          "base_uri": "https://localhost:8080/"
        },
        "id": "MZq-SqSujCWf",
        "outputId": "f86f9101-fc38-40fa-8cc1-5a95ad803e50"
      },
      "execution_count": null,
      "outputs": [
        {
          "output_type": "stream",
          "name": "stdout",
          "text": [
            "\n",
            "-- read file1.txt \n",
            "\n",
            "demo file 1 - ilne one  line twodemo file 1 - ilne one  line two\n",
            "\n",
            "-- read file2.txt \n",
            "\n",
            "demo file 2 - ilne one \n",
            "line two \n",
            "\n"
          ]
        }
      ]
    },
    {
      "cell_type": "code",
      "source": [
        "#read-invoice-1.py\n",
        "\n",
        "\"\"\"\n",
        "function\n",
        "try/except\n",
        "\"\"\"\n",
        "\n",
        "\"\"\"\n",
        "create a function to read file and compute total\n",
        "\"\"\"\n",
        "print(\"\\n-- read invoice-1.txt \\n\")\n",
        "f = open(\"invoice-1.txt\", \"r\") #text mode\n",
        "print(f.read())\n",
        "f.close()\n",
        "\n",
        "\n"
      ],
      "metadata": {
        "colab": {
          "base_uri": "https://localhost:8080/"
        },
        "id": "cigyqGDRoA_t",
        "outputId": "c09fc7fe-794d-4f16-8d9d-15c25ba7e58e"
      },
      "execution_count": null,
      "outputs": [
        {
          "output_type": "stream",
          "name": "stdout",
          "text": [
            "\n",
            "-- read invoice-1.txt \n",
            "\n",
            "12.8\n",
            "32.7\n",
            "89.45\n",
            "45.8\n",
            "23.6\n"
          ]
        }
      ]
    },
    {
      "cell_type": "code",
      "source": [
        "#read-invoice-1-1.py\n",
        "\n",
        "\"\"\"\n",
        "function\n",
        "try/except\n",
        "\"\"\"\n",
        "\n",
        "\"\"\"\n",
        "create a function to read file and compute total\n",
        "\"\"\"\n",
        "print(\"\\n-- read invoice-1.txt \\n\")\n",
        "f = open(\"invoice-1.txt\", \"r\") #text mode\n",
        "\n",
        "#read each line\n",
        "#compute total\n",
        "\n",
        "total = 0.0\n",
        "line = f.readline()\n",
        "\n",
        "while line:\n",
        "  print(line.strip())\n",
        "  line = f.readline()\n",
        "\n",
        "f.close()\n",
        "\n",
        "\n"
      ],
      "metadata": {
        "colab": {
          "base_uri": "https://localhost:8080/"
        },
        "id": "gW3_gAZRqU7g",
        "outputId": "6bdfb0e7-fdc8-4cd9-a02b-07780d754e27"
      },
      "execution_count": null,
      "outputs": [
        {
          "output_type": "stream",
          "name": "stdout",
          "text": [
            "\n",
            "-- read invoice-1.txt \n",
            "\n",
            "12.8\n",
            "32.7\n",
            "89.45\n",
            "45.8\n",
            "23.6\n"
          ]
        }
      ]
    },
    {
      "cell_type": "code",
      "source": [
        "#read-invoice-1-2.py\n",
        "\n",
        "\"\"\"\n",
        "function\n",
        "try/except - previent program exit\n",
        "\"\"\"\n",
        "\n",
        "\"\"\"\n",
        "create a function to read file and compute total\n",
        "\"\"\"\n",
        "\n",
        "total = 0.0\n",
        "\n",
        "print(\"\\n-- read invoice-1.txt \\n\")\n",
        "\n",
        "#with closes file when complete\n",
        "\n",
        "with open(\"invoice-1.txt\", \"r\") as f:\n",
        "  line = f.readline()\n",
        "  while line:\n",
        "    total += float(line.strip())\n",
        "    print(line.strip())\n",
        "    line = f.readline()\n",
        "\n",
        "print(\"\\n -- total --: \", total)\n",
        "\n"
      ],
      "metadata": {
        "colab": {
          "base_uri": "https://localhost:8080/"
        },
        "id": "TdUlijeuxoP8",
        "outputId": "6557290d-74f8-48dd-93cd-9e2b0d20ecf6"
      },
      "execution_count": null,
      "outputs": [
        {
          "output_type": "stream",
          "name": "stdout",
          "text": [
            "\n",
            "-- read invoice-1.txt \n",
            "\n",
            "12.8\n",
            "32.7\n",
            "89.45\n",
            "45.8\n",
            "23.6\n",
            "\n",
            " -- total --:  204.35\n"
          ]
        }
      ]
    },
    {
      "cell_type": "code",
      "source": [
        "#read-invoice-2.py\n",
        "\n",
        "\"\"\"\n",
        "function\n",
        "try/except - previent program exit\n",
        "\"\"\"\n",
        "\n",
        "\"\"\"\n",
        "create a function to read file and compute total\n",
        "\"\"\"\n",
        "\n",
        "\n",
        "#ValueError: could not convert string to float: ' 23.6a'\n",
        "\n",
        "_total = 0.0\n",
        "_index = 0\n",
        "\n",
        "print(\"\\n-- read invoice-1.csv.txt \\n\")\n",
        "\n",
        "#with closes file when complete\n",
        "\n",
        "with open(\"invoice-2.csv.txt\", \"r\") as f:\n",
        "  line = f.readline()\n",
        "  while line:\n",
        "    print(line.strip())\n",
        "    line = f.readline()\n",
        "    if _index > 0:\n",
        "      _row_array = line.strip().split(\",\")\n",
        "      print(\"extract row data: \", _row_array)\n",
        "      #_name = str(_row_array[0])\n",
        "      #_price = str(_row_array[1]) ## error, unable to access undex\n",
        "      #print(\"** row array len: \", len(_row_array))\n",
        "      _i = 0\n",
        "      _price = 0.0\n",
        "      for item in _row_array:\n",
        "          if _i == 1:\n",
        "            #print(item)\n",
        "            _price = float(item)\n",
        "            _total += _price\n",
        "            print(\"** price: \", _price)\n",
        "          _i += 1\n",
        "    _index += 1\n",
        "\n",
        "print(\"\\n -- total --: \", _total)\n",
        "\n",
        "\n"
      ],
      "metadata": {
        "colab": {
          "base_uri": "https://localhost:8080/",
          "height": 523
        },
        "id": "RqD-ZO8Ep5BF",
        "outputId": "4386aba4-bdcd-4dcb-cec4-a32750ddefe3"
      },
      "execution_count": 25,
      "outputs": [
        {
          "output_type": "stream",
          "name": "stdout",
          "text": [
            "\n",
            "-- read invoice-1.csv.txt \n",
            "\n",
            "name, price\n",
            "itema, 12.8\n",
            "extract row data:  ['itemb', ' 32.7']\n",
            "** price:  32.7\n",
            "itemb, 32.7\n",
            "extract row data:  ['itemc', ' 89.45']\n",
            "** price:  89.45\n",
            "itemc, 89.45\n",
            "extract row data:  ['itemd', ' 45.8']\n",
            "** price:  45.8\n",
            "itemd, 45.8\n",
            "extract row data:  ['iteme', ' 23.67']\n",
            "** price:  23.67\n",
            "iteme, 23.67\n",
            "extract row data:  ['itemf', ' 23.6a']\n"
          ]
        },
        {
          "output_type": "error",
          "ename": "ValueError",
          "evalue": "could not convert string to float: ' 23.6a'",
          "traceback": [
            "\u001b[0;31m---------------------------------------------------------------------------\u001b[0m",
            "\u001b[0;31mValueError\u001b[0m                                Traceback (most recent call last)",
            "\u001b[0;32m<ipython-input-25-9b8b8f54b720>\u001b[0m in \u001b[0;36m<cell line: 0>\u001b[0;34m()\u001b[0m\n\u001b[1;32m     33\u001b[0m           \u001b[0;32mif\u001b[0m \u001b[0m_i\u001b[0m \u001b[0;34m==\u001b[0m \u001b[0;36m1\u001b[0m\u001b[0;34m:\u001b[0m\u001b[0;34m\u001b[0m\u001b[0;34m\u001b[0m\u001b[0m\n\u001b[1;32m     34\u001b[0m             \u001b[0;31m#print(item)\u001b[0m\u001b[0;34m\u001b[0m\u001b[0;34m\u001b[0m\u001b[0m\n\u001b[0;32m---> 35\u001b[0;31m             \u001b[0m_price\u001b[0m \u001b[0;34m=\u001b[0m \u001b[0mfloat\u001b[0m\u001b[0;34m(\u001b[0m\u001b[0mitem\u001b[0m\u001b[0;34m)\u001b[0m\u001b[0;34m\u001b[0m\u001b[0;34m\u001b[0m\u001b[0m\n\u001b[0m\u001b[1;32m     36\u001b[0m             \u001b[0m_total\u001b[0m \u001b[0;34m+=\u001b[0m \u001b[0m_price\u001b[0m\u001b[0;34m\u001b[0m\u001b[0;34m\u001b[0m\u001b[0m\n\u001b[1;32m     37\u001b[0m             \u001b[0mprint\u001b[0m\u001b[0;34m(\u001b[0m\u001b[0;34m\"** price: \"\u001b[0m\u001b[0;34m,\u001b[0m \u001b[0m_price\u001b[0m\u001b[0;34m)\u001b[0m\u001b[0;34m\u001b[0m\u001b[0;34m\u001b[0m\u001b[0m\n",
            "\u001b[0;31mValueError\u001b[0m: could not convert string to float: ' 23.6a'"
          ]
        }
      ]
    },
    {
      "cell_type": "code",
      "source": [
        "#read-invoice-2-1.py\n",
        "\n",
        "\"\"\"\n",
        "function\n",
        "try/except - previent program exit\n",
        "\"\"\"\n",
        "\n",
        "\"\"\"\n",
        "create a function to read file and compute total\n",
        "\"\"\"\n",
        "\n",
        "\"\"\"\n",
        "\n",
        "invoice-2.csv.txt\n",
        "-------------------\n",
        "name, price\n",
        "itema, 12.8\n",
        "itemb, 32.7\n",
        "itemc, 89.45\n",
        "itemd, 45.8\n",
        "iteme, 23.67\n",
        "itemf, 23.6a\n",
        "\n",
        "ValueError: could not convert string to float: ' 23.6a'\n",
        "== program exit\n",
        "== exception handling, previents the program from exiting\n",
        "\n",
        "\"\"\"\n",
        "\n",
        "_total = 0.0\n",
        "_index = 0\n",
        "\n",
        "print(\"\\n-- read invoice-1.csv.txt \\n\")\n",
        "\n",
        "#with closes file when complete\n",
        "\n",
        "try:\n",
        "\n",
        "  with open(\"invoice-2.csv.txt\", \"r\") as f:\n",
        "    line = f.readline()\n",
        "    while line:\n",
        "      print(line.strip())\n",
        "      line = f.readline()\n",
        "      if _index > 0:\n",
        "        _row_array = line.strip().split(\",\")\n",
        "        print(\"extract row data: \", _row_array)\n",
        "        #_name = str(_row_array[0])\n",
        "        #_price = str(_row_array[1]) ## error, unable to access undex\n",
        "        #print(\"** row array len: \", len(_row_array))\n",
        "        _i = 0\n",
        "        _price = 0.0\n",
        "        for item in _row_array:\n",
        "            if _i == 1:\n",
        "              #print(item)\n",
        "              _price = float(item)\n",
        "              _total += _price\n",
        "              print(\"** price: \", _price)\n",
        "            _i += 1\n",
        "      _index += 1\n",
        "\n",
        "  print(\"\\n -- total --: \", _total)\n",
        "\n",
        "except Exception as ex:\n",
        "  #previent program exit, catch, process error\n",
        "  print(\"# program error #\")\n",
        "  print(ex)\n",
        "\n",
        "\n"
      ],
      "metadata": {
        "colab": {
          "base_uri": "https://localhost:8080/"
        },
        "id": "T671aaAXQ44j",
        "outputId": "a1acd2f1-de68-42bd-d823-13e7eeff5b99"
      },
      "execution_count": 29,
      "outputs": [
        {
          "output_type": "stream",
          "name": "stdout",
          "text": [
            "\n",
            "-- read invoice-1.csv.txt \n",
            "\n",
            "name, price\n",
            "itema, 12.8\n",
            "extract row data:  ['itemb', ' 32.7']\n",
            "** price:  32.7\n",
            "itemb, 32.7\n",
            "extract row data:  ['itemc', ' 89.45']\n",
            "** price:  89.45\n",
            "itemc, 89.45\n",
            "extract row data:  ['itemd', ' 45.8']\n",
            "** price:  45.8\n",
            "itemd, 45.8\n",
            "extract row data:  ['iteme', ' 23.67']\n",
            "** price:  23.67\n",
            "iteme, 23.67\n",
            "extract row data:  ['itemf', ' 23.6a']\n",
            "# program error #\n",
            "could not convert string to float: ' 23.6a'\n"
          ]
        }
      ]
    },
    {
      "cell_type": "code",
      "source": [
        "#read-invoice-2-2.py\n",
        "\n",
        "\"\"\"\n",
        "function\n",
        "try/except - previent program exit\n",
        "main entry-point\n",
        "\"\"\"\n",
        "\n",
        "def main():\n",
        "  print(\"## program start \")\n",
        "\n",
        "#pythion auto populate __name__ with = \"main\" = 1at file bering ran ,\n",
        "#\"file_name or module_name\" ie: file being imported\n",
        "print(\"__name__: \",__name__)\n",
        "\n",
        "if __name__ == \"__main__\":\n",
        "  main()\n"
      ],
      "metadata": {
        "colab": {
          "base_uri": "https://localhost:8080/"
        },
        "id": "2KI-5nJxcoAo",
        "outputId": "788a5993-f824-4f44-baca-4dbb897cd13e"
      },
      "execution_count": 30,
      "outputs": [
        {
          "output_type": "stream",
          "name": "stdout",
          "text": [
            "__name__:  __main__\n",
            "## program start \n"
          ]
        }
      ]
    },
    {
      "cell_type": "code",
      "source": [
        "#read-invoice-2-3.py\n",
        "\n",
        "\"\"\"\n",
        "function\n",
        "try/except - previent program exit\n",
        "main entry-point\n",
        "\"\"\"\n",
        "\n",
        "def main():\n",
        "    print(\"## program start \")\n",
        "\n",
        "    \"\"\"\n",
        "    function\n",
        "    try/except - previent program exit\n",
        "    \"\"\"\n",
        "\n",
        "    \"\"\"\n",
        "    create a function to read file and compute total\n",
        "    \"\"\"\n",
        "\n",
        "    \"\"\"\n",
        "\n",
        "    invoice-2.csv.txt\n",
        "    -------------------\n",
        "    name, price\n",
        "    itema, 12.8\n",
        "    itemb, 32.7\n",
        "    itemc, 89.45\n",
        "    itemd, 45.8\n",
        "    iteme, 23.67\n",
        "    itemf, 23.6a\n",
        "\n",
        "    ValueError: could not convert string to float: ' 23.6a'\n",
        "    == program exit\n",
        "    == exception handling, previents the program from exiting\n",
        "\n",
        "    \"\"\"\n",
        "\n",
        "    _total = 0.0\n",
        "    _index = 0\n",
        "\n",
        "    print(\"\\n-- read invoice-1.csv.txt \\n\")\n",
        "\n",
        "    #with closes file when complete\n",
        "\n",
        "    try:\n",
        "\n",
        "        with open(\"data\\invoice-2.csv.txt\", \"r\") as f:\n",
        "            line = f.readline()\n",
        "            while line:\n",
        "                print(line.strip())\n",
        "                line = f.readline()\n",
        "                if _index > 0:\n",
        "                #function-extract-price from line\n",
        "                #opt: move funtion into file\n",
        "                    _row_array = line.strip().split(\",\")\n",
        "                    print(\"extract row data: \", _row_array)\n",
        "                    #_name = str(_row_array[0])\n",
        "                    #_price = str(_row_array[1]) ## error, unable to access undex\n",
        "                    #print(\"** row array len: \", len(_row_array))\n",
        "                    _i = 0\n",
        "                    _price = 0.0\n",
        "                    for item in _row_array:\n",
        "                        if _i == 1:\n",
        "                            #print(item)\n",
        "                            _price = float(item)\n",
        "                            _total += _price\n",
        "                            print(\"** price: \", _price)\n",
        "                            _i += 1\n",
        "                _index += 1\n",
        "\n",
        "        print(\"\\n -- total --: \", _total)\n",
        "\n",
        "    except Exception as ex:\n",
        "        #previent program exit, catch, process error\n",
        "        print(\"# program error #\")\n",
        "        print(ex)\n",
        "\n",
        "\n",
        "\n",
        "#pythion auto populate __name__ with = \"main\" = 1at file bering ran ,\n",
        "#\"file_name or module_name\" ie: file being imported\n",
        "print(\"__name__: \",__name__)\n",
        "\n",
        "if __name__ == \"__main__\":\n",
        "  main()\n",
        "\n",
        "\n"
      ],
      "metadata": {
        "id": "BahxXiQwfu9g"
      },
      "execution_count": null,
      "outputs": []
    },
    {
      "cell_type": "code",
      "source": [
        "#python main entry point\n",
        "#python modules/libraries - export/import own python libraries\n",
        "#conole program args/parameters ie: program1.py name email other\n",
        "\n"
      ],
      "metadata": {
        "id": "9kXEj11BzDw0"
      },
      "execution_count": null,
      "outputs": []
    }
  ]
}